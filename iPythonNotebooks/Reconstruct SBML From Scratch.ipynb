{
 "cells": [
  {
   "cell_type": "markdown",
   "id": "d6acf017",
   "metadata": {},
   "source": [
    "# Reconstruct the SBML from a set of reactions\n",
    "\n",
    "This is to test the FBA toolchain"
   ]
  },
  {
   "cell_type": "code",
   "execution_count": 1,
   "id": "33fa9c38",
   "metadata": {},
   "outputs": [
    {
     "name": "stderr",
     "output_type": "stream",
     "text": [
      "We are using /home/redwards/GitHubsLinux/PyFBA/venv/lib/python3.9/site-packages/PyFBA-2.4-py3.9.egg/PyFBA/Biochemistry/ModelSEEDDatabase for our data\n"
     ]
    },
    {
     "data": {
      "text/plain": [
       "'/home/redwards/GitHubsLinux/PyFBA/venv/lib/python3.9/site-packages/PyFBA-2.4-py3.9.egg/PyFBA/__init__.py'"
      ]
     },
     "execution_count": 1,
     "metadata": {},
     "output_type": "execute_result"
    }
   ],
   "source": [
    "import sys\n",
    "import os\n",
    "import copy\n",
    "import PyFBA\n",
    "import re\n",
    "\n",
    "import inspect\n",
    "inspect.getfile(PyFBA)"
   ]
  },
  {
   "cell_type": "markdown",
   "id": "f22be327",
   "metadata": {},
   "source": [
    "# Read the Reactions, Enzymes, and Compounds Sets\n",
    "\n",
    "This parses the ModelSeed data"
   ]
  },
  {
   "cell_type": "code",
   "execution_count": 2,
   "id": "70831dcd",
   "metadata": {},
   "outputs": [
    {
     "name": "stdout",
     "output_type": "stream",
     "text": [
      "There are 33,992 compounds, 43,774 reactions, and 9,423 enzymes in total\n"
     ]
    }
   ],
   "source": [
    "modelseed = PyFBA.parse.model_seed.parse_model_seed_data('gramnegative')\n",
    "print(f\"There are {len(modelseed.compounds):,} compounds, {len(modelseed.reactions):,} reactions, and {len(modelseed.enzymes):,} enzymes in total\")"
   ]
  },
  {
   "cell_type": "markdown",
   "id": "ea60dea9",
   "metadata": {},
   "source": [
    "# Create a biomass equation"
   ]
  },
  {
   "cell_type": "code",
   "execution_count": 3,
   "id": "e10a2bb6",
   "metadata": {},
   "outputs": [
    {
     "name": "stderr",
     "output_type": "stream",
     "text": [
      "We found |L-Phenylalanine| for cpd00066 in the model seed, but have |L_Phenylalanine| in the equation\n",
      "We found |Pyridoxal phosphate| for cpd00016 in the model seed, but have |Pyridoxal_phosphate| in the equation\n",
      "We found |L-Asparagine| for cpd00132 in the model seed, but have |L_Asparagine| in the equation\n",
      "We found |L-Valine| for cpd00156 in the model seed, but have |L_Valine| in the equation\n",
      "We found |Cl-| for cpd00099 in the model seed, but have |Cl_| in the equation\n",
      "We found |Protein biosynthesis| for cpd17041 in the model seed, but have |Protein_biosynthesis| in the equation\n",
      "We found |L-Isoleucine| for cpd00322 in the model seed, but have |L_Isoleucine| in the equation\n",
      "We found |RNA transcription| for cpd17043 in the model seed, but have |RNA_transcription| in the equation\n",
      "We found |Fe+2| for cpd10515 in the model seed, but have |Fe2| in the equation\n",
      "We found |Bactoprenyl diphosphate| for cpd02229 in the model seed, but have |Bactoprenyl_diphosphate| in the equation\n",
      "We found |L-Threonine| for cpd00161 in the model seed, but have |L_Threonine| in the equation\n",
      "We found |L-Methionine| for cpd00060 in the model seed, but have |L_Methionine| in the equation\n",
      "We found |L-Histidine| for cpd00119 in the model seed, but have |L_Histidine| in the equation\n",
      "We found |L-Arginine| for cpd00051 in the model seed, but have |L_Arginine| in the equation\n",
      "We found |Peptidoglycan polymer (n subunits)| for cpd15665 in the model seed, but have |Peptidoglycan_polymer_n_subunits| in the equation\n",
      "We found |S-Adenosyl-L-methionine| for cpd00017 in the model seed, but have |S_Adenosyl_L_methionine| in the equation\n",
      "We found |Mn2+| for cpd00030 in the model seed, but have |Mn2| in the equation\n",
      "We found |Fe+3| for cpd10516 in the model seed, but have |fe3| in the equation\n",
      "We found |L-Tryptophan| for cpd00065 in the model seed, but have |L_Tryptophan| in the equation\n",
      "We found |L-Cysteine| for cpd00084 in the model seed, but have |L_Cysteine| in the equation\n",
      "We found |L-Glutamate| for cpd00023 in the model seed, but have |L_Glutamate| in the equation\n",
      "We found |DNA replication| for cpd17042 in the model seed, but have |DNA_replication| in the equation\n",
      "We found |L-Alanine| for cpd00035 in the model seed, but have |L_Alanine| in the equation\n",
      "We found |L-Tyrosine| for cpd00069 in the model seed, but have |L_Tyrosine| in the equation\n",
      "We found |L-Proline| for cpd00129 in the model seed, but have |L_Proline| in the equation\n",
      "We found |K+| for cpd00205 in the model seed, but have |K| in the equation\n",
      "We found |Co2+| for cpd00149 in the model seed, but have |Co2| in the equation\n",
      "We found |Ca2+| for cpd00063 in the model seed, but have |Ca2| in the equation\n",
      "We found |L-Serine| for cpd00054 in the model seed, but have |L_Serine| in the equation\n",
      "We found |L-Leucine| for cpd00107 in the model seed, but have |L_Leucine| in the equation\n",
      "We found |L-Glutamine| for cpd00053 in the model seed, but have |L_Glutamine| in the equation\n",
      "We found |L-Lysine| for cpd00039 in the model seed, but have |L_Lysine| in the equation\n",
      "We found |Zn2+| for cpd00034 in the model seed, but have |Zn2| in the equation\n",
      "We found |Cu2+| for cpd00058 in the model seed, but have |Cu2| in the equation\n",
      "We found |L-Aspartate| for cpd00041 in the model seed, but have |L_Aspartate| in the equation\n",
      "We found |H+| for cpd00067 in the model seed, but have |H| in the equation\n",
      "We found |apo-ACP| for cpd12370 in the model seed, but have |apo_ACP| in the equation\n",
      "We found |Peptidoglycan polymer (n-1 subunits)| for cpd15666 in the model seed, but have |Peptidoglycan_polymer_n_1_subunits| in the equation\n"
     ]
    }
   ],
   "source": [
    "sbml_bm_eqn = '(0.00778132482043096) cpd00063: Ca2 (location: c) +  (0.352889948968272) cpd00156: L_Valine (location: e) +  (0.00778132482043096) cpd00030: Mn2 (location: e) +  (0.00778132482043096) cpd00205: K (location: c) +  (0.428732289454499) cpd00035: L_Alanine (location: e) +  (0.128039715997337) cpd00060: L_Methionine (location: e) +  (0.15480760087483) cpd00066: L_Phenylalanine (location: c) +  (0.00778132482043096) cpd00017: S_Adenosyl_L_methionine (location: c) +  (0.00778132482043096) cpd00010: CoA (location: c) +  (0.0609084652443221) cpd15665: Peptidoglycan_polymer_n_subunits (location: c) +  (0.0841036156544863) cpd00052: CTP (location: c) +  (0.00778132482043096) cpd10516: fe3 (location: e) +  (0.01468498342018) cpd00357: TTP (location: c) +  (0.00778132482043096) cpd00099: Cl_ (location: e) +  (0.01468498342018) cpd00356: dCTP (location: c) +  (0.00778132482043096) cpd10515: Fe2 (location: e) +  (0.00778132482043096) cpd00254: Mg (location: c) +  (0.242249358141304) cpd00322: L_Isoleucine (location: e) +  (0.00778132482043096) cpd00058: Cu2 (location: e) +  (0.00778132482043096) cpd00149: Co2 (location: c) +  (0.201205267995816) cpd00041: L_Aspartate (location: e) +  (1) cpd17043: RNA_transcription (location: c) +  (0.219496655995436) cpd00023: L_Glutamate (location: e) +  (0.219496655995436) cpd00053: L_Glutamine (location: e) +  (0.376088782528765) cpd00107: L_Leucine (location: e) +  (0.00778132482043096) cpd00220: Riboflavin (location: e) +  (0.179790960093822) cpd00054: L_Serine (location: e) +  (0.0472899299502361) cpd00065: L_Tryptophan (location: e) +  (0.0609084652443221) cpd02229: Bactoprenyl_diphosphate (location: c) +  (0.00778132482043096) cpd11493: ACP (location: c) +  (1) cpd17041: Protein_biosynthesis (location: c) +  (0.184698405654696) cpd00129: L_Proline (location: e) +  (0.135406821203723) cpd00038: GTP (location: c) +  (0.01468498342018) cpd00241: dGTP (location: c) +  (1) cpd17042: DNA_replication (location: c) +  (0.211466290532188) cpd00161: L_Threonine (location: e) +  (40.1101757365074) cpd00002: ATP (location: c) +  (0.00778132482043096) cpd00016: Pyridoxal_phosphate (location: c) +  (0.00778132482043096) cpd00048: Sulfate (location: e) +  (0.00778132482043096) cpd00003: NAD (location: c) +  (0.01468498342018) cpd00115: dATP (location: c) +  (0.115101904973216) cpd00069: L_Tyrosine (location: e) +  (0.00778132482043096) cpd00015: FAD (location: c) +  (0.201205267995816) cpd00132: L_Asparagine (location: e) +  (0.00778132482043096) cpd00006: NADP (location: c) +  (35.5386858537513) cpd00001: H2O (location: e) +  (0.0762884719008526) cpd00084: L_Cysteine (location: c) +  (0.0794113918032267) cpd00119: L_Histidine (location: e) +  (0.285970236774541) cpd00039: L_Lysine (location: e) +  (0.0908319049068452) cpd00062: UTP (location: c) +  (0.00778132482043096) cpd00034: Zn2 (location: e) +  (0.247156803702178) cpd00051: L_Arginine (location: e) +  (0.510820469745475) cpd00033: Glycine (location: e) >  (40) cpd00008: ADP (location: c) +  (39.9922186751796) cpd00009: Phosphate (location: e) +  (0.00778132482043096) cpd12370: apo_ACP (location: c) +  (1) cpd11416: Biomass (location: c) +  (40) cpd00067: H (location: e) +  (0.0609084652443221) cpd15666: Peptidoglycan_polymer_n_1_subunits (location: c) +  (0.405833094852252) cpd00012: PPi (location: e)'\n",
    "sbml_left_compounds = {'cpd00066: L_Phenylalanine (location: c)' : 0.15480760087483,  'cpd00016: Pyridoxal_phosphate (location: c)' : 0.00778132482043096,  'cpd00132: L_Asparagine (location: e)' : 0.201205267995816,  'cpd00156: L_Valine (location: e)' : 0.352889948968272,  'cpd00099: Cl_ (location: e)' : 0.00778132482043096,  'cpd00038: GTP (location: c)' : 0.135406821203723,  'cpd00003: NAD (location: c)' : 0.00778132482043096,  'cpd17041: Protein_biosynthesis (location: c)' : 1.0,  'cpd00033: Glycine (location: e)' : 0.510820469745475,  'cpd00322: L_Isoleucine (location: e)' : 0.242249358141304,  'cpd00254: Mg (location: c)' : 0.00778132482043096,  'cpd17043: RNA_transcription (location: c)' : 1.0,  'cpd00048: Sulfate (location: e)' : 0.00778132482043096,  'cpd10515: Fe2 (location: e)' : 0.00778132482043096,  'cpd02229: Bactoprenyl_diphosphate (location: c)' : 0.0609084652443221,  'cpd11493: ACP (location: c)' : 0.00778132482043096,  'cpd00161: L_Threonine (location: e)' : 0.211466290532188,  'cpd00006: NADP (location: c)' : 0.00778132482043096,  'cpd00060: L_Methionine (location: e)' : 0.128039715997337,  'cpd00119: L_Histidine (location: e)' : 0.0794113918032267,  'cpd00052: CTP (location: c)' : 0.0841036156544863,  'cpd00051: L_Arginine (location: e)' : 0.247156803702178,  'cpd15665: Peptidoglycan_polymer_n_subunits (location: c)' : 0.0609084652443221,  'cpd00017: S_Adenosyl_L_methionine (location: c)' : 0.00778132482043096,  'cpd00030: Mn2 (location: e)' : 0.00778132482043096,  'cpd10516: fe3 (location: e)' : 0.00778132482043096,  'cpd00065: L_Tryptophan (location: e)' : 0.0472899299502361,  'cpd00084: L_Cysteine (location: c)' : 0.0762884719008526,  'cpd00023: L_Glutamate (location: e)' : 0.219496655995436,  'cpd17042: DNA_replication (location: c)' : 1.0,  'cpd00356: dCTP (location: c)' : 0.01468498342018,  'cpd00035: L_Alanine (location: e)' : 0.428732289454499,  'cpd00069: L_Tyrosine (location: e)' : 0.115101904973216,  'cpd00220: Riboflavin (location: e)' : 0.00778132482043096,  'cpd00129: L_Proline (location: e)' : 0.184698405654696,  'cpd00357: TTP (location: c)' : 0.01468498342018,  'cpd00205: K (location: c)' : 0.00778132482043096,  'cpd00149: Co2 (location: c)' : 0.00778132482043096,  'cpd00063: Ca2 (location: c)' : 0.00778132482043096,  'cpd00054: L_Serine (location: e)' : 0.179790960093822,  'cpd00001: H2O (location: e)' : 35.5386858537513,  'cpd00010: CoA (location: c)' : 0.00778132482043096,  'cpd00015: FAD (location: c)' : 0.00778132482043096,  'cpd00062: UTP (location: c)' : 0.0908319049068452,  'cpd00107: L_Leucine (location: e)' : 0.376088782528765,  'cpd00241: dGTP (location: c)' : 0.01468498342018,  'cpd00053: L_Glutamine (location: e)' : 0.219496655995436,  'cpd00039: L_Lysine (location: e)' : 0.285970236774541,  'cpd00034: Zn2 (location: e)' : 0.00778132482043096,  'cpd00058: Cu2 (location: e)' : 0.00778132482043096,  'cpd00002: ATP (location: c)' : 40.1101757365074,  'cpd00041: L_Aspartate (location: e)' : 0.201205267995816,  'cpd00115: dATP (location: c)' : 0.01468498342018}\n",
    "sbml_right_compounds = {'cpd00067: H (location: e)' : 40.0,  'cpd00012: PPi (location: e)' : 0.405833094852252,  'cpd00008: ADP (location: c)' : 40.0,  'cpd11416: Biomass (location: c)' : 1.0,  'cpd12370: apo_ACP (location: c)' : 0.00778132482043096,  'cpd00009: Phosphate (location: e)' : 39.9922186751796,  'cpd15666: Peptidoglycan_polymer_n_1_subunits (location: c)' : 0.0609084652443221}\n",
    "sbml_biomass = PyFBA.metabolism.Reaction('sbml_biomass', 'sbml_biomass')\n",
    "sbml_biomass.equation = sbml_bm_eqn\n",
    "parsecomp = re.compile('^(cpd\\\\d+): (.*?) \\(location: (.)\\)')\n",
    "for c in sbml_left_compounds:\n",
    "    m = parsecomp.match(c)\n",
    "    if not m:\n",
    "        sys.stderr.write(f\"Can't parse {c}\\n\")\n",
    "        \n",
    "    cpd = modelseed.get_compound_by_id(m.group(1))\n",
    "    if not cpd:\n",
    "        cpd = modelseed.get_compound_by_name(m.group(1))    \n",
    "    if not cpd:\n",
    "        print(f\"Left: {m.group(1)} not found\")\n",
    "        continue\n",
    "\n",
    "    if cpd.name != m.group(2):\n",
    "        sys.stderr.write(f\"We found |{cpd.name}| for {m.group(1)} in the model seed, but have |{m.group(2)}| in the equation\\n\")\n",
    "    newcomp = PyFBA.metabolism.CompoundWithLocation.from_compound(cpd, m.group(3))\n",
    "    sbml_biomass.add_left_compounds({newcomp})\n",
    "    sbml_biomass.set_left_compound_abundance(newcomp, sbml_left_compounds[c])\n",
    "        \n",
    "\n",
    "for c in sbml_right_compounds:\n",
    "    m = parsecomp.match(c)\n",
    "    if not m:\n",
    "        sys.stderr.write(f\"Can't parse {c}\\n\")\n",
    "\n",
    "    cpd = modelseed.get_compound_by_id(m.group(1))\n",
    "    if not cpd:\n",
    "        cpd = modelseed.get_compound_by_name(m.group(1))    \n",
    "    if not cpd:\n",
    "        print(f\"Left: {m.group(1)} not found\")\n",
    "        continue\n",
    "        \n",
    "    if cpd.name != m.group(2):\n",
    "        sys.stderr.write(f\"We found |{cpd.name}| for {m.group(1)} in the model seed, but have |{m.group(2)}| in the equation\\n\")\n",
    "    newcomp = PyFBA.metabolism.CompoundWithLocation.from_compound(cpd, m.group(3))\n",
    "    sbml_biomass.add_right_compounds({newcomp})\n",
    "    sbml_biomass.set_right_compound_abundance(newcomp, sbml_right_compounds[c])\n"
   ]
  },
  {
   "cell_type": "markdown",
   "id": "b7de07ba",
   "metadata": {},
   "source": [
    "# Read the media and correct the names"
   ]
  },
  {
   "cell_type": "code",
   "execution_count": 4,
   "id": "26d69622",
   "metadata": {},
   "outputs": [
    {
     "name": "stdout",
     "output_type": "stream",
     "text": [
      "Found media component by name cpd01012: Cd2+ (location: e)\n",
      "Found media component by name cpd00041: L-Aspartate (location: e)\n",
      "Found media component by name cpd00035: L-Alanine (location: e)\n",
      "Found media component by name cpd00009: Phosphate (location: e)\n",
      "Found media component by name cpd00058: Cu2+ (location: e)\n",
      "Found media component by name cpd00971: Na+ (location: e)\n",
      "Found media component by name cpd00381: L-Cystine (location: e)\n",
      "Found media component by name cpd00126: GMP (location: e)\n",
      "Found media component by name cpd00239: H2S (location: e)\n",
      "Found media component by name cpd00066: L-Phenylalanine (location: e)\n",
      "Found media component by name cpd00311: Guanosine (location: e)\n",
      "Found media component by name cpd00039: L-Lysine (location: e)\n",
      "Found media component by name cpd00007: O2 (location: e)\n",
      "Found media component by name cpd00018: AMP (location: e)\n",
      "Found media component by name cpd00046: CMP (location: e)\n",
      "Found media component by name cpd00161: L-Threonine (location: e)\n",
      "Found media component by name cpd11574: Molybdate (location: e)\n",
      "Found media component by name cpd00215: Pyridoxal (location: e)\n",
      "Found media component by name cpd00092: Uracil (location: e)\n",
      "Found media component by name cpd00001: H2O (location: e)\n",
      "Found media component by name cpd03424: Vitamin B12 (location: e)\n",
      "Found media component by name cpd00069: L-Tyrosine (location: e)\n",
      "Found media component by name cpd00107: L-Leucine (location: e)\n",
      "Found media component by name cpd00065: L-Tryptophan (location: e)\n",
      "Found media component by name cpd00226: HYXN (location: e)\n",
      "Found media component by name cpd00218: Niacin (location: e)\n",
      "Found media component by name cpd00033: Glycine (location: e)\n",
      "Found media component by name cpd00654: Deoxycytidine (location: e)\n",
      "Found media component by name cpd01048: Arsenate (location: e)\n",
      "Found media component by name cpd00182: Adenosine (location: e)\n",
      "Found media component by name cpd00156: L-Valine (location: e)\n",
      "Found media component by name cpd00249: Uridine (location: e)\n",
      "Found media component by name cpd00099: Cl- (location: e)\n",
      "Found media component by name cpd00184: Thymidine (location: e)\n",
      "Found media component by name cpd00246: Inosine (location: e)\n",
      "Found media component by name cpd00119: L-Histidine (location: e)\n",
      "Found media component by name cpd00067: H+ (location: e)\n",
      "Found media component by name cpd00322: L-Isoleucine (location: e)\n",
      "Found media component by name cpd00091: UMP (location: e)\n",
      "Found media component by name cpd00793: Thiamine phosphate (location: e)\n",
      "Found media component by name cpd00541: Lipoate (location: e)\n",
      "Found media component by name cpd00030: Mn2+ (location: e)\n",
      "Found media component by name cpd00028: Heme (location: e)\n",
      "Found media component by name cpd00054: L-Serine (location: e)\n",
      "Found media component by name cpd00531: Hg2+ (location: e)\n",
      "Found media component by name cpd00027: D-Glucose (location: e)\n",
      "Found media component by name cpd00060: L-Methionine (location: e)\n",
      "Found media component by name cpd00438: Deoxyadenosine (location: e)\n",
      "Found media component by name cpd29996: Mg (location: e)\n",
      "Found media component by name cpd00051: L-Arginine (location: e)\n",
      "Found media component by name cpd00644: PAN (location: e)\n",
      "Found media component by name cpd00244: Ni2+ (location: e)\n",
      "Found media component by name cpd00034: Zn2+ (location: e)\n",
      "Found media component by name cpd00205: K+ (location: e)\n",
      "Found media component by name cpd00063: Ca2+ (location: e)\n",
      "Found media component by name cpd00149: Co2+ (location: e)\n",
      "Found media component by name cpd00220: Riboflavin (location: e)\n",
      "Found media component by name cpd00393: Folate (location: e)\n",
      "Found media component by name cpd00023: L-Glutamate (location: e)\n",
      "Found media component by name cpd11595: chromate (location: e)\n",
      "Found media component by name cpd00048: Sulfate (location: e)\n",
      "Found media component by name cpd00013: NH3 (location: e)\n",
      "Found media component by name cpd00129: L-Proline (location: e)\n",
      "The media has 65 compounds\n"
     ]
    },
    {
     "name": "stderr",
     "output_type": "stream",
     "text": [
      "We are logging to /home/redwards/GitHubsLinux/PyFBA/iPythonNotebooks/PyFBA.2021-06-07T12:03:27.322293.log\n",
      "Checking media compounds: Our compounds do not include  Fe2+\n",
      "Checking media compounds: Our compounds do not include  fe3\n",
      "Please note: The warnings about media not being found in compounds are not fatal.\n",
      "It just means that we did not find that compound anywhere in the reactions, and so it is unlikely to be\n",
      "needed or used. We typically see a few of these in rich media.\n"
     ]
    }
   ],
   "source": [
    "# Read the media file\n",
    "media = PyFBA.parse.read_media_file(\"/home/redwards/.local/lib/python3.9/site-packages/PyFBA-2.1-py3.9.egg/PyFBA/Biochemistry/media/ArgonneLB.txt\")\n",
    "# Correct the names\n",
    "media = PyFBA.parse.correct_media_names(media, modelseed.compounds)\n",
    "print(f\"The media has {len(media)} compounds\")"
   ]
  },
  {
   "cell_type": "markdown",
   "id": "bfa0e006",
   "metadata": {},
   "source": [
    "# Read the reactions"
   ]
  },
  {
   "cell_type": "code",
   "execution_count": 5,
   "id": "ad3316f0",
   "metadata": {},
   "outputs": [
    {
     "name": "stdout",
     "output_type": "stream",
     "text": [
      "There are 1399 reactions\n"
     ]
    }
   ],
   "source": [
    "reactions_to_run = set()\n",
    "with open('rgood.txt', 'r') as f:\n",
    "    for l in f:\n",
    "        if l.startswith('rxn'):\n",
    "            reactions_to_run.add(l.strip())\n",
    "print(f\"There are {len(reactions_to_run)} reactions\")"
   ]
  },
  {
   "cell_type": "markdown",
   "id": "1c9a5a75",
   "metadata": {},
   "source": [
    "# Add the biomass equation to the reactions to run"
   ]
  },
  {
   "cell_type": "code",
   "execution_count": 6,
   "id": "5b6bd6b4",
   "metadata": {},
   "outputs": [],
   "source": [
    "#reactions_to_run.add(sbml_biomass)"
   ]
  },
  {
   "cell_type": "code",
   "execution_count": 7,
   "id": "f0450d2b",
   "metadata": {},
   "outputs": [],
   "source": [
    "for r in reactions_to_run:\n",
    "    if r not in modelseed.reactions:\n",
    "        sys.stderr.write(f\"Error: reaction {r} not found\\n\")"
   ]
  },
  {
   "cell_type": "markdown",
   "id": "21c8111d",
   "metadata": {},
   "source": [
    "# Run the FBA"
   ]
  },
  {
   "cell_type": "code",
   "execution_count": 8,
   "id": "5c3a5b2b",
   "metadata": {},
   "outputs": [],
   "source": [
    "uptake_secretion_reactions = set()"
   ]
  },
  {
   "cell_type": "code",
   "execution_count": 9,
   "id": "f6f3243c",
   "metadata": {},
   "outputs": [
    {
     "name": "stderr",
     "output_type": "stream",
     "text": [
      "In the model there are : 1402 compounds and 1643 reactions\n",
      "We are loading 1402 rows and 1643 columns\n"
     ]
    },
    {
     "name": "stdout",
     "output_type": "stream",
     "text": [
      "The FBA completed with a flux value of 0.0 --> growth: False\n"
     ]
    },
    {
     "name": "stderr",
     "output_type": "stream",
     "text": [
      "Length of the media: 65\n",
      "Number of reactions to run: 1399\n",
      "Number of compounds in SM: 1402\n",
      "Number of reactions in SM: 1643\n",
      "Revised number of total reactions: 44017\n",
      "Number of total compounds: 34092\n",
      "SMat dimensions: 1402 x 1643\n"
     ]
    }
   ],
   "source": [
    "status, value, growth = PyFBA.fba.run_fba(modelseed.compounds, modelseed.reactions,\n",
    "                                          reactions_to_run, media, sbml_biomass,\n",
    "                                          uptake_secretion_reactions, verbose=True)\n",
    "print(\"The FBA completed with a flux value of {} --> growth: {}\".format(value, growth))\n"
   ]
  },
  {
   "cell_type": "code",
   "execution_count": null,
   "id": "e2b26673",
   "metadata": {},
   "outputs": [],
   "source": []
  }
 ],
 "metadata": {
  "kernelspec": {
   "display_name": "PyFBA_venv",
   "language": "python",
   "name": "pyfba_venv"
  },
  "language_info": {
   "codemirror_mode": {
    "name": "ipython",
    "version": 3
   },
   "file_extension": ".py",
   "mimetype": "text/x-python",
   "name": "python",
   "nbconvert_exporter": "python",
   "pygments_lexer": "ipython3",
   "version": "3.9.1"
  }
 },
 "nbformat": 4,
 "nbformat_minor": 5
}
