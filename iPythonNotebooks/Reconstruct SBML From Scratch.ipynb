{
 "cells": [
  {
   "cell_type": "markdown",
   "id": "d6acf017",
   "metadata": {},
   "source": [
    "# Reconstruct the SBML from a set of reactions\n",
    "\n",
    "This is to test the FBA toolchain"
   ]
  },
  {
   "cell_type": "code",
   "execution_count": 1,
   "id": "33fa9c38",
   "metadata": {},
   "outputs": [
    {
     "name": "stderr",
     "output_type": "stream",
     "text": [
      "We are using /home/redwards/.local/lib/python3.9/site-packages/PyFBA-2.0-py3.9.egg/PyFBA/Biochemistry/ModelSEEDDatabase for our data\n"
     ]
    },
    {
     "data": {
      "text/plain": [
       "'/home/redwards/GitHubsLinux/PyFBA/venv/lib/python3.9/site-packages/PyFBA-2.4-py3.9.egg/PyFBA/__init__.py'"
      ]
     },
     "execution_count": 1,
     "metadata": {},
     "output_type": "execute_result"
    }
   ],
   "source": [
    "import sys\n",
    "import os\n",
    "import copy\n",
    "import PyFBA\n",
    "import re\n",
    "\n",
    "import inspect\n",
    "inspect.getfile(PyFBA)"
   ]
  },
  {
   "cell_type": "markdown",
   "id": "f22be327",
   "metadata": {},
   "source": [
    "# Read the Reactions, Enzymes, and Compounds Sets\n",
    "\n",
    "This parses the ModelSeed data"
   ]
  },
  {
   "cell_type": "code",
   "execution_count": 2,
   "id": "70831dcd",
   "metadata": {},
   "outputs": [
    {
     "name": "stdout",
     "output_type": "stream",
     "text": [
      "There are 33,992 compounds, 43,774 reactions, and 9,423 enzymes in total\n"
     ]
    }
   ],
   "source": [
    "modelseed = PyFBA.parse.model_seed.parse_model_seed_data('gramnegative')\n",
    "print(f\"There are {len(modelseed.compounds):,} compounds, {len(modelseed.reactions):,} reactions, and {len(modelseed.enzymes):,} enzymes in total\")"
   ]
  },
  {
   "cell_type": "markdown",
   "id": "ea60dea9",
   "metadata": {},
   "source": [
    "# Create a biomass equation"
   ]
  },
  {
   "cell_type": "code",
   "execution_count": 3,
   "id": "e10a2bb6",
   "metadata": {},
   "outputs": [
    {
     "name": "stderr",
     "output_type": "stream",
     "text": [
      "We found |L-Phenylalanine| for cpd00066 in the model seed, but have |L_Phenylalanine| in the equation\n",
      "We found |Pyridoxal phosphate| for cpd00016 in the model seed, but have |Pyridoxal_phosphate| in the equation\n",
      "We found |L-Asparagine| for cpd00132 in the model seed, but have |L_Asparagine| in the equation\n",
      "We found |L-Valine| for cpd00156 in the model seed, but have |L_Valine| in the equation\n",
      "We found |Cl-| for cpd00099 in the model seed, but have |Cl_| in the equation\n",
      "We found |Protein biosynthesis| for cpd17041 in the model seed, but have |Protein_biosynthesis| in the equation\n",
      "We found |L-Isoleucine| for cpd00322 in the model seed, but have |L_Isoleucine| in the equation\n",
      "We found |RNA transcription| for cpd17043 in the model seed, but have |RNA_transcription| in the equation\n",
      "We found |Fe+2| for cpd10515 in the model seed, but have |Fe2| in the equation\n",
      "We found |Bactoprenyl diphosphate| for cpd02229 in the model seed, but have |Bactoprenyl_diphosphate| in the equation\n",
      "We found |L-Threonine| for cpd00161 in the model seed, but have |L_Threonine| in the equation\n",
      "We found |L-Methionine| for cpd00060 in the model seed, but have |L_Methionine| in the equation\n",
      "We found |L-Histidine| for cpd00119 in the model seed, but have |L_Histidine| in the equation\n",
      "We found |L-Arginine| for cpd00051 in the model seed, but have |L_Arginine| in the equation\n",
      "We found |Peptidoglycan polymer (n subunits)| for cpd15665 in the model seed, but have |Peptidoglycan_polymer_n_subunits| in the equation\n",
      "We found |S-Adenosyl-L-methionine| for cpd00017 in the model seed, but have |S_Adenosyl_L_methionine| in the equation\n",
      "We found |Mn2+| for cpd00030 in the model seed, but have |Mn2| in the equation\n",
      "We found |Fe+3| for cpd10516 in the model seed, but have |fe3| in the equation\n",
      "We found |L-Tryptophan| for cpd00065 in the model seed, but have |L_Tryptophan| in the equation\n",
      "We found |L-Cysteine| for cpd00084 in the model seed, but have |L_Cysteine| in the equation\n",
      "We found |L-Glutamate| for cpd00023 in the model seed, but have |L_Glutamate| in the equation\n",
      "We found |DNA replication| for cpd17042 in the model seed, but have |DNA_replication| in the equation\n",
      "We found |L-Alanine| for cpd00035 in the model seed, but have |L_Alanine| in the equation\n",
      "We found |L-Tyrosine| for cpd00069 in the model seed, but have |L_Tyrosine| in the equation\n",
      "We found |L-Proline| for cpd00129 in the model seed, but have |L_Proline| in the equation\n",
      "We found |K+| for cpd00205 in the model seed, but have |K| in the equation\n",
      "We found |Co2+| for cpd00149 in the model seed, but have |Co2| in the equation\n",
      "We found |Ca2+| for cpd00063 in the model seed, but have |Ca2| in the equation\n",
      "We found |L-Serine| for cpd00054 in the model seed, but have |L_Serine| in the equation\n",
      "We found |L-Leucine| for cpd00107 in the model seed, but have |L_Leucine| in the equation\n",
      "We found |L-Glutamine| for cpd00053 in the model seed, but have |L_Glutamine| in the equation\n",
      "We found |L-Lysine| for cpd00039 in the model seed, but have |L_Lysine| in the equation\n",
      "We found |Zn2+| for cpd00034 in the model seed, but have |Zn2| in the equation\n",
      "We found |Cu2+| for cpd00058 in the model seed, but have |Cu2| in the equation\n",
      "We found |L-Aspartate| for cpd00041 in the model seed, but have |L_Aspartate| in the equation\n",
      "We found |H+| for cpd00067 in the model seed, but have |H| in the equation\n",
      "We found |apo-ACP| for cpd12370 in the model seed, but have |apo_ACP| in the equation\n",
      "We found |Peptidoglycan polymer (n-1 subunits)| for cpd15666 in the model seed, but have |Peptidoglycan_polymer_n_1_subunits| in the equation\n"
     ]
    }
   ],
   "source": [
    "sbml_bm_eqn = '(0.00778132482043096) cpd00063: Ca2 (location: c) +  (0.352889948968272) cpd00156: L_Valine (location: e) +  (0.00778132482043096) cpd00030: Mn2 (location: e) +  (0.00778132482043096) cpd00205: K (location: c) +  (0.428732289454499) cpd00035: L_Alanine (location: e) +  (0.128039715997337) cpd00060: L_Methionine (location: e) +  (0.15480760087483) cpd00066: L_Phenylalanine (location: c) +  (0.00778132482043096) cpd00017: S_Adenosyl_L_methionine (location: c) +  (0.00778132482043096) cpd00010: CoA (location: c) +  (0.0609084652443221) cpd15665: Peptidoglycan_polymer_n_subunits (location: c) +  (0.0841036156544863) cpd00052: CTP (location: c) +  (0.00778132482043096) cpd10516: fe3 (location: e) +  (0.01468498342018) cpd00357: TTP (location: c) +  (0.00778132482043096) cpd00099: Cl_ (location: e) +  (0.01468498342018) cpd00356: dCTP (location: c) +  (0.00778132482043096) cpd10515: Fe2 (location: e) +  (0.00778132482043096) cpd00254: Mg (location: c) +  (0.242249358141304) cpd00322: L_Isoleucine (location: e) +  (0.00778132482043096) cpd00058: Cu2 (location: e) +  (0.00778132482043096) cpd00149: Co2 (location: c) +  (0.201205267995816) cpd00041: L_Aspartate (location: e) +  (1) cpd17043: RNA_transcription (location: c) +  (0.219496655995436) cpd00023: L_Glutamate (location: e) +  (0.219496655995436) cpd00053: L_Glutamine (location: e) +  (0.376088782528765) cpd00107: L_Leucine (location: e) +  (0.00778132482043096) cpd00220: Riboflavin (location: e) +  (0.179790960093822) cpd00054: L_Serine (location: e) +  (0.0472899299502361) cpd00065: L_Tryptophan (location: e) +  (0.0609084652443221) cpd02229: Bactoprenyl_diphosphate (location: c) +  (0.00778132482043096) cpd11493: ACP (location: c) +  (1) cpd17041: Protein_biosynthesis (location: c) +  (0.184698405654696) cpd00129: L_Proline (location: e) +  (0.135406821203723) cpd00038: GTP (location: c) +  (0.01468498342018) cpd00241: dGTP (location: c) +  (1) cpd17042: DNA_replication (location: c) +  (0.211466290532188) cpd00161: L_Threonine (location: e) +  (40.1101757365074) cpd00002: ATP (location: c) +  (0.00778132482043096) cpd00016: Pyridoxal_phosphate (location: c) +  (0.00778132482043096) cpd00048: Sulfate (location: e) +  (0.00778132482043096) cpd00003: NAD (location: c) +  (0.01468498342018) cpd00115: dATP (location: c) +  (0.115101904973216) cpd00069: L_Tyrosine (location: e) +  (0.00778132482043096) cpd00015: FAD (location: c) +  (0.201205267995816) cpd00132: L_Asparagine (location: e) +  (0.00778132482043096) cpd00006: NADP (location: c) +  (35.5386858537513) cpd00001: H2O (location: e) +  (0.0762884719008526) cpd00084: L_Cysteine (location: c) +  (0.0794113918032267) cpd00119: L_Histidine (location: e) +  (0.285970236774541) cpd00039: L_Lysine (location: e) +  (0.0908319049068452) cpd00062: UTP (location: c) +  (0.00778132482043096) cpd00034: Zn2 (location: e) +  (0.247156803702178) cpd00051: L_Arginine (location: e) +  (0.510820469745475) cpd00033: Glycine (location: e) >  (40) cpd00008: ADP (location: c) +  (39.9922186751796) cpd00009: Phosphate (location: e) +  (0.00778132482043096) cpd12370: apo_ACP (location: c) +  (1) cpd11416: Biomass (location: c) +  (40) cpd00067: H (location: e) +  (0.0609084652443221) cpd15666: Peptidoglycan_polymer_n_1_subunits (location: c) +  (0.405833094852252) cpd00012: PPi (location: e)'\n",
    "sbml_left_compounds = {'cpd00066: L_Phenylalanine (location: c)' : 0.15480760087483,  'cpd00016: Pyridoxal_phosphate (location: c)' : 0.00778132482043096,  'cpd00132: L_Asparagine (location: e)' : 0.201205267995816,  'cpd00156: L_Valine (location: e)' : 0.352889948968272,  'cpd00099: Cl_ (location: e)' : 0.00778132482043096,  'cpd00038: GTP (location: c)' : 0.135406821203723,  'cpd00003: NAD (location: c)' : 0.00778132482043096,  'cpd17041: Protein_biosynthesis (location: c)' : 1.0,  'cpd00033: Glycine (location: e)' : 0.510820469745475,  'cpd00322: L_Isoleucine (location: e)' : 0.242249358141304,  'cpd00254: Mg (location: c)' : 0.00778132482043096,  'cpd17043: RNA_transcription (location: c)' : 1.0,  'cpd00048: Sulfate (location: e)' : 0.00778132482043096,  'cpd10515: Fe2 (location: e)' : 0.00778132482043096,  'cpd02229: Bactoprenyl_diphosphate (location: c)' : 0.0609084652443221,  'cpd11493: ACP (location: c)' : 0.00778132482043096,  'cpd00161: L_Threonine (location: e)' : 0.211466290532188,  'cpd00006: NADP (location: c)' : 0.00778132482043096,  'cpd00060: L_Methionine (location: e)' : 0.128039715997337,  'cpd00119: L_Histidine (location: e)' : 0.0794113918032267,  'cpd00052: CTP (location: c)' : 0.0841036156544863,  'cpd00051: L_Arginine (location: e)' : 0.247156803702178,  'cpd15665: Peptidoglycan_polymer_n_subunits (location: c)' : 0.0609084652443221,  'cpd00017: S_Adenosyl_L_methionine (location: c)' : 0.00778132482043096,  'cpd00030: Mn2 (location: e)' : 0.00778132482043096,  'cpd10516: fe3 (location: e)' : 0.00778132482043096,  'cpd00065: L_Tryptophan (location: e)' : 0.0472899299502361,  'cpd00084: L_Cysteine (location: c)' : 0.0762884719008526,  'cpd00023: L_Glutamate (location: e)' : 0.219496655995436,  'cpd17042: DNA_replication (location: c)' : 1.0,  'cpd00356: dCTP (location: c)' : 0.01468498342018,  'cpd00035: L_Alanine (location: e)' : 0.428732289454499,  'cpd00069: L_Tyrosine (location: e)' : 0.115101904973216,  'cpd00220: Riboflavin (location: e)' : 0.00778132482043096,  'cpd00129: L_Proline (location: e)' : 0.184698405654696,  'cpd00357: TTP (location: c)' : 0.01468498342018,  'cpd00205: K (location: c)' : 0.00778132482043096,  'cpd00149: Co2 (location: c)' : 0.00778132482043096,  'cpd00063: Ca2 (location: c)' : 0.00778132482043096,  'cpd00054: L_Serine (location: e)' : 0.179790960093822,  'cpd00001: H2O (location: e)' : 35.5386858537513,  'cpd00010: CoA (location: c)' : 0.00778132482043096,  'cpd00015: FAD (location: c)' : 0.00778132482043096,  'cpd00062: UTP (location: c)' : 0.0908319049068452,  'cpd00107: L_Leucine (location: e)' : 0.376088782528765,  'cpd00241: dGTP (location: c)' : 0.01468498342018,  'cpd00053: L_Glutamine (location: e)' : 0.219496655995436,  'cpd00039: L_Lysine (location: e)' : 0.285970236774541,  'cpd00034: Zn2 (location: e)' : 0.00778132482043096,  'cpd00058: Cu2 (location: e)' : 0.00778132482043096,  'cpd00002: ATP (location: c)' : 40.1101757365074,  'cpd00041: L_Aspartate (location: e)' : 0.201205267995816,  'cpd00115: dATP (location: c)' : 0.01468498342018}\n",
    "sbml_right_compounds = {'cpd00067: H (location: e)' : 40.0,  'cpd00012: PPi (location: e)' : 0.405833094852252,  'cpd00008: ADP (location: c)' : 40.0,  'cpd11416: Biomass (location: c)' : 1.0,  'cpd12370: apo_ACP (location: c)' : 0.00778132482043096,  'cpd00009: Phosphate (location: e)' : 39.9922186751796,  'cpd15666: Peptidoglycan_polymer_n_1_subunits (location: c)' : 0.0609084652443221}\n",
    "sbml_biomass = PyFBA.metabolism.Reaction('sbml_biomass', 'sbml_biomass')\n",
    "sbml_biomass.equation = sbml_bm_eqn\n",
    "parsecomp = re.compile('^(cpd\\\\d+): (.*?) \\(location: (.)\\)')\n",
    "for c in sbml_left_compounds:\n",
    "    m = parsecomp.match(c)\n",
    "    if not m:\n",
    "        sys.stderr.write(f\"Can't parse {c}\\n\")\n",
    "        \n",
    "    cpd = modelseed.get_compound_by_id(m.group(1))\n",
    "    if not cpd:\n",
    "        cpd = modelseed.get_compound_by_name(m.group(1))    \n",
    "    if not cpd:\n",
    "        print(f\"Left: {m.group(1)} not found\")\n",
    "        continue\n",
    "\n",
    "    if cpd.name != m.group(2):\n",
    "        sys.stderr.write(f\"We found |{cpd.name}| for {m.group(1)} in the model seed, but have |{m.group(2)}| in the equation\\n\")\n",
    "    newcomp = PyFBA.metabolism.CompoundWithLocation.from_compound(cpd, m.group(3))\n",
    "    sbml_biomass.add_left_compounds({newcomp})\n",
    "    sbml_biomass.set_left_compound_abundance(newcomp, sbml_left_compounds[c])\n",
    "        \n",
    "\n",
    "for c in sbml_right_compounds:\n",
    "    m = parsecomp.match(c)\n",
    "    if not m:\n",
    "        sys.stderr.write(f\"Can't parse {c}\\n\")\n",
    "\n",
    "    cpd = modelseed.get_compound_by_id(m.group(1))\n",
    "    if not cpd:\n",
    "        cpd = modelseed.get_compound_by_name(m.group(1))    \n",
    "    if not cpd:\n",
    "        print(f\"Left: {m.group(1)} not found\")\n",
    "        continue\n",
    "        \n",
    "    if cpd.name != m.group(2):\n",
    "        sys.stderr.write(f\"We found |{cpd.name}| for {m.group(1)} in the model seed, but have |{m.group(2)}| in the equation\\n\")\n",
    "    newcomp = PyFBA.metabolism.CompoundWithLocation.from_compound(cpd, m.group(3))\n",
    "    sbml_biomass.add_right_compounds({newcomp})\n",
    "    sbml_biomass.set_right_compound_abundance(newcomp, sbml_right_compounds[c])\n"
   ]
  },
  {
   "cell_type": "markdown",
   "id": "b7de07ba",
   "metadata": {},
   "source": [
    "# Read the media and correct the names"
   ]
  },
  {
   "cell_type": "code",
   "execution_count": 4,
   "id": "26d69622",
   "metadata": {},
   "outputs": [
    {
     "name": "stdout",
     "output_type": "stream",
     "text": [
      "Found media component cpd11595: chromate\n",
      "Found media component cpd00007: O2\n",
      "Found media component cpd00246: Inosine\n",
      "Found media component cpd00069: L-Tyrosine\n",
      "Found media component cpd00107: L-Leucine\n",
      "Found media component cpd00119: L-Histidine\n",
      "Found media component cpd00035: L-Alanine\n",
      "Found media component cpd01048: Arsenate\n",
      "Found media component cpd29996: Mg\n",
      "Found media component cpd00033: Glycine\n",
      "Found media component cpd00184: Thymidine\n",
      "Found media component cpd26821: D-Glucose\n",
      "Found media component cpd00091: UMP\n",
      "Found media component cpd00067: H+\n",
      "Found media component cpd00541: Lipoate\n",
      "Found media component cpd00039: L-Lysine\n",
      "Found media component cpd00018: AMP\n",
      "Found media component cpd01012: Cd2+\n",
      "Found media component cpd00220: Riboflavin\n",
      "Found media component cpd00156: L-Valine\n",
      "Found media component cpd00066: L-Phenylalanine\n",
      "Found media component cpd00028: Heme\n",
      "Found media component cpd00215: Pyridoxal\n",
      "Found media component cpd03424: Vitamin B12\n",
      "Found media component cpd00161: L-Threonine\n",
      "Found media component cpd00013: NH3\n",
      "Found media component cpd00381: L-Cystine\n",
      "Found media component cpd00099: Cl-\n",
      "Found media component cpd00311: Guanosine\n",
      "Found media component cpd00060: L-Methionine\n",
      "Found media component cpd00971: Na+\n",
      "Found media component cpd00393: Folate\n",
      "Found media component cpd00149: Co2+\n",
      "Found media component cpd00249: Uridine\n",
      "Found media component cpd00322: L-Isoleucine\n",
      "Found media component cpd00051: L-Arginine\n",
      "Found media component cpd00126: GMP\n",
      "Found media component cpd00239: H2S\n",
      "Found media component cpd00205: K+\n",
      "Found media component cpd00065: L-Tryptophan\n",
      "Found media component cpd00218: Niacin\n",
      "Found media component cpd00034: Zn2+\n",
      "Found media component cpd00644: PAN\n",
      "Found media component cpd00023: L-Glutamate\n",
      "Found media component cpd00438: Deoxyadenosine\n",
      "Found media component cpd00063: Ca2+\n",
      "Found media component cpd00046: CMP\n",
      "Found media component cpd00244: Ni2+\n",
      "Found media component cpd00226: HYXN\n",
      "Found media component cpd00030: Mn2+\n",
      "Found media component cpd00793: Thiamine phosphate\n",
      "Found media component cpd00129: L-Proline\n",
      "Found media component cpd00092: Uracil\n",
      "Found media component cpd00048: Sulfate\n",
      "Found media component cpd00058: Cu2+\n",
      "Found media component cpd00041: L-Aspartate\n",
      "Found media component cpd00054: L-Serine\n",
      "Found media component cpd00654: Deoxycytidine\n",
      "Found media component cpd00009: Phosphate\n",
      "Found media component cpd00531: Hg2+\n",
      "Found media component cpd00182: Adenosine\n",
      "Found media component cpd11574: Molybdate\n",
      "Found media component cpd00001: H2O\n",
      "The media has 65 compounds\n"
     ]
    },
    {
     "name": "stderr",
     "output_type": "stream",
     "text": [
      "We are logging to /home/redwards/GitHubsLinux/PyFBA/iPythonNotebooks/PyFBA.2021-06-04T06:26:41.014029.log\n",
      "Checking media compounds: Our compounds do not include  Fe2+\n",
      "Checking media compounds: Our compounds do not include  fe3\n",
      "Please note: The warnings about media not being found in compounds are not fatal.\n",
      "It just means that we did not find that compound anywhere in the reactions, and so it is unlikely to be\n",
      "needed or used. We typically see a few of these in rich media.\n"
     ]
    }
   ],
   "source": [
    "# Read the media file\n",
    "media = PyFBA.parse.read_media_file(\"/home/redwards/.local/lib/python3.9/site-packages/PyFBA-2.1-py3.9.egg/PyFBA/Biochemistry/media/ArgonneLB.txt\")\n",
    "# Correct the names\n",
    "media = PyFBA.parse.correct_media_names(media, modelseed.compounds)\n",
    "print(f\"The media has {len(media)} compounds\")"
   ]
  },
  {
   "cell_type": "markdown",
   "id": "bfa0e006",
   "metadata": {},
   "source": [
    "# Read the reactions"
   ]
  },
  {
   "cell_type": "code",
   "execution_count": 5,
   "id": "ad3316f0",
   "metadata": {},
   "outputs": [
    {
     "name": "stdout",
     "output_type": "stream",
     "text": [
      "There are 1399 reactions\n"
     ]
    }
   ],
   "source": [
    "reactions_to_run = set()\n",
    "with open('rgood.txt', 'r') as f:\n",
    "    for l in f:\n",
    "        if l.startswith('rxn'):\n",
    "            reactions_to_run.add(l.strip())\n",
    "print(f\"There are {len(reactions_to_run)} reactions\")"
   ]
  },
  {
   "cell_type": "markdown",
   "id": "1c9a5a75",
   "metadata": {},
   "source": [
    "# Add the biomass equation to the reactions to run"
   ]
  },
  {
   "cell_type": "code",
   "execution_count": 6,
   "id": "5b6bd6b4",
   "metadata": {},
   "outputs": [],
   "source": [
    "#reactions_to_run.add(sbml_biomass)"
   ]
  },
  {
   "cell_type": "code",
   "execution_count": 7,
   "id": "f0450d2b",
   "metadata": {},
   "outputs": [],
   "source": [
    "for r in reactions_to_run:\n",
    "    if r not in modelseed.reactions:\n",
    "        sys.stderr.write(f\"Error: reaction {r} not found\\n\")"
   ]
  },
  {
   "cell_type": "markdown",
   "id": "21c8111d",
   "metadata": {},
   "source": [
    "# Run the FBA"
   ]
  },
  {
   "cell_type": "code",
   "execution_count": 8,
   "id": "5c3a5b2b",
   "metadata": {},
   "outputs": [],
   "source": [
    "uptake_secretion_reactions = set()"
   ]
  },
  {
   "cell_type": "code",
   "execution_count": 9,
   "id": "f6f3243c",
   "metadata": {},
   "outputs": [
    {
     "name": "stderr",
     "output_type": "stream",
     "text": [
      "In parsing the media, cpd00220: Riboflavin is a <class 'PyFBA.metabolism.compound.Compound'>\n",
      "In parsing the media, cpd00311: Guanosine is a <class 'PyFBA.metabolism.compound.Compound'>\n",
      "In parsing the media, cpd00051: L-Arginine is a <class 'PyFBA.metabolism.compound.Compound'>\n",
      "In parsing the media, cpd00001: H2O is a <class 'PyFBA.metabolism.compound.Compound'>\n",
      "In parsing the media, cpd00971: Na+ is a <class 'PyFBA.metabolism.compound.Compound'>\n",
      "In parsing the media, cpd00129: L-Proline is a <class 'PyFBA.metabolism.compound.Compound'>\n",
      "In parsing the media, cpd00091: UMP is a <class 'PyFBA.metabolism.compound.Compound'>\n",
      "In parsing the media, cpd00249: Uridine is a <class 'PyFBA.metabolism.compound.Compound'>\n",
      "In parsing the media, cpd00009: Phosphate is a <class 'PyFBA.metabolism.compound.Compound'>\n",
      "In parsing the media, cpd00119: L-Histidine is a <class 'PyFBA.metabolism.compound.Compound'>\n",
      "In parsing the media, cpd00007: O2 is a <class 'PyFBA.metabolism.compound.Compound'>\n",
      "In parsing the media, cpd00205: K+ is a <class 'PyFBA.metabolism.compound.Compound'>\n",
      "In parsing the media, cpd00035: L-Alanine is a <class 'PyFBA.metabolism.compound.Compound'>\n",
      "In parsing the media, cpd00066: L-Phenylalanine is a <class 'PyFBA.metabolism.compound.Compound'>\n",
      "In parsing the media, cpd00039: L-Lysine is a <class 'PyFBA.metabolism.compound.Compound'>\n",
      "In parsing the media, cpd00092: Uracil is a <class 'PyFBA.metabolism.compound.Compound'>\n",
      "In parsing the media, cpd00107: L-Leucine is a <class 'PyFBA.metabolism.compound.Compound'>\n",
      "In parsing the media, cpd00099: Cl- is a <class 'PyFBA.metabolism.compound.Compound'>\n",
      "In parsing the media, cpd00067: H+ is a <class 'PyFBA.metabolism.compound.Compound'>\n",
      "In parsing the media, cpd00161: L-Threonine is a <class 'PyFBA.metabolism.compound.Compound'>\n",
      "In parsing the media, cpd00041: L-Aspartate is a <class 'PyFBA.metabolism.compound.Compound'>\n",
      "In parsing the media, cpd03424: Vitamin B12 is a <class 'PyFBA.metabolism.compound.Compound'>\n",
      "In parsing the media, cpd00531: Hg2+ is a <class 'PyFBA.metabolism.compound.Compound'>\n",
      "In parsing the media, cpd00218: Niacin is a <class 'PyFBA.metabolism.compound.Compound'>\n",
      "In parsing the media, cpd00065: L-Tryptophan is a <class 'PyFBA.metabolism.compound.Compound'>\n",
      "In parsing the media, cpd26821: D-Glucose is a <class 'PyFBA.metabolism.compound.Compound'>\n",
      "In parsing the media, cpd11574: Molybdate is a <class 'PyFBA.metabolism.compound.Compound'>\n",
      "In parsing the media, cpd00393: Folate is a <class 'PyFBA.metabolism.compound.Compound'>\n",
      "In parsing the media, cpd00644: PAN is a <class 'PyFBA.metabolism.compound.Compound'>\n",
      "In parsing the media, cpd00438: Deoxyadenosine is a <class 'PyFBA.metabolism.compound.Compound'>\n",
      "In parsing the media, cpd00058: Cu2+ is a <class 'PyFBA.metabolism.compound.Compound'>\n",
      "In parsing the media, cpd00184: Thymidine is a <class 'PyFBA.metabolism.compound.Compound'>\n",
      "In parsing the media, cpd00018: AMP is a <class 'PyFBA.metabolism.compound.Compound'>\n",
      "In parsing the media, cpd00654: Deoxycytidine is a <class 'PyFBA.metabolism.compound.Compound'>\n",
      "In parsing the media, cpd00034: Zn2+ is a <class 'PyFBA.metabolism.compound.Compound'>\n",
      "In parsing the media, cpd00048: Sulfate is a <class 'PyFBA.metabolism.compound.Compound'>\n",
      "In parsing the media, cpd00033: Glycine is a <class 'PyFBA.metabolism.compound.Compound'>\n",
      "In parsing the media, cpd11595: chromate is a <class 'PyFBA.metabolism.compound.Compound'>\n",
      "In parsing the media, cpd01048: Arsenate is a <class 'PyFBA.metabolism.compound.Compound'>\n",
      "In parsing the media, cpd00013: NH3 is a <class 'PyFBA.metabolism.compound.Compound'>\n",
      "In parsing the media, cpd00069: L-Tyrosine is a <class 'PyFBA.metabolism.compound.Compound'>\n",
      "In parsing the media, cpd00239: H2S is a <class 'PyFBA.metabolism.compound.Compound'>\n",
      "In parsing the media, cpd00046: CMP is a <class 'PyFBA.metabolism.compound.Compound'>\n",
      "In parsing the media, cpd00054: L-Serine is a <class 'PyFBA.metabolism.compound.Compound'>\n",
      "In parsing the media, cpd29996: Mg is a <class 'PyFBA.metabolism.compound.Compound'>\n",
      "In parsing the media, cpd00060: L-Methionine is a <class 'PyFBA.metabolism.compound.Compound'>\n",
      "In parsing the media, cpd00793: Thiamine phosphate is a <class 'PyFBA.metabolism.compound.Compound'>\n",
      "In parsing the media, cpd01012: Cd2+ is a <class 'PyFBA.metabolism.compound.Compound'>\n",
      "In parsing the media, cpd00381: L-Cystine is a <class 'PyFBA.metabolism.compound.Compound'>\n",
      "In parsing the media, cpd00246: Inosine is a <class 'PyFBA.metabolism.compound.Compound'>\n",
      "In parsing the media, cpd00156: L-Valine is a <class 'PyFBA.metabolism.compound.Compound'>\n",
      "In parsing the media, cpd00541: Lipoate is a <class 'PyFBA.metabolism.compound.Compound'>\n",
      "In parsing the media, cpd00028: Heme is a <class 'PyFBA.metabolism.compound.Compound'>\n",
      "In parsing the media, cpd00322: L-Isoleucine is a <class 'PyFBA.metabolism.compound.Compound'>\n",
      "In parsing the media, cpd00023: L-Glutamate is a <class 'PyFBA.metabolism.compound.Compound'>\n",
      "In parsing the media, cpd00226: HYXN is a <class 'PyFBA.metabolism.compound.Compound'>\n",
      "In parsing the media, cpd00244: Ni2+ is a <class 'PyFBA.metabolism.compound.Compound'>\n",
      "In parsing the media, cpd00030: Mn2+ is a <class 'PyFBA.metabolism.compound.Compound'>\n",
      "In parsing the media, cpd00182: Adenosine is a <class 'PyFBA.metabolism.compound.Compound'>\n",
      "In parsing the media, cpd00215: Pyridoxal is a <class 'PyFBA.metabolism.compound.Compound'>\n",
      "In parsing the media, cpd00126: GMP is a <class 'PyFBA.metabolism.compound.Compound'>\n",
      "In parsing the media, cpd00063: Ca2+ is a <class 'PyFBA.metabolism.compound.Compound'>\n",
      "In parsing the media, cpd00149: Co2+ is a <class 'PyFBA.metabolism.compound.Compound'>\n",
      "Found cpd10515: cpd10515 (location: e) that is a <class 'PyFBA.metabolism.compound.CompoundWithLocation'>\n",
      "Created left:  cpd10515: cpd10515 (location: e) that is a <class 'PyFBA.metabolism.compound.CompoundWithLocation'>\n",
      "Created right: cpd10515: cpd10515 (location: e) that is a <class 'PyFBA.metabolism.compound.CompoundWithLocation'>\n",
      "Found cpd00054: L-Serine (location: e) that is a <class 'PyFBA.metabolism.compound.CompoundWithLocation'>\n",
      "Created left:  cpd00054: L-Serine (location: e) that is a <class 'PyFBA.metabolism.compound.CompoundWithLocation'>\n",
      "Created right: cpd00054: L-Serine (location: e) that is a <class 'PyFBA.metabolism.compound.CompoundWithLocation'>\n",
      "Found cpd00029: cpd00029 (location: e) that is a <class 'PyFBA.metabolism.compound.CompoundWithLocation'>\n",
      "Created left:  cpd00029: cpd00029 (location: e) that is a <class 'PyFBA.metabolism.compound.CompoundWithLocation'>\n",
      "Created right: cpd00029: cpd00029 (location: e) that is a <class 'PyFBA.metabolism.compound.CompoundWithLocation'>\n",
      "Found cpd00009: Phosphate (location: e) that is a <class 'PyFBA.metabolism.compound.CompoundWithLocation'>\n",
      "Created left:  cpd00009: Phosphate (location: e) that is a <class 'PyFBA.metabolism.compound.CompoundWithLocation'>\n",
      "Created right: cpd00009: Phosphate (location: e) that is a <class 'PyFBA.metabolism.compound.CompoundWithLocation'>\n",
      "Found cpd00129: cpd00129 (location: e) that is a <class 'PyFBA.metabolism.compound.CompoundWithLocation'>\n",
      "Created left:  cpd00129: cpd00129 (location: e) that is a <class 'PyFBA.metabolism.compound.CompoundWithLocation'>\n",
      "Created right: cpd00129: cpd00129 (location: e) that is a <class 'PyFBA.metabolism.compound.CompoundWithLocation'>\n",
      "Found cpd00142: cpd00142 (location: e) that is a <class 'PyFBA.metabolism.compound.CompoundWithLocation'>\n",
      "Created left:  cpd00142: cpd00142 (location: e) that is a <class 'PyFBA.metabolism.compound.CompoundWithLocation'>\n",
      "Created right: cpd00142: cpd00142 (location: e) that is a <class 'PyFBA.metabolism.compound.CompoundWithLocation'>\n",
      "Found cpd00367: cpd00367 (location: e) that is a <class 'PyFBA.metabolism.compound.CompoundWithLocation'>\n",
      "Created left:  cpd00367: cpd00367 (location: e) that is a <class 'PyFBA.metabolism.compound.CompoundWithLocation'>\n",
      "Created right: cpd00367: cpd00367 (location: e) that is a <class 'PyFBA.metabolism.compound.CompoundWithLocation'>\n",
      "Found cpd01293: cpd01293 (location: e) that is a <class 'PyFBA.metabolism.compound.CompoundWithLocation'>\n",
      "Created left:  cpd01293: cpd01293 (location: e) that is a <class 'PyFBA.metabolism.compound.CompoundWithLocation'>\n",
      "Created right: cpd01293: cpd01293 (location: e) that is a <class 'PyFBA.metabolism.compound.CompoundWithLocation'>\n",
      "Found cpd00054: L-Serine that is a <class 'PyFBA.metabolism.compound.Compound'>\n",
      "Created left:  cpd00054: L-Serine that is a <class 'PyFBA.metabolism.compound.Compound'>\n",
      "Created right: cpd00054: L-Serine that is a <class 'PyFBA.metabolism.compound.Compound'>\n"
     ]
    },
    {
     "ename": "TypeError",
     "evalue": "Starting with v.2 reactions need PyFBA.metabolism.CompoundWithLocation objects not <class 'PyFBA.metabolism.compound.Compound'>",
     "output_type": "error",
     "traceback": [
      "\u001b[0;31m---------------------------------------------------------------------------\u001b[0m",
      "\u001b[0;31mTypeError\u001b[0m                                 Traceback (most recent call last)",
      "\u001b[0;32m<ipython-input-9-07a5722c333c>\u001b[0m in \u001b[0;36m<module>\u001b[0;34m\u001b[0m\n\u001b[0;32m----> 1\u001b[0;31m status, value, growth = PyFBA.fba.run_fba(modelseed.compounds, modelseed.reactions,\n\u001b[0m\u001b[1;32m      2\u001b[0m                                           \u001b[0mreactions_to_run\u001b[0m\u001b[0;34m,\u001b[0m \u001b[0mmedia\u001b[0m\u001b[0;34m,\u001b[0m \u001b[0msbml_biomass\u001b[0m\u001b[0;34m,\u001b[0m\u001b[0;34m\u001b[0m\u001b[0;34m\u001b[0m\u001b[0m\n\u001b[1;32m      3\u001b[0m                                           uptake_secretion_reactions, verbose=True)\n\u001b[1;32m      4\u001b[0m \u001b[0mprint\u001b[0m\u001b[0;34m(\u001b[0m\u001b[0;34m\"The FBA completed with a flux value of {} --> growth: {}\"\u001b[0m\u001b[0;34m.\u001b[0m\u001b[0mformat\u001b[0m\u001b[0;34m(\u001b[0m\u001b[0mvalue\u001b[0m\u001b[0;34m,\u001b[0m \u001b[0mgrowth\u001b[0m\u001b[0;34m)\u001b[0m\u001b[0;34m)\u001b[0m\u001b[0;34m\u001b[0m\u001b[0;34m\u001b[0m\u001b[0m\n",
      "\u001b[0;32m~/GitHubsLinux/PyFBA/venv/lib/python3.9/site-packages/PyFBA-2.4-py3.9.egg/PyFBA/fba/run_fba.py\u001b[0m in \u001b[0;36mrun_fba\u001b[0;34m(compounds, reactions, reactions_to_run, media, biomass_equation, uptake_secretion, verbose)\u001b[0m\n\u001b[1;32m     31\u001b[0m     \"\"\"\n\u001b[1;32m     32\u001b[0m \u001b[0;34m\u001b[0m\u001b[0m\n\u001b[0;32m---> 33\u001b[0;31m     cp, rc, reactions = PyFBA.fba.create_stoichiometric_matrix(reactions_to_run, reactions, compounds, media,\n\u001b[0m\u001b[1;32m     34\u001b[0m                                                                biomass_equation, uptake_secretion, verbose=verbose)\n\u001b[1;32m     35\u001b[0m \u001b[0;34m\u001b[0m\u001b[0m\n",
      "\u001b[0;32m~/GitHubsLinux/PyFBA/venv/lib/python3.9/site-packages/PyFBA-2.4-py3.9.egg/PyFBA/fba/create_stoichiometric_matrix.py\u001b[0m in \u001b[0;36mcreate_stoichiometric_matrix\u001b[0;34m(reactions_to_run, reactions, compounds, media, biomass_equation, uptake_secretion, verbose)\u001b[0m\n\u001b[1;32m     98\u001b[0m \u001b[0;34m\u001b[0m\u001b[0m\n\u001b[1;32m     99\u001b[0m     \u001b[0;32mif\u001b[0m \u001b[0;32mnot\u001b[0m \u001b[0muptake_secretion\u001b[0m\u001b[0;34m:\u001b[0m\u001b[0;34m\u001b[0m\u001b[0;34m\u001b[0m\u001b[0m\n\u001b[0;32m--> 100\u001b[0;31m         \u001b[0muptake_secretion\u001b[0m \u001b[0;34m=\u001b[0m \u001b[0mPyFBA\u001b[0m\u001b[0;34m.\u001b[0m\u001b[0mfba\u001b[0m\u001b[0;34m.\u001b[0m\u001b[0muptake_and_secretion_reactions\u001b[0m\u001b[0;34m(\u001b[0m\u001b[0mreaction_cpds\u001b[0m\u001b[0;34m)\u001b[0m\u001b[0;34m\u001b[0m\u001b[0;34m\u001b[0m\u001b[0m\n\u001b[0m\u001b[1;32m    101\u001b[0m     \u001b[0;32mfor\u001b[0m \u001b[0mr\u001b[0m \u001b[0;32min\u001b[0m \u001b[0muptake_secretion\u001b[0m\u001b[0;34m:\u001b[0m\u001b[0;34m\u001b[0m\u001b[0;34m\u001b[0m\u001b[0m\n\u001b[1;32m    102\u001b[0m         \u001b[0mreactions\u001b[0m\u001b[0;34m[\u001b[0m\u001b[0muptake_secretion\u001b[0m\u001b[0;34m[\u001b[0m\u001b[0mr\u001b[0m\u001b[0;34m]\u001b[0m\u001b[0;34m.\u001b[0m\u001b[0mid\u001b[0m\u001b[0;34m]\u001b[0m \u001b[0;34m=\u001b[0m \u001b[0muptake_secretion\u001b[0m\u001b[0;34m[\u001b[0m\u001b[0mr\u001b[0m\u001b[0;34m]\u001b[0m\u001b[0;34m\u001b[0m\u001b[0;34m\u001b[0m\u001b[0m\n",
      "\u001b[0;32m~/GitHubsLinux/PyFBA/venv/lib/python3.9/site-packages/PyFBA-2.4-py3.9.egg/PyFBA/fba/external_reactions.py\u001b[0m in \u001b[0;36muptake_and_secretion_reactions\u001b[0;34m(model_compounds)\u001b[0m\n\u001b[1;32m     41\u001b[0m             \u001b[0mcount\u001b[0m \u001b[0;34m+=\u001b[0m \u001b[0;36m1\u001b[0m\u001b[0;34m\u001b[0m\u001b[0;34m\u001b[0m\u001b[0m\n\u001b[1;32m     42\u001b[0m             \u001b[0mus_reaction\u001b[0m\u001b[0;34m.\u001b[0m\u001b[0mequation\u001b[0m \u001b[0;34m=\u001b[0m \u001b[0;34m'(1) + '\u001b[0m \u001b[0;34m+\u001b[0m \u001b[0mstr\u001b[0m\u001b[0;34m(\u001b[0m\u001b[0mus_leftside\u001b[0m\u001b[0;34m)\u001b[0m \u001b[0;34m+\u001b[0m \u001b[0;34m\" <=> (1) + \"\u001b[0m \u001b[0;34m+\u001b[0m \u001b[0mstr\u001b[0m\u001b[0;34m(\u001b[0m\u001b[0mus_rightside\u001b[0m\u001b[0;34m)\u001b[0m\u001b[0;34m\u001b[0m\u001b[0;34m\u001b[0m\u001b[0m\n\u001b[0;32m---> 43\u001b[0;31m             \u001b[0mus_reaction\u001b[0m\u001b[0;34m.\u001b[0m\u001b[0madd_left_compounds\u001b[0m\u001b[0;34m(\u001b[0m\u001b[0;34m{\u001b[0m\u001b[0mus_leftside\u001b[0m\u001b[0;34m}\u001b[0m\u001b[0;34m)\u001b[0m\u001b[0;34m\u001b[0m\u001b[0;34m\u001b[0m\u001b[0m\n\u001b[0m\u001b[1;32m     44\u001b[0m             \u001b[0mus_reaction\u001b[0m\u001b[0;34m.\u001b[0m\u001b[0mset_left_compound_abundance\u001b[0m\u001b[0;34m(\u001b[0m\u001b[0mus_leftside\u001b[0m\u001b[0;34m,\u001b[0m \u001b[0;36m1\u001b[0m\u001b[0;34m)\u001b[0m\u001b[0;34m\u001b[0m\u001b[0;34m\u001b[0m\u001b[0m\n\u001b[1;32m     45\u001b[0m             \u001b[0mus_reaction\u001b[0m\u001b[0;34m.\u001b[0m\u001b[0madd_right_compounds\u001b[0m\u001b[0;34m(\u001b[0m\u001b[0;34m{\u001b[0m\u001b[0mus_rightside\u001b[0m\u001b[0;34m}\u001b[0m\u001b[0;34m)\u001b[0m\u001b[0;34m\u001b[0m\u001b[0;34m\u001b[0m\u001b[0m\n",
      "\u001b[0;32m~/GitHubsLinux/PyFBA/venv/lib/python3.9/site-packages/PyFBA-2.4-py3.9.egg/PyFBA/metabolism/reaction.py\u001b[0m in \u001b[0;36madd_left_compounds\u001b[0;34m(self, cmpds)\u001b[0m\n\u001b[1;32m    198\u001b[0m             \u001b[0;31m# choose one element. next(iter(cmpds)) does not remove the element\u001b[0m\u001b[0;34m\u001b[0m\u001b[0;34m\u001b[0m\u001b[0;34m\u001b[0m\u001b[0m\n\u001b[1;32m    199\u001b[0m             \u001b[0;32mif\u001b[0m \u001b[0;32mnot\u001b[0m \u001b[0misinstance\u001b[0m\u001b[0;34m(\u001b[0m\u001b[0mnext\u001b[0m\u001b[0;34m(\u001b[0m\u001b[0miter\u001b[0m\u001b[0;34m(\u001b[0m\u001b[0mcmpds\u001b[0m\u001b[0;34m)\u001b[0m\u001b[0;34m)\u001b[0m\u001b[0;34m,\u001b[0m \u001b[0mPyFBA\u001b[0m\u001b[0;34m.\u001b[0m\u001b[0mmetabolism\u001b[0m\u001b[0;34m.\u001b[0m\u001b[0mCompoundWithLocation\u001b[0m\u001b[0;34m)\u001b[0m\u001b[0;34m:\u001b[0m\u001b[0;34m\u001b[0m\u001b[0;34m\u001b[0m\u001b[0m\n\u001b[0;32m--> 200\u001b[0;31m                 \u001b[0;32mraise\u001b[0m \u001b[0mTypeError\u001b[0m\u001b[0;34m(\u001b[0m\u001b[0;34mf\"Starting with v.2 reactions need PyFBA.metabolism.CompoundWithLocation objects not {type(next(iter(cmpds)))}\"\u001b[0m\u001b[0;34m)\u001b[0m\u001b[0;34m\u001b[0m\u001b[0;34m\u001b[0m\u001b[0m\n\u001b[0m\u001b[1;32m    201\u001b[0m             \u001b[0mself\u001b[0m\u001b[0;34m.\u001b[0m\u001b[0mleft_compounds\u001b[0m\u001b[0;34m.\u001b[0m\u001b[0mupdate\u001b[0m\u001b[0;34m(\u001b[0m\u001b[0mcmpds\u001b[0m\u001b[0;34m)\u001b[0m\u001b[0;34m\u001b[0m\u001b[0;34m\u001b[0m\u001b[0m\n\u001b[1;32m    202\u001b[0m         \u001b[0;32melif\u001b[0m \u001b[0misinstance\u001b[0m\u001b[0;34m(\u001b[0m\u001b[0mcmpds\u001b[0m\u001b[0;34m,\u001b[0m \u001b[0mPyFBA\u001b[0m\u001b[0;34m.\u001b[0m\u001b[0mmetabolism\u001b[0m\u001b[0;34m.\u001b[0m\u001b[0mCompoundWithLocation\u001b[0m\u001b[0;34m)\u001b[0m\u001b[0;34m:\u001b[0m\u001b[0;34m\u001b[0m\u001b[0;34m\u001b[0m\u001b[0m\n",
      "\u001b[0;31mTypeError\u001b[0m: Starting with v.2 reactions need PyFBA.metabolism.CompoundWithLocation objects not <class 'PyFBA.metabolism.compound.Compound'>"
     ]
    }
   ],
   "source": [
    "status, value, growth = PyFBA.fba.run_fba(modelseed.compounds, modelseed.reactions,\n",
    "                                          reactions_to_run, media, sbml_biomass,\n",
    "                                          uptake_secretion_reactions, verbose=True)\n",
    "print(\"The FBA completed with a flux value of {} --> growth: {}\".format(value, growth))\n"
   ]
  },
  {
   "cell_type": "code",
   "execution_count": null,
   "id": "e2b26673",
   "metadata": {},
   "outputs": [],
   "source": []
  }
 ],
 "metadata": {
  "kernelspec": {
   "display_name": "PyFBA_venv",
   "language": "python",
   "name": "pyfba_venv"
  },
  "language_info": {
   "codemirror_mode": {
    "name": "ipython",
    "version": 3
   },
   "file_extension": ".py",
   "mimetype": "text/x-python",
   "name": "python",
   "nbconvert_exporter": "python",
   "pygments_lexer": "ipython3",
   "version": "3.9.1"
  }
 },
 "nbformat": 4,
 "nbformat_minor": 5
}
