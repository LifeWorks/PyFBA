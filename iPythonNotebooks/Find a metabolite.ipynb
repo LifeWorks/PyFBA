{
 "cells": [
  {
   "cell_type": "code",
   "execution_count": 2,
   "metadata": {},
   "outputs": [
    {
     "ename": "ModuleNotFoundError",
     "evalue": "No module named 'glpk'",
     "output_type": "error",
     "traceback": [
      "\u001B[1;31m---------------------------------------------------------------------------\u001B[0m",
      "\u001B[1;31mModuleNotFoundError\u001B[0m                       Traceback (most recent call last)",
      "\u001B[1;32m~\\AppData\\Local\\Temp/ipykernel_22732/2250584164.py\u001B[0m in \u001B[0;36m<module>\u001B[1;34m\u001B[0m\n\u001B[1;32m----> 1\u001B[1;33m \u001B[1;32mimport\u001B[0m \u001B[0mPyFBA\u001B[0m\u001B[1;33m\u001B[0m\u001B[1;33m\u001B[0m\u001B[0m\n\u001B[0m\u001B[0;32m      2\u001B[0m \u001B[0mcompounds\u001B[0m\u001B[1;33m,\u001B[0m \u001B[0mreactions\u001B[0m\u001B[1;33m,\u001B[0m \u001B[0menzymes\u001B[0m \u001B[1;33m=\u001B[0m \u001B[0mPyFBA\u001B[0m\u001B[1;33m.\u001B[0m\u001B[0mparse\u001B[0m\u001B[1;33m.\u001B[0m\u001B[0mmodel_seed\u001B[0m\u001B[1;33m.\u001B[0m\u001B[0mcompounds_reactions_enzymes\u001B[0m\u001B[1;33m(\u001B[0m\u001B[1;34m'gramnegative'\u001B[0m\u001B[1;33m)\u001B[0m\u001B[1;33m\u001B[0m\u001B[1;33m\u001B[0m\u001B[0m\n\u001B[0;32m      3\u001B[0m \u001B[0mlooking_for\u001B[0m \u001B[1;33m=\u001B[0m \u001B[1;34m'inosine'\u001B[0m\u001B[1;33m\u001B[0m\u001B[1;33m\u001B[0m\u001B[0m\n\u001B[0;32m      4\u001B[0m \u001B[1;32mfor\u001B[0m \u001B[0mc\u001B[0m \u001B[1;32min\u001B[0m \u001B[0mcompounds\u001B[0m\u001B[1;33m:\u001B[0m\u001B[1;33m\u001B[0m\u001B[1;33m\u001B[0m\u001B[0m\n\u001B[0;32m      5\u001B[0m     \u001B[1;32mif\u001B[0m \u001B[0mlooking_for\u001B[0m \u001B[1;32min\u001B[0m \u001B[0mc\u001B[0m\u001B[1;33m.\u001B[0m\u001B[0mlower\u001B[0m\u001B[1;33m(\u001B[0m\u001B[1;33m)\u001B[0m\u001B[1;33m:\u001B[0m\u001B[1;33m\u001B[0m\u001B[1;33m\u001B[0m\u001B[0m\n",
      "\u001B[1;32mC:\\Workspace\\edwa0468\\GitHubs\\PyFBA\\PyFBA\\__init__.py\u001B[0m in \u001B[0;36m<module>\u001B[1;34m\u001B[0m\n\u001B[0;32m      3\u001B[0m \u001B[1;33m\u001B[0m\u001B[0m\n\u001B[0;32m      4\u001B[0m \u001B[1;32mimport\u001B[0m \u001B[0mPyFBA\u001B[0m\u001B[1;33m.\u001B[0m\u001B[0mBiochemistry\u001B[0m\u001B[1;33m\u001B[0m\u001B[1;33m\u001B[0m\u001B[0m\n\u001B[1;32m----> 5\u001B[1;33m \u001B[1;32mimport\u001B[0m \u001B[0mPyFBA\u001B[0m\u001B[1;33m.\u001B[0m\u001B[0mfba\u001B[0m\u001B[1;33m\u001B[0m\u001B[1;33m\u001B[0m\u001B[0m\n\u001B[0m\u001B[0;32m      6\u001B[0m \u001B[1;32mimport\u001B[0m \u001B[0mPyFBA\u001B[0m\u001B[1;33m.\u001B[0m\u001B[0mfilters\u001B[0m\u001B[1;33m\u001B[0m\u001B[1;33m\u001B[0m\u001B[0m\n\u001B[0;32m      7\u001B[0m \u001B[1;32mimport\u001B[0m \u001B[0mPyFBA\u001B[0m\u001B[1;33m.\u001B[0m\u001B[0mgapfill\u001B[0m\u001B[1;33m\u001B[0m\u001B[1;33m\u001B[0m\u001B[0m\n",
      "\u001B[1;32mC:\\Workspace\\edwa0468\\GitHubs\\PyFBA\\PyFBA\\fba\\__init__.py\u001B[0m in \u001B[0;36m<module>\u001B[1;34m\u001B[0m\n\u001B[0;32m      1\u001B[0m \u001B[1;32mfrom\u001B[0m \u001B[1;33m.\u001B[0m\u001B[0mexternal_reactions\u001B[0m \u001B[1;32mimport\u001B[0m \u001B[0muptake_and_secretion_reactions\u001B[0m\u001B[1;33m,\u001B[0m \u001B[0mremove_uptake_and_secretion_reactions\u001B[0m\u001B[1;33m\u001B[0m\u001B[1;33m\u001B[0m\u001B[0m\n\u001B[1;32m----> 2\u001B[1;33m \u001B[1;32mfrom\u001B[0m \u001B[1;33m.\u001B[0m\u001B[0mcreate_stoichiometric_matrix\u001B[0m \u001B[1;32mimport\u001B[0m \u001B[0mcreate_stoichiometric_matrix\u001B[0m\u001B[1;33m\u001B[0m\u001B[1;33m\u001B[0m\u001B[0m\n\u001B[0m\u001B[0;32m      3\u001B[0m \u001B[1;32mfrom\u001B[0m \u001B[1;33m.\u001B[0m\u001B[0mbounds\u001B[0m \u001B[1;32mimport\u001B[0m \u001B[0mreaction_bounds\u001B[0m\u001B[1;33m,\u001B[0m \u001B[0mcompound_bounds\u001B[0m\u001B[1;33m\u001B[0m\u001B[1;33m\u001B[0m\u001B[0m\n\u001B[0;32m      4\u001B[0m \u001B[1;32mfrom\u001B[0m \u001B[1;33m.\u001B[0m\u001B[0mrun_fba\u001B[0m \u001B[1;32mimport\u001B[0m \u001B[0mrun_fba\u001B[0m\u001B[1;33m\u001B[0m\u001B[1;33m\u001B[0m\u001B[0m\n\u001B[0;32m      5\u001B[0m \u001B[1;32mfrom\u001B[0m \u001B[1;33m.\u001B[0m\u001B[0mfluxes\u001B[0m \u001B[1;32mimport\u001B[0m \u001B[0mreaction_fluxes\u001B[0m\u001B[1;33m\u001B[0m\u001B[1;33m\u001B[0m\u001B[0m\n",
      "\u001B[1;32mC:\\Workspace\\edwa0468\\GitHubs\\PyFBA\\PyFBA\\fba\\create_stoichiometric_matrix.py\u001B[0m in \u001B[0;36m<module>\u001B[1;34m\u001B[0m\n\u001B[0;32m      1\u001B[0m \u001B[1;32mimport\u001B[0m \u001B[0msys\u001B[0m\u001B[1;33m\u001B[0m\u001B[1;33m\u001B[0m\u001B[0m\n\u001B[0;32m      2\u001B[0m \u001B[1;32mimport\u001B[0m \u001B[0mPyFBA\u001B[0m\u001B[1;33m\u001B[0m\u001B[1;33m\u001B[0m\u001B[0m\n\u001B[1;32m----> 3\u001B[1;33m \u001B[1;32mfrom\u001B[0m \u001B[0mPyFBA\u001B[0m \u001B[1;32mimport\u001B[0m \u001B[0mlp\u001B[0m\u001B[1;33m,\u001B[0m \u001B[0mlog_and_message\u001B[0m\u001B[1;33m\u001B[0m\u001B[1;33m\u001B[0m\u001B[0m\n\u001B[0m\u001B[0;32m      4\u001B[0m \u001B[1;33m\u001B[0m\u001B[0m\n\u001B[0;32m      5\u001B[0m \u001B[1;33m\u001B[0m\u001B[0m\n",
      "\u001B[1;32mC:\\Workspace\\edwa0468\\GitHubs\\PyFBA\\PyFBA\\lp\\__init__.py\u001B[0m in \u001B[0;36m<module>\u001B[1;34m\u001B[0m\n\u001B[1;32m----> 1\u001B[1;33m \u001B[1;32mfrom\u001B[0m \u001B[1;33m.\u001B[0m\u001B[0mglpk_solver\u001B[0m \u001B[1;32mimport\u001B[0m \u001B[0mload\u001B[0m\u001B[1;33m,\u001B[0m \u001B[0mrow_bounds\u001B[0m\u001B[1;33m,\u001B[0m \u001B[0mcol_bounds\u001B[0m\u001B[1;33m,\u001B[0m \u001B[0mobjective_coefficients\u001B[0m\u001B[1;33m,\u001B[0m \u001B[0msolve\u001B[0m\u001B[1;33m\u001B[0m\u001B[1;33m\u001B[0m\u001B[0m\n\u001B[0m\u001B[0;32m      2\u001B[0m \u001B[1;32mfrom\u001B[0m \u001B[1;33m.\u001B[0m\u001B[0mglpk_solver\u001B[0m \u001B[1;32mimport\u001B[0m \u001B[0mcol_primal_hash\u001B[0m\u001B[1;33m,\u001B[0m \u001B[0mcol_primals\u001B[0m\u001B[1;33m,\u001B[0m \u001B[0mrow_primal_hash\u001B[0m\u001B[1;33m,\u001B[0m \u001B[0mrow_primals\u001B[0m\u001B[1;33m\u001B[0m\u001B[1;33m\u001B[0m\u001B[0m\n\u001B[0;32m      3\u001B[0m \u001B[1;33m\u001B[0m\u001B[0m\n\u001B[0;32m      4\u001B[0m __all__ = ['load', 'row_bounds', 'col_bounds', 'objective_coefficients', 'solve', 'col_primal_hash', 'col_primals',\n\u001B[0;32m      5\u001B[0m             'row_primal_hash', 'row_primals']\n",
      "\u001B[1;32mC:\\Workspace\\edwa0468\\GitHubs\\PyFBA\\PyFBA\\lp\\glpk_solver.py\u001B[0m in \u001B[0;36m<module>\u001B[1;34m\u001B[0m\n\u001B[0;32m      1\u001B[0m \u001B[1;32mimport\u001B[0m \u001B[0msys\u001B[0m\u001B[1;33m\u001B[0m\u001B[1;33m\u001B[0m\u001B[0m\n\u001B[1;32m----> 2\u001B[1;33m \u001B[1;32mimport\u001B[0m \u001B[0mglpk\u001B[0m\u001B[1;33m\u001B[0m\u001B[1;33m\u001B[0m\u001B[0m\n\u001B[0m\u001B[0;32m      3\u001B[0m \u001B[1;33m\u001B[0m\u001B[0m\n\u001B[0;32m      4\u001B[0m \u001B[1;32mfrom\u001B[0m \u001B[0mPyFBA\u001B[0m \u001B[1;32mimport\u001B[0m \u001B[0mlog_and_message\u001B[0m\u001B[1;33m\u001B[0m\u001B[1;33m\u001B[0m\u001B[0m\n\u001B[0;32m      5\u001B[0m \u001B[1;33m\u001B[0m\u001B[0m\n",
      "\u001B[1;31mModuleNotFoundError\u001B[0m: No module named 'glpk'"
     ]
    }
   ],
   "source": [
    "import PyFBA\n",
    "compounds, reactions, enzymes = PyFBA.parse.model_seed.compounds_reactions_enzymes('gramnegative')\n",
    "looking_for = 'inosine'\n",
    "for c in compounds:\n",
    "    if looking_for in c.lower():\n",
    "        print(\"Found \" + c + \" Reactions:  \" + str(compounds[c].reactions))"
   ]
  },
  {
   "cell_type": "code",
   "execution_count": null,
   "metadata": {},
   "outputs": [],
   "source": []
  }
 ],
 "metadata": {
  "kernelspec": {
   "display_name": "Python 3 (ipykernel)",
   "language": "python",
   "name": "python3"
  },
  "language_info": {
   "codemirror_mode": {
    "name": "ipython",
    "version": 3
   },
   "file_extension": ".py",
   "mimetype": "text/x-python",
   "name": "python",
   "nbconvert_exporter": "python",
   "pygments_lexer": "ipython3",
   "version": "3.9.5"
  },
  "name": ""
 },
 "nbformat": 4,
 "nbformat_minor": 1
}