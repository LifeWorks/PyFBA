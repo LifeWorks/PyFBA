{
 "cells": [
  {
   "cell_type": "markdown",
   "metadata": {},
   "source": [
    "# Building a Network object from a Model object\n",
    "\n",
    "by Daniel Cuevas\n",
    "\n",
    "## Introduction\n",
    "\n",
    "In this notebook, we will present the steps to generate a genome-scale metabolic model from *RAST* annotations, build a *PyFBA* Network object, and then demonstrate some of the metrics that can be calculated. Each network is represented as a directed graph. Compounds are the nodes and reactions are the directed edges. Bidirectional reactions are represnted as two edges.\n",
    "\n",
    "---\n",
    "The required files and information for this notebook:\n",
    "* List of functional roles from *RAST* (normally labeled 'assigned_functions' from the **Genome Directory** download).\n",
    "* Organism name\n",
    "* Organism ID"
   ]
  },
  {
   "cell_type": "code",
   "execution_count": 1,
   "metadata": {
    "collapsed": true
   },
   "outputs": [],
   "source": [
    "import sys\n",
    "import os\n",
    "import operator\n",
    "import PyFBA"
   ]
  },
  {
   "cell_type": "markdown",
   "metadata": {},
   "source": [
    "## Generate model\n",
    "The first step shows how to build the model from *RAST* functional roles."
   ]
  },
  {
   "cell_type": "code",
   "execution_count": 2,
   "metadata": {
    "collapsed": true
   },
   "outputs": [],
   "source": [
    "model_functions_file = \"data/ED144_assigned_functions\"\n",
    "org_name = \"Vibrio cyclitrophicus\"\n",
    "org_id = \"Vibrio cyclitrophicus\""
   ]
  },
  {
   "cell_type": "code",
   "execution_count": 3,
   "metadata": {
    "collapsed": true
   },
   "outputs": [],
   "source": [
    "model = PyFBA.model.roles_to_model(model_functions_file, org_id, org_name)"
   ]
  },
  {
   "cell_type": "markdown",
   "metadata": {},
   "source": [
    "The model has been generated and is now ready to use for flux-balance analysis simulations.\n",
    "\n",
    "*Note: model should not grow because it has not been gap-filled*"
   ]
  },
  {
   "cell_type": "markdown",
   "metadata": {},
   "source": [
    "## Generate a Network object\n",
    "The second step shows how to generate the *PyFBA* Network object and several metrics that can be calculated. Remember, in this directed graph network compounds are represented as nodes and reactions are represented as edges."
   ]
  },
  {
   "cell_type": "code",
   "execution_count": 4,
   "metadata": {
    "scrolled": true
   },
   "outputs": [
    {
     "name": "stdout",
     "output_type": "stream",
     "text": [
      "Network from model Vibrio cyclitrophicus created!\n",
      "Network contains 1132 nodes and 6282 edges\n"
     ]
    }
   ],
   "source": [
    "network = PyFBA.network.Network(model)"
   ]
  },
  {
   "cell_type": "markdown",
   "metadata": {},
   "source": [
    "### Clustering coefficient"
   ]
  },
  {
   "cell_type": "code",
   "execution_count": 5,
   "metadata": {},
   "outputs": [
    {
     "name": "stdout",
     "output_type": "stream",
     "text": [
      "2-Acyl-sn-glycero-3-phosphoglycerol tetradec-7-enoyl (location: c): 0.7\n",
      "D-erythro-imidazol-glycerol-phosphate (location: c): 0.16666666666666666\n",
      "D-Ribulose 1,5-bisphosphate (location: c): 0.0\n",
      "Formate (location: e): 1.0\n",
      "6-phospho-D-glucono-1-5-lactone (location: c): 0.4\n",
      "gly-asn-L (location: c): 0.4\n",
      "Thyminose (location: c): 0.6\n",
      "cis-Aconitate (location: c): 1.0\n",
      "5'-Phosphoribosylformylglycinamidine (location: c): 0.7857142857142857\n",
      "Diisohexadecanoylphosphatidylglycerophosphate (location: c): 0.3\n"
     ]
    }
   ],
   "source": [
    "ccoeff = PyFBA.network.clustering_coeff(network)\n",
    "\n",
    "first10 = {k: ccoeff[k] for k in list(ccoeff.keys())[:10]}\n",
    "for compound, coeff in first10.items():\n",
    "    print(compound, coeff, sep=\": \")"
   ]
  },
  {
   "cell_type": "code",
   "execution_count": 6,
   "metadata": {},
   "outputs": [
    {
     "name": "stdout",
     "output_type": "stream",
     "text": [
      "Average clustering coefficient: 0.29023831246191106\n"
     ]
    }
   ],
   "source": [
    "avg_ccoeff = PyFBA.network.avg_clustering_coeff(network)\n",
    "print(\"Average clustering coefficient: \" + str(avg_ccoeff))"
   ]
  },
  {
   "cell_type": "markdown",
   "metadata": {},
   "source": [
    "### Closeness centrality"
   ]
  },
  {
   "cell_type": "code",
   "execution_count": 7,
   "metadata": {},
   "outputs": [
    {
     "name": "stdout",
     "output_type": "stream",
     "text": [
      "2-Acyl-sn-glycero-3-phosphoglycerol tetradec-7-enoyl (location: c): 0.33572824634530624\n",
      "D-erythro-imidazol-glycerol-phosphate (location: c): 0.31556082518675427\n",
      "D-Ribulose 1,5-bisphosphate (location: c): 0.3042715963470237\n",
      "Formate (location: e): 0.0\n",
      "6-phospho-D-glucono-1-5-lactone (location: c): 0.3424222144472832\n",
      "gly-asn-L (location: c): 0.2705353333167266\n",
      "Thyminose (location: c): 0.34059387310393385\n",
      "cis-Aconitate (location: c): 0.25862645099290893\n",
      "5'-Phosphoribosylformylglycinamidine (location: c): 0.344137624384784\n",
      "Diisohexadecanoylphosphatidylglycerophosphate (location: c): 0.3430799597689261\n"
     ]
    }
   ],
   "source": [
    "ccent = PyFBA.network.closeness_centrality(network)\n",
    "\n",
    "first10 = {k: ccent[k] for k in list(ccent.keys())[:10]}\n",
    "for compound, centrality in first10.items():\n",
    "    print(compound, centrality, sep=\": \")"
   ]
  },
  {
   "cell_type": "code",
   "execution_count": 8,
   "metadata": {},
   "outputs": [
    {
     "name": "stdout",
     "output_type": "stream",
     "text": [
      "Average closeness centrality: 0.29074772207602134\n"
     ]
    }
   ],
   "source": [
    "avg_centrality = PyFBA.network.avg_closeness_centrality(network)\n",
    "print(\"Average closeness centrality: \" + str(avg_centrality))"
   ]
  },
  {
   "cell_type": "markdown",
   "metadata": {},
   "source": [
    "### Betweenness centrality"
   ]
  },
  {
   "cell_type": "code",
   "execution_count": 9,
   "metadata": {},
   "outputs": [
    {
     "name": "stdout",
     "output_type": "stream",
     "text": [
      "2-Acyl-sn-glycero-3-phosphoglycerol tetradec-7-enoyl (location: c): 4.346968033266477e-07\n",
      "D-erythro-imidazol-glycerol-phosphate (location: c): 3.3900793728056504e-05\n",
      "D-Ribulose 1,5-bisphosphate (location: c): 1.98045757641539e-05\n",
      "Formate (location: e): 0.0\n",
      "6-phospho-D-glucono-1-5-lactone (location: c): 5.269930764710237e-05\n",
      "gly-asn-L (location: c): 9.330500339303306e-06\n",
      "Thyminose (location: c): 0.00021420638908277415\n",
      "cis-Aconitate (location: c): 5.216361639919772e-07\n",
      "5'-Phosphoribosylformylglycinamidine (location: c): 4.4998992672878615e-05\n",
      "Diisohexadecanoylphosphatidylglycerophosphate (location: c): 2.717338765349831e-05\n"
     ]
    }
   ],
   "source": [
    "bcent = PyFBA.network.betweenness_centrality(network)\n",
    "\n",
    "first10 = {k: bcent[k] for k in list(bcent.keys())[:10]}\n",
    "for compound, centrality in first10.items():\n",
    "    print(compound, centrality, sep=\": \")"
   ]
  },
  {
   "cell_type": "code",
   "execution_count": 10,
   "metadata": {},
   "outputs": [
    {
     "name": "stdout",
     "output_type": "stream",
     "text": [
      "Average betweenness centrality: 0.0013562876654603876\n"
     ]
    }
   ],
   "source": [
    "avg_centrality = PyFBA.network.avg_betweenness_centrality(network)\n",
    "print(\"Average betweenness centrality: \" + str(avg_centrality))"
   ]
  },
  {
   "cell_type": "markdown",
   "metadata": {},
   "source": [
    "### Diameter"
   ]
  },
  {
   "cell_type": "code",
   "execution_count": 11,
   "metadata": {
    "scrolled": true
   },
   "outputs": [
    {
     "name": "stdout",
     "output_type": "stream",
     "text": [
      "Diameter: 6\n"
     ]
    }
   ],
   "source": [
    "diameter = PyFBA.network.diameter(network)\n",
    "print(\"Diameter: \" + str(diameter))"
   ]
  }
 ],
 "metadata": {
  "kernelspec": {
   "display_name": "Python 3",
   "language": "python",
   "name": "python3"
  },
  "language_info": {
   "codemirror_mode": {
    "name": "ipython",
    "version": 3
   },
   "file_extension": ".py",
   "mimetype": "text/x-python",
   "name": "python",
   "nbconvert_exporter": "python",
   "pygments_lexer": "ipython3",
   "version": "3.6.1"
  }
 },
 "nbformat": 4,
 "nbformat_minor": 2
}
