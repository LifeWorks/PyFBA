{
 "cells": [
  {
   "cell_type": "markdown",
   "metadata": {},
   "source": [
    "# Using an SBML model\n",
    "\n",
    "## Getting started\n",
    "\n",
    "### Installing libraries\n",
    "\n",
    "Before you start, you will need to install a couple of libraries:\n",
    "   \n",
    "The [ModelSeedDatabase](https://github.com/ModelSEED/ModelSEEDDatabase) has all the biochemistry we'll need. You can install that with `git clone`.\n",
    "   \n",
    "The [PyFBA](http://linsalrob.github.io/PyFBA) library has detailed [installation instructions](http://linsalrob.github.io/PyFBA/installation.html). Don't be scared, its mostly just `pip install`.\n",
    "\n",
    "(Optional) Also, get the [SEED Servers](https://github.com/linsalrob/SEED_Servers_Python) as you can get a lot of information from them. You can install the git python repo from github.  Make sure that the SEED_Servers_Python is in your PYTHONPATH.\n",
    "\n",
    "We start with importing some modules that we are going to use. \n",
    "\n",
    "We import *sys* so that we can use standard out and standard error if we have some error messages.<br>\n",
    "We import *copy* so that we can make a deep copy of data structures for later comparisons.<br>\n",
    "We import *print_function* so that we can use the print using Python 3.X syntax.<br>\n",
    "Then we import the *PyFBA* module to get started."
   ]
  },
  {
   "cell_type": "code",
   "execution_count": 1,
   "metadata": {},
   "outputs": [
    {
     "name": "stdout",
     "output_type": "stream",
     "text": [
      "We are logging to /home/redwards/GitHubs/PyFBA/iPythonNotebooks/PyFBA.log\n",
      "Welcome to PyFBA version 1.1 started at 2021-05-24 22:34:46.196592\n"
     ]
    },
    {
     "name": "stderr",
     "output_type": "stream",
     "text": [
      "We are using /home/redwards/GitHubs/PyFBA/PyFBA/Biochemistry/ModelSEEDDatabase/ for our data\n"
     ]
    }
   ],
   "source": [
    "import sys\n",
    "import os\n",
    "import copy\n",
    "import PyFBA"
   ]
  },
  {
   "cell_type": "markdown",
   "metadata": {},
   "source": [
    "## Running an SBML model\n",
    "\n",
    "If you have run your genome through RAST, you can download the [SBML](http://www.sbml.org/) model and use that directly.\n",
    "\n",
    "We have provided an [SBML model of *Citrobacter sedlakii*](https://raw.githubusercontent.com/linsalrob/PyFBA/master/example_data/Citrobacter/Citrobacter_sedlakii.sbml) that you can download and use. You can right-ctrl click on this link and save the SBML file in the same location you are running this iPython notebook.\n",
    "\n",
    "We use this SBML model to demonstrate the key points of the FBA approach: defining the reactions, including the boundary, or drainflux, reactions; the compounds, including the drain compounds; the media; and the reaction bounds. \n",
    "\n",
    "We'll take it step by step!\n",
    "\n",
    "We start by parsing the model:\n",
    "\n"
   ]
  },
  {
   "cell_type": "code",
   "execution_count": 2,
   "metadata": {
    "scrolled": true
   },
   "outputs": [
    {
     "name": "stdout",
     "output_type": "stream",
     "text": [
      "Boundary for cpd15302\n",
      "Boundary for cpd08636\n",
      "Boundary for cpd02701\n",
      "Boundary for cpd11416\n",
      "Boundary for cpd00067\n",
      "Boundary for cpd00609\n",
      "Boundary for cpd00652\n",
      "Boundary for cpd00041\n",
      "Boundary for cpd00036\n",
      "Boundary for cpd11590\n",
      "Boundary for cpd11583\n",
      "Boundary for cpd15603\n",
      "Boundary for cpd15606\n",
      "Boundary for cpd01017\n",
      "Boundary for cpd11586\n",
      "Boundary for cpd11589\n",
      "Boundary for cpd11584\n",
      "Boundary for cpd15604\n",
      "Boundary for cpd11593\n",
      "Boundary for cpd11587\n",
      "Boundary for cpd11592\n",
      "Boundary for cpd11580\n",
      "Boundary for cpd11581\n",
      "Boundary for cpd11585\n",
      "Boundary for cpd11591\n",
      "Boundary for cpd15605\n",
      "Boundary for cpd11582\n",
      "Boundary for cpd11588\n",
      "Boundary for cpd00156\n",
      "Boundary for cpd00322\n",
      "Boundary for cpd00107\n",
      "Boundary for cpd01242\n",
      "Boundary for cpd00105\n",
      "Boundary for cpd00254\n",
      "Boundary for cpd00149\n",
      "Boundary for cpd11576\n",
      "Boundary for cpd00060\n",
      "Boundary for cpd01914\n",
      "Boundary for cpd00637\n",
      "Boundary for cpd00098\n",
      "Boundary for cpd00971\n",
      "Boundary for cpd00023\n",
      "Boundary for cpd00396\n",
      "Boundary for cpd03424\n",
      "Boundary for cpd00423\n",
      "Boundary for cpd00246\n",
      "Boundary for cpd03279\n",
      "Boundary for cpd00367\n",
      "Boundary for cpd00277\n",
      "Boundary for cpd00249\n",
      "Boundary for cpd00184\n",
      "Boundary for cpd00412\n",
      "Boundary for cpd00182\n",
      "Boundary for cpd00654\n",
      "Boundary for cpd08023\n",
      "Boundary for cpd09878\n",
      "Boundary for cpd11578\n",
      "Boundary for cpd00210\n",
      "Boundary for cpd03048\n",
      "Boundary for cpd11579\n",
      "Boundary for cpd00395\n",
      "Boundary for cpd11596\n",
      "Boundary for cpd11575\n",
      "Boundary for cpd00158\n",
      "Boundary for cpd00009\n",
      "Boundary for cpd04098\n",
      "Boundary for cpd01048\n",
      "Boundary for cpd00048\n",
      "Boundary for cpd00106\n",
      "Boundary for cpd00264\n",
      "Boundary for cpd00118\n",
      "Boundary for cpd01171\n",
      "Boundary for cpd00211\n",
      "Boundary for cpd00142\n",
      "Boundary for cpd00030\n",
      "Boundary for cpd00129\n",
      "Boundary for cpd00224\n",
      "Boundary for cpd00154\n",
      "Boundary for cpd00108\n",
      "Boundary for cpd00550\n",
      "Boundary for cpd00033\n",
      "Boundary for cpd00054\n",
      "Boundary for cpd00117\n",
      "Boundary for cpd00080\n",
      "Boundary for cpd00039\n",
      "Boundary for cpd00119\n",
      "Boundary for cpd00205\n",
      "Boundary for cpd00079\n",
      "Boundary for cpd01912\n",
      "Boundary for cpd00235\n",
      "Boundary for cpd00797\n",
      "Boundary for cpd00309\n",
      "Boundary for cpd00027\n",
      "Boundary for cpd00082\n",
      "Boundary for cpd00130\n",
      "Boundary for cpd00024\n",
      "Boundary for cpd01030\n",
      "Boundary for cpd03696\n",
      "Boundary for cpd00268\n",
      "Boundary for cpd00035\n",
      "Boundary for cpd00438\n",
      "Boundary for cpd00653\n",
      "Boundary for cpd00355\n",
      "Boundary for cpd01217\n",
      "Boundary for cpd00064\n",
      "Boundary for cpd00162\n",
      "Boundary for cpd00001\n",
      "Boundary for cpd00222\n",
      "Boundary for cpd01329\n",
      "Boundary for cpd01262\n",
      "Boundary for cpd00179\n",
      "Boundary for cpd00540\n",
      "Boundary for cpd00314\n",
      "Boundary for cpd00100\n",
      "Boundary for cpd00012\n",
      "Boundary for cpd00588\n",
      "Boundary for cpd00013\n",
      "Boundary for cpd01080\n",
      "Boundary for cpd00214\n",
      "Boundary for cpd03847\n",
      "Boundary for cpd00053\n",
      "Boundary for cpd00226\n",
      "Boundary for cpd00644\n",
      "Boundary for cpd10515\n",
      "Boundary for cpd03343\n",
      "Boundary for cpd00099\n",
      "Boundary for cpd00047\n",
      "Boundary for cpd00276\n",
      "Boundary for cpd00164\n",
      "Boundary for cpd00280\n",
      "Boundary for cpd00137\n",
      "Boundary for cpd00034\n",
      "Boundary for cpd03198\n",
      "Boundary for cpd00161\n",
      "Boundary for cpd01012\n",
      "Boundary for cpd00531\n",
      "Boundary for cpd04097\n",
      "Boundary for cpd00063\n",
      "Boundary for cpd00307\n",
      "Boundary for cpd00176\n",
      "Boundary for cpd10516\n",
      "Boundary for cpd00051\n",
      "Boundary for cpd03724\n",
      "Boundary for cpd00159\n",
      "Boundary for cpd00122\n",
      "Boundary for cpd00635\n",
      "Boundary for cpd00065\n",
      "Boundary for cpd00209\n",
      "Boundary for cpd00075\n",
      "Boundary for cpd00092\n",
      "Boundary for cpd00208\n",
      "Boundary for cpd00058\n",
      "Boundary for cpd00794\n",
      "Boundary for cpd00138\n",
      "Boundary for cpd00076\n",
      "Boundary for cpd00305\n",
      "Boundary for cpd00281\n",
      "Boundary for cpd00069\n",
      "Boundary for cpd00011\n",
      "Boundary for cpd00007\n",
      "Boundary for cpd00073\n",
      "Boundary for cpd00220\n",
      "Boundary for cpd00581\n",
      "Boundary for cpd00029\n",
      "Boundary for cpd00185\n",
      "Boundary for cpd00132\n",
      "Boundary for cpd00751\n",
      "Boundary for cpd01022\n",
      "Boundary for cpd00121\n",
      "Boundary for cpd00020\n",
      "Boundary for cpd01293\n",
      "Boundary for cpd00128\n",
      "Boundary for cpd01092\n",
      "Boundary for cpd00151\n"
     ]
    }
   ],
   "source": [
    "sbml = PyFBA.parse.parse_sbml_file(\"../example_data/Citrobacter/Citrobacter_sedlakii.sbml\")"
   ]
  },
  {
   "cell_type": "markdown",
   "metadata": {},
   "source": [
    "### Find all the reactions and identify those that are boundary reactions\n",
    "\n",
    "We need a set of reactions to run in the model. In this case, we are going to run all the reactions in our SBML file. However, you can change this set if you want to knock out reactions, add reactions, or generally modify the model. We store those in the `reactions_to_run` set.\n",
    "\n",
    "The boundary reactions refer to compounds that are secreted but then need to be removed from the `reactions_to_run` set. We usually include a consumption of those compounds that is open ended, as if they are draining away. We store those reactions in the `uptake_secretion_reactions` dictionary.\n"
   ]
  },
  {
   "cell_type": "code",
   "execution_count": 3,
   "metadata": {},
   "outputs": [],
   "source": [
    "# Get a dict of reactions.\n",
    "# The key is the reaction ID, and the value is a metabolism.reaction.Reaction object\n",
    "reactions = sbml.reactions\n",
    "reactions_to_run = set()\n",
    "uptake_secretion_reactions = {}\n",
    "biomass_equation = None\n",
    "for r in reactions:\n",
    "    if 'biomass_equation' == r:\n",
    "        biomass_equation = reactions[r]\n",
    "        continue\n",
    "    is_boundary = False\n",
    "    for c in reactions[r].all_compounds():\n",
    "        if c.uptake_secretion:\n",
    "            is_boundary = True\n",
    "            break\n",
    "    if is_boundary:\n",
    "        reactions[r].is_uptake_secretion = True\n",
    "        uptake_secretion_reactions[r] = reactions[r]\n",
    "    else:\n",
    "        reactions_to_run.add(r)\n"
   ]
  },
  {
   "cell_type": "markdown",
   "metadata": {},
   "source": [
    "At this point, we can take a look at how many reactions are in the model, not counting the biomass reaction:"
   ]
  },
  {
   "cell_type": "code",
   "execution_count": 4,
   "metadata": {
    "scrolled": true
   },
   "outputs": [
    {
     "name": "stdout",
     "output_type": "stream",
     "text": [
      "The biomass equation is biomass_equation: Citrobacter_sedlakii_119_auto_biomass\n",
      "There are 1574 reactions in the model\n",
      "There are 1361 uptake/secretion reactions in the model\n",
      "There are 212 reactions to be run in the model\n"
     ]
    }
   ],
   "source": [
    "print(f\"The biomass equation is {biomass_equation}\")\n",
    "print(\"There are {} reactions in the model\".format(len(reactions)))\n",
    "print(\"There are {}\".format(len(uptake_secretion_reactions)),\n",
    "      \"uptake/secretion reactions in the model\")\n",
    "print(\"There are {}\".format(len(reactions_to_run)),\n",
    "      \"reactions to be run in the model\")"
   ]
  },
  {
   "cell_type": "markdown",
   "metadata": {},
   "source": [
    "### Find all the compounds in the model, and filter out those that are secreted\n",
    "\n",
    "We need to filter out uptake and secretion compounds from our list of all compounds before we can make a stoichiometric matrix."
   ]
  },
  {
   "cell_type": "code",
   "execution_count": 5,
   "metadata": {},
   "outputs": [],
   "source": [
    "# Get a dict of compounds. \n",
    "# The key is the string representation of the compound and\n",
    "# the value is a metabolite.compound.Compound object\n",
    "all_compounds = sbml.compounds\n",
    "# Filter for compounds that are boundary compounds\n",
    "filtered_compounds = {}\n",
    "for c in all_compounds:\n",
    "    if not c.uptake_secretion:\n",
    "        filtered_compounds[c] = c"
   ]
  },
  {
   "cell_type": "markdown",
   "metadata": {},
   "source": [
    "Again, we can see how many compounds there are in the model."
   ]
  },
  {
   "cell_type": "code",
   "execution_count": 6,
   "metadata": {},
   "outputs": [
    {
     "name": "stdout",
     "output_type": "stream",
     "text": [
      "There are 1475 total compounds in the model\n",
      "There are 1301 compounds that are not involved in uptake and secretion\n"
     ]
    }
   ],
   "source": [
    "print(\"There are {} total compounds in the model\".format(len(all_compounds)))\n",
    "print(\"There are {}\".format(len(filtered_compounds)),\n",
    "      \"compounds that are not involved in uptake and secretion\")"
   ]
  },
  {
   "cell_type": "markdown",
   "metadata": {},
   "source": [
    "And now we have the size of our stoichiometric matrix! Notice that the stoichiometric matrix is composed of the reactions that we are going to run and the compounds that are in those reactions (but not the uptake/secretion reactions and compounds)."
   ]
  },
  {
   "cell_type": "code",
   "execution_count": 7,
   "metadata": {},
   "outputs": [
    {
     "name": "stdout",
     "output_type": "stream",
     "text": [
      "The stoichiometric matrix will be 212 reactions by 1301 compounds\n"
     ]
    }
   ],
   "source": [
    "print(\"The stoichiometric matrix will\",\n",
    "      \"be {} reactions by {} compounds\".format(len(reactions_to_run),\n",
    "                                               len(filtered_compounds)))"
   ]
  },
  {
   "cell_type": "markdown",
   "metadata": {},
   "source": [
    "### Read the media file, and correct the media names\n",
    "\n",
    "In our [media](https://github.com/linsalrob/PyFBA/tree/master/media) directory, we have a lot of different media formulations, most of which we use with the Genotype-Phenotype project. For this example, we are going to use Lysogeny Broth (LB). There are many different formulations of LB, but we have included the recipe created by the folks at Argonne so that it is comparable with their analysis. You can download [ArgonneLB.txt](https://raw.githubusercontent.com/linsalrob/PyFBA/master/media/ArgonneLB.txt) and put it in the same directory as this iPython notebook to run it.\n",
    "\n",
    "Once we have read the file we need to correct the names in the compounds. Sometimes when compound names are exported to the SBML file they are modified slightly. This just corrects those names."
   ]
  },
  {
   "cell_type": "code",
   "execution_count": 8,
   "metadata": {},
   "outputs": [
    {
     "name": "stderr",
     "output_type": "stream",
     "text": [
      "Even after checking - and + can't find a compound for media component L-Cystine\n",
      "Even after checking - and + can't find a compound for media component chromate\n",
      "Even after checking - and + can't find a compound for media component Thiamine phosphate\n",
      "Even after checking - and + can't find a compound for media component Molybdate\n",
      "Even after checking - and + can't find a compound for media component Ni2+\n",
      "Even after checking - and + can't find a compound for media component Vitamin B12\n"
     ]
    }
   ],
   "source": [
    "# Read the media file\n",
    "media = PyFBA.parse.read_media_file(\"../media/ArgonneLB.txt\")\n",
    "# Correct the names\n",
    "media = sbml.correct_media(media)"
   ]
  },
  {
   "cell_type": "markdown",
   "metadata": {},
   "source": [
    "### Set the reaction bounds for uptake/secretion compounds\n",
    "\n",
    "The uptake and secretion compounds typically have reaction bounds that allow them to be consumed (i.e. diffuse away from the cell) but not produced. However, our media components can also increase in concentration (i.e. diffuse to the cell) and thus the bounds are set higher. Whenever you change the growth media, you also need to adjust the reaction bounds to ensure that the media can be consumed!\n"
   ]
  },
  {
   "cell_type": "code",
   "execution_count": 9,
   "metadata": {},
   "outputs": [],
   "source": [
    "# Adjust the lower bounds of uptake secretion reactions\n",
    "# for things that are not in the media\n",
    "for u in uptake_secretion_reactions:\n",
    "    is_media_component = False\n",
    "    for c in uptake_secretion_reactions[u].all_compounds():\n",
    "        if c in media:\n",
    "            is_media_component = True\n",
    "    if not is_media_component:\n",
    "        reactions[u].lower_bound = 0.0\n",
    "        uptake_secretion_reactions[u].lower_bound = 0.0"
   ]
  },
  {
   "cell_type": "markdown",
   "metadata": {},
   "source": [
    "### Run the FBA\n",
    "\n",
    "Now that we have constructed our model, we can run the FBA!"
   ]
  },
  {
   "cell_type": "code",
   "execution_count": 10,
   "metadata": {
    "scrolled": false
   },
   "outputs": [
    {
     "ename": "KeyError",
     "evalue": "'In the reaction ATP_nucleoside_phosphate_phosphotransferase_c0, you do not have cpd00091: UMP (location: e) on the left hand side of the equation:  (1) cpd00091: UMP (location: c) +  (1) cpd00002: ATP (location: c) =  (1) cpd00014: UDP (location: c) +  (1) cpd00008: ADP (location: c)'",
     "output_type": "error",
     "traceback": [
      "\u001b[0;31m---------------------------------------------------------------------------\u001b[0m",
      "\u001b[0;31mKeyError\u001b[0m                                  Traceback (most recent call last)",
      "\u001b[0;32m<ipython-input-10-fe219d954913>\u001b[0m in \u001b[0;36m<module>\u001b[0;34m\u001b[0m\n\u001b[0;32m----> 1\u001b[0;31m status, value, growth = PyFBA.fba.run_fba(filtered_compounds, reactions,\n\u001b[0m\u001b[1;32m      2\u001b[0m                                           \u001b[0mreactions_to_run\u001b[0m\u001b[0;34m,\u001b[0m \u001b[0mmedia\u001b[0m\u001b[0;34m,\u001b[0m \u001b[0mbiomass_equation\u001b[0m\u001b[0;34m,\u001b[0m\u001b[0;34m\u001b[0m\u001b[0;34m\u001b[0m\u001b[0m\n\u001b[1;32m      3\u001b[0m                                           uptake_secretion_reactions)\n\u001b[1;32m      4\u001b[0m \u001b[0mprint\u001b[0m\u001b[0;34m(\u001b[0m\u001b[0;34m\"The FBA completed with a flux value of {} --> growth: {}\"\u001b[0m\u001b[0;34m.\u001b[0m\u001b[0mformat\u001b[0m\u001b[0;34m(\u001b[0m\u001b[0mvalue\u001b[0m\u001b[0;34m,\u001b[0m \u001b[0mgrowth\u001b[0m\u001b[0;34m)\u001b[0m\u001b[0;34m)\u001b[0m\u001b[0;34m\u001b[0m\u001b[0;34m\u001b[0m\u001b[0m\n",
      "\u001b[0;32m~/GitHubs/PyFBA/PyFBA/fba/run_fba.py\u001b[0m in \u001b[0;36mrun_fba\u001b[0;34m(compounds, reactions, reactions_to_run, media, biomass_equation, uptake_secretion, verbose)\u001b[0m\n\u001b[1;32m     31\u001b[0m     \"\"\"\n\u001b[1;32m     32\u001b[0m \u001b[0;34m\u001b[0m\u001b[0m\n\u001b[0;32m---> 33\u001b[0;31m     cp, rc, reactions = PyFBA.fba.create_stoichiometric_matrix(reactions_to_run, reactions, compounds, media,\n\u001b[0m\u001b[1;32m     34\u001b[0m                                                                biomass_equation, uptake_secretion, verbose=False)\n\u001b[1;32m     35\u001b[0m \u001b[0;34m\u001b[0m\u001b[0m\n",
      "\u001b[0;32m~/GitHubs/PyFBA/PyFBA/fba/create_stoichiometric_matrix.py\u001b[0m in \u001b[0;36mcreate_stoichiometric_matrix\u001b[0;34m(reactions_to_run, reactions, compounds, media, biomass_equation, uptake_secretion, verbose)\u001b[0m\n\u001b[1;32m     51\u001b[0m             \u001b[0;32mif\u001b[0m \u001b[0mstr\u001b[0m\u001b[0;34m(\u001b[0m\u001b[0mc\u001b[0m\u001b[0;34m)\u001b[0m \u001b[0;32mnot\u001b[0m \u001b[0;32min\u001b[0m \u001b[0msm\u001b[0m\u001b[0;34m:\u001b[0m\u001b[0;34m\u001b[0m\u001b[0;34m\u001b[0m\u001b[0m\n\u001b[1;32m     52\u001b[0m                 \u001b[0msm\u001b[0m\u001b[0;34m[\u001b[0m\u001b[0mstr\u001b[0m\u001b[0;34m(\u001b[0m\u001b[0mc\u001b[0m\u001b[0;34m)\u001b[0m\u001b[0;34m]\u001b[0m \u001b[0;34m=\u001b[0m \u001b[0;34m{\u001b[0m\u001b[0;34m}\u001b[0m\u001b[0;34m\u001b[0m\u001b[0;34m\u001b[0m\u001b[0m\n\u001b[0;32m---> 53\u001b[0;31m             \u001b[0msm\u001b[0m\u001b[0;34m[\u001b[0m\u001b[0mstr\u001b[0m\u001b[0;34m(\u001b[0m\u001b[0mc\u001b[0m\u001b[0;34m)\u001b[0m\u001b[0;34m]\u001b[0m\u001b[0;34m[\u001b[0m\u001b[0mr\u001b[0m\u001b[0;34m]\u001b[0m \u001b[0;34m=\u001b[0m \u001b[0;36m0\u001b[0m \u001b[0;34m-\u001b[0m \u001b[0mreactions\u001b[0m\u001b[0;34m[\u001b[0m\u001b[0mr\u001b[0m\u001b[0;34m]\u001b[0m\u001b[0;34m.\u001b[0m\u001b[0mget_left_compound_abundance\u001b[0m\u001b[0;34m(\u001b[0m\u001b[0mc\u001b[0m\u001b[0;34m)\u001b[0m\u001b[0;34m\u001b[0m\u001b[0;34m\u001b[0m\u001b[0m\n\u001b[0m\u001b[1;32m     54\u001b[0m \u001b[0;34m\u001b[0m\u001b[0m\n\u001b[1;32m     55\u001b[0m         \u001b[0;32mfor\u001b[0m \u001b[0mc\u001b[0m \u001b[0;32min\u001b[0m \u001b[0mreactions\u001b[0m\u001b[0;34m[\u001b[0m\u001b[0mr\u001b[0m\u001b[0;34m]\u001b[0m\u001b[0;34m.\u001b[0m\u001b[0mright_compounds\u001b[0m\u001b[0;34m:\u001b[0m\u001b[0;34m\u001b[0m\u001b[0;34m\u001b[0m\u001b[0m\n",
      "\u001b[0;32m~/GitHubs/PyFBA/PyFBA/metabolism/reaction.py\u001b[0m in \u001b[0;36mget_left_compound_abundance\u001b[0;34m(self, cmpd)\u001b[0m\n\u001b[1;32m    237\u001b[0m             \u001b[0;32mreturn\u001b[0m \u001b[0mself\u001b[0m\u001b[0;34m.\u001b[0m\u001b[0mleft_abundance\u001b[0m\u001b[0;34m[\u001b[0m\u001b[0mcmpd\u001b[0m\u001b[0;34m]\u001b[0m\u001b[0;34m\u001b[0m\u001b[0;34m\u001b[0m\u001b[0m\n\u001b[1;32m    238\u001b[0m         \u001b[0;32melse\u001b[0m\u001b[0;34m:\u001b[0m\u001b[0;34m\u001b[0m\u001b[0;34m\u001b[0m\u001b[0m\n\u001b[0;32m--> 239\u001b[0;31m             raise KeyError(f\"In the reaction {self.readable_name}, you do not have\" +\n\u001b[0m\u001b[1;32m    240\u001b[0m                            f\" {cmpd} on the left hand side of the equation: {self.equation}\")\n\u001b[1;32m    241\u001b[0m \u001b[0;34m\u001b[0m\u001b[0m\n",
      "\u001b[0;31mKeyError\u001b[0m: 'In the reaction ATP_nucleoside_phosphate_phosphotransferase_c0, you do not have cpd00091: UMP (location: e) on the left hand side of the equation:  (1) cpd00091: UMP (location: c) +  (1) cpd00002: ATP (location: c) =  (1) cpd00014: UDP (location: c) +  (1) cpd00008: ADP (location: c)'"
     ]
    }
   ],
   "source": [
    "status, value, growth = PyFBA.fba.run_fba(filtered_compounds, reactions,\n",
    "                                          reactions_to_run, media, biomass_equation,\n",
    "                                          uptake_secretion_reactions)\n",
    "print(\"The FBA completed with a flux value of {} --> growth: {}\".format(value, growth))\n"
   ]
  }
 ],
 "metadata": {
  "kernelspec": {
   "display_name": "Python 2",
   "language": "python",
   "name": "python2"
  },
  "language_info": {
   "codemirror_mode": {
    "name": "ipython",
    "version": 3
   },
   "file_extension": ".py",
   "mimetype": "text/x-python",
   "name": "python",
   "nbconvert_exporter": "python",
   "pygments_lexer": "ipython3",
   "version": "3.8.6"
  }
 },
 "nbformat": 4,
 "nbformat_minor": 1
}
