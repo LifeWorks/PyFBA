{
 "cells": [
  {
   "cell_type": "markdown",
   "metadata": {},
   "source": [
    "# Using an SBML model\n",
    "\n",
    "## Getting started\n",
    "\n",
    "### Installing libraries\n",
    "\n",
    "Before you start, you will need to install a couple of libraries:\n",
    "   \n",
    "The [ModelSeedDatabase](https://github.com/ModelSEED/ModelSEEDDatabase) has all the biochemistry we'll need. You can install that with `git clone`.\n",
    "   \n",
    "The [PyFBA](http://linsalrob.github.io/PyFBA) library has detailed [installation instructions](http://linsalrob.github.io/PyFBA/installation.html). Don't be scared, its mostly just `pip install`.\n",
    "\n",
    "(Optional) Also, get the [SEED Servers](https://github.com/linsalrob/SEED_Servers_Python) as you can get a lot of information from them. You can install the git python repo from github.  Make sure that the SEED_Servers_Python is in your PYTHONPATH.\n",
    "\n",
    "We start with importing some modules that we are going to use. \n",
    "\n",
    "We import *sys* so that we can use standard out and standard error if we have some error messages.<br>\n",
    "We import *copy* so that we can make a deep copy of data structures for later comparisons.<br>\n",
    "We import *print_function* so that we can use the print using Python 3.X syntax.<br>\n",
    "Then we import the *PyFBA* module to get started."
   ]
  },
  {
   "cell_type": "code",
   "execution_count": 1,
   "metadata": {},
   "outputs": [
    {
     "name": "stdout",
     "output_type": "stream",
     "text": [
      "We are logging to /home/redwards/GitHubs/PyFBA/iPythonNotebooks/PyFBA.log\n",
      "Welcome to PyFBA version 1.1 started at 2021-05-24 08:16:34.028901\n"
     ]
    },
    {
     "name": "stderr",
     "output_type": "stream",
     "text": [
      "We are using /home/redwards/GitHubs/PyFBA/PyFBA/Biochemistry/ModelSEEDDatabase/ for our data\n"
     ]
    }
   ],
   "source": [
    "import sys\n",
    "import os\n",
    "import copy\n",
    "import PyFBA"
   ]
  },
  {
   "cell_type": "markdown",
   "metadata": {},
   "source": [
    "## Running an SBML model\n",
    "\n",
    "If you have run your genome through RAST, you can download the [SBML](http://www.sbml.org/) model and use that directly.\n",
    "\n",
    "We have provided an [SBML model of *Citrobacter sedlakii*](https://raw.githubusercontent.com/linsalrob/PyFBA/master/example_data/Citrobacter/Citrobacter_sedlakii.sbml) that you can download and use. You can right-ctrl click on this link and save the SBML file in the same location you are running this iPython notebook.\n",
    "\n",
    "We use this SBML model to demonstrate the key points of the FBA approach: defining the reactions, including the boundary, or drainflux, reactions; the compounds, including the drain compounds; the media; and the reaction bounds. \n",
    "\n",
    "We'll take it step by step!\n",
    "\n",
    "We start by parsing the model:\n",
    "\n"
   ]
  },
  {
   "cell_type": "code",
   "execution_count": 2,
   "metadata": {
    "scrolled": true
   },
   "outputs": [],
   "source": [
    "sbml = PyFBA.parse.parse_sbml_file(\"../example_data/Citrobacter/Citrobacter_sedlakii.sbml\")"
   ]
  },
  {
   "cell_type": "markdown",
   "metadata": {},
   "source": [
    "### Find all the reactions and identify those that are boundary reactions\n",
    "\n",
    "We need a set of reactions to run in the model. In this case, we are going to run all the reactions in our SBML file. However, you can change this set if you want to knock out reactions, add reactions, or generally modify the model. We store those in the `reactions_to_run` set.\n",
    "\n",
    "The boundary reactions refer to compounds that are secreted but then need to be removed from the `reactions_to_run` set. We usually include a consumption of those compounds that is open ended, as if they are draining away. We store those reactions in the `uptake_secretion_reactions` dictionary.\n"
   ]
  },
  {
   "cell_type": "code",
   "execution_count": 3,
   "metadata": {},
   "outputs": [],
   "source": [
    "# Get a dict of reactions.\n",
    "# The key is the reaction ID, and the value is a metabolism.reaction.Reaction object\n",
    "reactions = sbml.reactions\n",
    "reactions_to_run = set()\n",
    "uptake_secretion_reactions = {}\n",
    "biomass_equation = None\n",
    "for r in reactions:\n",
    "    if 'biomass_equation' in r:\n",
    "        biomass_equation = reactions[r]\n",
    "        continue\n",
    "    is_boundary = False\n",
    "    for c in reactions[r].all_compounds():\n",
    "        if c.uptake_secretion:\n",
    "            is_boundary = True\n",
    "    if is_boundary:\n",
    "        reactions[r].is_uptake_secretion = True\n",
    "        uptake_secretion_reactions[r] = reactions[r]\n",
    "    else:\n",
    "        reactions_to_run.add(r)\n"
   ]
  },
  {
   "cell_type": "markdown",
   "metadata": {},
   "source": [
    "At this point, we can take a look at how many reactions are in the model, not counting the biomass reaction:"
   ]
  },
  {
   "cell_type": "code",
   "execution_count": 4,
   "metadata": {
    "scrolled": true
   },
   "outputs": [
    {
     "name": "stdout",
     "output_type": "stream",
     "text": [
      "There are 1574 reactions in the model\n",
      "There are 0 uptake/secretion reactions in the model\n",
      "There are 1573 reactions to be run in the model\n"
     ]
    }
   ],
   "source": [
    "print(\"There are {} reactions in the model\".format(len(reactions)))\n",
    "print(\"There are {}\".format(len(uptake_secretion_reactions)),\n",
    "      \"uptake/secretion reactions in the model\")\n",
    "print(\"There are {}\".format(len(reactions_to_run)),\n",
    "      \"reactions to be run in the model\")"
   ]
  },
  {
   "cell_type": "markdown",
   "metadata": {},
   "source": [
    "### Find all the compounds in the model, and filter out those that are secreted\n",
    "\n",
    "We need to filter out uptake and secretion compounds from our list of all compounds before we can make a stoichiometric matrix."
   ]
  },
  {
   "cell_type": "code",
   "execution_count": 5,
   "metadata": {},
   "outputs": [],
   "source": [
    "# Get a dict of compounds. \n",
    "# The key is the string representation of the compound and\n",
    "# the value is a metabolite.compound.Compound object\n",
    "all_compounds = sbml.compounds\n",
    "# Filter for compounds that are boundary compounds\n",
    "filtered_compounds = {}\n",
    "for c in all_compounds:\n",
    "    if not c.uptake_secretion:\n",
    "        filtered_compounds[c] = c"
   ]
  },
  {
   "cell_type": "markdown",
   "metadata": {},
   "source": [
    "Again, we can see how many compounds there are in the model."
   ]
  },
  {
   "cell_type": "code",
   "execution_count": 6,
   "metadata": {},
   "outputs": [
    {
     "name": "stdout",
     "output_type": "stream",
     "text": [
      "There are 1475 total compounds in the model\n",
      "There are 1301 compounds that are not involved in uptake and secretion\n"
     ]
    }
   ],
   "source": [
    "print(\"There are {} total compounds in the model\".format(len(all_compounds)))\n",
    "print(\"There are {}\".format(len(filtered_compounds)),\n",
    "      \"compounds that are not involved in uptake and secretion\")"
   ]
  },
  {
   "cell_type": "markdown",
   "metadata": {},
   "source": [
    "And now we have the size of our stoichiometric matrix! Notice that the stoichiometric matrix is composed of the reactions that we are going to run and the compounds that are in those reactions (but not the uptake/secretion reactions and compounds)."
   ]
  },
  {
   "cell_type": "code",
   "execution_count": 7,
   "metadata": {},
   "outputs": [
    {
     "name": "stdout",
     "output_type": "stream",
     "text": [
      "The stoichiometric matrix will be 1573 reactions by 1301 compounds\n"
     ]
    }
   ],
   "source": [
    "print(\"The stoichiometric matrix will\",\n",
    "      \"be {} reactions by {} compounds\".format(len(reactions_to_run),\n",
    "                                               len(filtered_compounds)))"
   ]
  },
  {
   "cell_type": "markdown",
   "metadata": {},
   "source": [
    "### Read the media file, and correct the media names\n",
    "\n",
    "In our [media](https://github.com/linsalrob/PyFBA/tree/master/media) directory, we have a lot of different media formulations, most of which we use with the Genotype-Phenotype project. For this example, we are going to use Lysogeny Broth (LB). There are many different formulations of LB, but we have included the recipe created by the folks at Argonne so that it is comparable with their analysis. You can download [ArgonneLB.txt](https://raw.githubusercontent.com/linsalrob/PyFBA/master/media/ArgonneLB.txt) and put it in the same directory as this iPython notebook to run it.\n",
    "\n",
    "Once we have read the file we need to correct the names in the compounds. Sometimes when compound names are exported to the SBML file they are modified slightly. This just corrects those names."
   ]
  },
  {
   "cell_type": "code",
   "execution_count": 8,
   "metadata": {},
   "outputs": [
    {
     "name": "stdout",
     "output_type": "stream",
     "text": [
      "Found media component cpd00091: UMP (location: c)\n",
      "Found media component cpd00182: Adenosine (location: e)\n",
      "Found media component cpd00048: Sulfate (location: e)\n",
      "Found media component cpd00046: CMP (location: c)\n",
      "Found media component cpd00311: Guanosine (location: c)\n",
      "Found media component cpd00644: PAN (location: e)\n",
      "Found media component cpd00007: O2 (location: e)\n",
      "Found media component cpd00028: Heme (location: c)\n",
      "Found media component cpd00220: Riboflavin (location: e)\n",
      "Found media component cpd00239: H2S (location: c)\n",
      "Found media component cpd00246: Inosine (location: e)\n",
      "Found media component cpd00254: Mg (location: c)\n",
      "Found media component cpd00126: GMP (location: c)\n",
      "Found media component cpd00001: H2O (location: e)\n",
      "Found media component cpd00018: AMP (location: c)\n",
      "Found media component cpd00654: Deoxycytidine (location: e)\n",
      "Found media component cpd00184: Thymidine (location: e)\n",
      "Found media component cpd00393: Folate (location: c)\n",
      "Found media component cpd00541: Lipoate (location: c)\n",
      "Found media component cpd01048: Arsenate (location: c)\n",
      "Found media component cpd00215: Pyridoxal (location: c)\n",
      "Found media component cpd00092: Uracil (location: e)\n",
      "Found media component cpd00226: HYXN (location: e)\n",
      "Found media component cpd00438: Deoxyadenosine (location: e)\n",
      "Found media component cpd00009: Phosphate (location: e)\n",
      "Found media component cpd00013: NH3 (location: e)\n",
      "Found media component cpd00033: Glycine (location: e)\n",
      "Found media component cpd00218: Niacin (location: c)\n",
      "Found media component cpd00249: Uridine (location: e)\n",
      "Found media component cpd10516: fe3 (location: e)\n"
     ]
    },
    {
     "name": "stderr",
     "output_type": "stream",
     "text": [
      "WARNING: This may not be correct. Please check correct_media_names in parse_sbml.py\n",
      "Can't find a compound for media component L-Proline\n",
      "Can't find a compound for media component Cl-\n",
      "Can't find a compound for media component L-Methionine\n",
      "Can't find a compound for media component L-Arginine\n",
      "Can't find a compound for media component L-Valine\n",
      "Can't find a compound for media component L-Phenylalanine\n",
      "Can't find a compound for media component L-Tryptophan\n",
      "Can't find a compound for media component Hg2+\n",
      "Can't find a compound for media component Ca2+\n",
      "Can't find a compound for media component L-Isoleucine\n",
      "Can't find a compound for media component Co2+\n",
      "Can't find a compound for media component Fe2+\n",
      "Can't find a compound for media component L-Cystine\n",
      "Can't find a compound for media component Cd2+\n",
      "Can't find a compound for media component Thiamine phosphate\n",
      "Can't find a compound for media component Na+\n",
      "Can't find a compound for media component H+\n",
      "Can't find a compound for media component L-Tyrosine\n",
      "Can't find a compound for media component L-Leucine\n",
      "Can't find a compound for media component Zn2+\n",
      "Can't find a compound for media component Vitamin B12\n",
      "Can't find a compound for media component L-Aspartate\n",
      "Can't find a compound for media component chromate\n",
      "Can't find a compound for media component L-Glutamate\n",
      "Can't find a compound for media component Ni2+\n",
      "Can't find a compound for media component Cu2+\n",
      "Can't find a compound for media component D-Glucose\n",
      "Can't find a compound for media component L-Alanine\n",
      "Can't find a compound for media component L-Serine\n",
      "Can't find a compound for media component Mn2+\n",
      "Can't find a compound for media component L-Histidine\n",
      "Can't find a compound for media component K+\n",
      "Can't find a compound for media component Molybdate\n",
      "Can't find a compound for media component L-Threonine\n",
      "Can't find a compound for media component L-Lysine\n"
     ]
    }
   ],
   "source": [
    "# Read the media file\n",
    "media = PyFBA.parse.read_media_file(\"../media/ArgonneLB.txt\")\n",
    "# Correct the names\n",
    "media = PyFBA.parse.correct_media_names(media, sbml, all_compounds)"
   ]
  },
  {
   "cell_type": "markdown",
   "metadata": {},
   "source": [
    "### Set the reaction bounds for uptake/secretion compounds\n",
    "\n",
    "The uptake and secretion compounds typically have reaction bounds that allow them to be consumed (i.e. diffuse away from the cell) but not produced. However, our media components can also increase in concentration (i.e. diffuse to the cell) and thus the bounds are set higher. Whenever you change the growth media, you also need to adjust the reaction bounds to ensure that the media can be consumed!\n"
   ]
  },
  {
   "cell_type": "code",
   "execution_count": 9,
   "metadata": {},
   "outputs": [],
   "source": [
    "# Adjust the lower bounds of uptake secretion reactions\n",
    "# for things that are not in the media\n",
    "for u in uptake_secretion_reactions:\n",
    "    is_media_component = False\n",
    "    for c in uptake_secretion_reactions[u].all_compounds():\n",
    "        if c in media:\n",
    "            is_media_component = True\n",
    "    if not is_media_component:\n",
    "        reactions[u].lower_bound = 0.0\n",
    "        uptake_secretion_reactions[u].lower_bound = 0.0"
   ]
  },
  {
   "cell_type": "markdown",
   "metadata": {},
   "source": [
    "### Run the FBA\n",
    "\n",
    "Now that we have constructed our model, we can run the FBA!"
   ]
  },
  {
   "cell_type": "code",
   "execution_count": 10,
   "metadata": {
    "scrolled": false
   },
   "outputs": [
    {
     "ename": "KeyError",
     "evalue": "'cpd15269: octadecenoate (location: c)'",
     "output_type": "error",
     "traceback": [
      "\u001b[0;31m---------------------------------------------------------------------------\u001b[0m",
      "\u001b[0;31mKeyError\u001b[0m                                  Traceback (most recent call last)",
      "\u001b[0;32m<ipython-input-10-fe219d954913>\u001b[0m in \u001b[0;36m<module>\u001b[0;34m\u001b[0m\n\u001b[0;32m----> 1\u001b[0;31m status, value, growth = PyFBA.fba.run_fba(filtered_compounds, reactions,\n\u001b[0m\u001b[1;32m      2\u001b[0m                                           \u001b[0mreactions_to_run\u001b[0m\u001b[0;34m,\u001b[0m \u001b[0mmedia\u001b[0m\u001b[0;34m,\u001b[0m \u001b[0mbiomass_equation\u001b[0m\u001b[0;34m,\u001b[0m\u001b[0;34m\u001b[0m\u001b[0;34m\u001b[0m\u001b[0m\n\u001b[1;32m      3\u001b[0m                                           uptake_secretion_reactions)\n\u001b[1;32m      4\u001b[0m \u001b[0mprint\u001b[0m\u001b[0;34m(\u001b[0m\u001b[0;34m\"The FBA completed with a flux value of {} --> growth: {}\"\u001b[0m\u001b[0;34m.\u001b[0m\u001b[0mformat\u001b[0m\u001b[0;34m(\u001b[0m\u001b[0mvalue\u001b[0m\u001b[0;34m,\u001b[0m \u001b[0mgrowth\u001b[0m\u001b[0;34m)\u001b[0m\u001b[0;34m)\u001b[0m\u001b[0;34m\u001b[0m\u001b[0;34m\u001b[0m\u001b[0m\n",
      "\u001b[0;32m~/GitHubs/PyFBA/PyFBA/fba/run_fba.py\u001b[0m in \u001b[0;36mrun_fba\u001b[0;34m(compounds, reactions, reactions_to_run, media, biomass_equation, uptake_secretion, verbose)\u001b[0m\n\u001b[1;32m     31\u001b[0m     \"\"\"\n\u001b[1;32m     32\u001b[0m \u001b[0;34m\u001b[0m\u001b[0m\n\u001b[0;32m---> 33\u001b[0;31m     cp, rc, reactions = PyFBA.fba.create_stoichiometric_matrix(reactions_to_run, reactions, compounds, media,\n\u001b[0m\u001b[1;32m     34\u001b[0m                                                                biomass_equation, uptake_secretion, verbose=False)\n\u001b[1;32m     35\u001b[0m \u001b[0;34m\u001b[0m\u001b[0m\n",
      "\u001b[0;32m~/GitHubs/PyFBA/PyFBA/fba/create_stoichiometric_matrix.py\u001b[0m in \u001b[0;36mcreate_stoichiometric_matrix\u001b[0;34m(reactions_to_run, reactions, compounds, media, biomass_equation, uptake_secretion, verbose)\u001b[0m\n\u001b[1;32m     83\u001b[0m \u001b[0;34m\u001b[0m\u001b[0m\n\u001b[1;32m     84\u001b[0m     \u001b[0;32mif\u001b[0m \u001b[0;32mnot\u001b[0m \u001b[0muptake_secretion\u001b[0m\u001b[0;34m:\u001b[0m\u001b[0;34m\u001b[0m\u001b[0;34m\u001b[0m\u001b[0m\n\u001b[0;32m---> 85\u001b[0;31m         \u001b[0muptake_secretion\u001b[0m \u001b[0;34m=\u001b[0m \u001b[0mPyFBA\u001b[0m\u001b[0;34m.\u001b[0m\u001b[0mfba\u001b[0m\u001b[0;34m.\u001b[0m\u001b[0muptake_and_secretion_reactions\u001b[0m\u001b[0;34m(\u001b[0m\u001b[0mallcpds\u001b[0m\u001b[0;34m,\u001b[0m \u001b[0mcompounds\u001b[0m\u001b[0;34m)\u001b[0m\u001b[0;34m\u001b[0m\u001b[0;34m\u001b[0m\u001b[0m\n\u001b[0m\u001b[1;32m     86\u001b[0m     \u001b[0;32mfor\u001b[0m \u001b[0mr\u001b[0m \u001b[0;32min\u001b[0m \u001b[0muptake_secretion\u001b[0m\u001b[0;34m:\u001b[0m\u001b[0;34m\u001b[0m\u001b[0;34m\u001b[0m\u001b[0m\n\u001b[1;32m     87\u001b[0m         \u001b[0mreactions\u001b[0m\u001b[0;34m[\u001b[0m\u001b[0muptake_secretion\u001b[0m\u001b[0;34m[\u001b[0m\u001b[0mr\u001b[0m\u001b[0;34m]\u001b[0m\u001b[0;34m.\u001b[0m\u001b[0mid\u001b[0m\u001b[0;34m]\u001b[0m \u001b[0;34m=\u001b[0m \u001b[0muptake_secretion\u001b[0m\u001b[0;34m[\u001b[0m\u001b[0mr\u001b[0m\u001b[0;34m]\u001b[0m\u001b[0;34m\u001b[0m\u001b[0;34m\u001b[0m\u001b[0m\n",
      "\u001b[0;32m~/GitHubs/PyFBA/PyFBA/fba/external_reactions.py\u001b[0m in \u001b[0;36muptake_and_secretion_reactions\u001b[0;34m(model_compounds, compounds)\u001b[0m\n\u001b[1;32m     23\u001b[0m     \u001b[0mcount\u001b[0m \u001b[0;34m=\u001b[0m \u001b[0;36m0\u001b[0m\u001b[0;34m\u001b[0m\u001b[0;34m\u001b[0m\u001b[0m\n\u001b[1;32m     24\u001b[0m     \u001b[0;32mfor\u001b[0m \u001b[0mc\u001b[0m \u001b[0;32min\u001b[0m \u001b[0mmodel_compounds\u001b[0m\u001b[0;34m:\u001b[0m\u001b[0;34m\u001b[0m\u001b[0;34m\u001b[0m\u001b[0m\n\u001b[0;32m---> 25\u001b[0;31m         \u001b[0;32mif\u001b[0m \u001b[0mcompounds\u001b[0m\u001b[0;34m[\u001b[0m\u001b[0mc\u001b[0m\u001b[0;34m]\u001b[0m\u001b[0;34m.\u001b[0m\u001b[0mlocation\u001b[0m \u001b[0;34m==\u001b[0m \u001b[0;34m'e'\u001b[0m \u001b[0;32mor\u001b[0m \u001b[0mcompounds\u001b[0m\u001b[0;34m[\u001b[0m\u001b[0mc\u001b[0m\u001b[0;34m]\u001b[0m\u001b[0;34m.\u001b[0m\u001b[0mname\u001b[0m \u001b[0;34m==\u001b[0m \u001b[0;34m'Biomass'\u001b[0m\u001b[0;34m:\u001b[0m\u001b[0;34m\u001b[0m\u001b[0;34m\u001b[0m\u001b[0m\n\u001b[0m\u001b[1;32m     26\u001b[0m             \u001b[0;31m# this is an uptake or secretion reaction\u001b[0m\u001b[0;34m\u001b[0m\u001b[0;34m\u001b[0m\u001b[0;34m\u001b[0m\u001b[0m\n\u001b[1;32m     27\u001b[0m             \u001b[0;31m# we need to add a new compound like this with a false location\u001b[0m\u001b[0;34m\u001b[0m\u001b[0;34m\u001b[0m\u001b[0;34m\u001b[0m\u001b[0m\n",
      "\u001b[0;31mKeyError\u001b[0m: 'cpd15269: octadecenoate (location: c)'"
     ]
    }
   ],
   "source": [
    "status, value, growth = PyFBA.fba.run_fba(filtered_compounds, reactions,\n",
    "                                          reactions_to_run, media, biomass_equation,\n",
    "                                          uptake_secretion_reactions)\n",
    "print(\"The FBA completed with a flux value of {} --> growth: {}\".format(value, growth))\n"
   ]
  }
 ],
 "metadata": {
  "kernelspec": {
   "display_name": "Python 2",
   "language": "python",
   "name": "python2"
  },
  "language_info": {
   "codemirror_mode": {
    "name": "ipython",
    "version": 3
   },
   "file_extension": ".py",
   "mimetype": "text/x-python",
   "name": "python",
   "nbconvert_exporter": "python",
   "pygments_lexer": "ipython3",
   "version": "3.8.6"
  }
 },
 "nbformat": 4,
 "nbformat_minor": 1
}
