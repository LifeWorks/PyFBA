{
 "cells": [
  {
   "cell_type": "markdown",
   "id": "4944cbcf",
   "metadata": {},
   "source": [
    "# Using an SBML model\n",
    "\n",
    "## Getting started\n",
    "\n",
    "### Installing libraries\n",
    "\n",
    "Before you start, you will need to install a couple of libraries:\n",
    "   \n",
    "The [ModelSeedDatabase](https://github.com/ModelSEED/ModelSEEDDatabase) has all the biochemistry we'll need. You can install that with `git clone`.\n",
    "   \n",
    "The [PyFBA](http://linsalrob.github.io/PyFBA) library has detailed [installation instructions](http://linsalrob.github.io/PyFBA/installation.html). Don't be scared, its mostly just `pip install`.\n",
    "\n",
    "(Optional) Also, get the [SEED Servers](https://github.com/linsalrob/SEED_Servers_Python) as you can get a lot of information from them. You can install the git python repo from github.  Make sure that the SEED_Servers_Python is in your PYTHONPATH.\n",
    "\n",
    "We start with importing some modules that we are going to use. \n",
    "\n",
    "We import *sys* so that we can use standard out and standard error if we have some error messages.<br>\n",
    "We import *copy* so that we can make a deep copy of data structures for later comparisons.<br>\n",
    "Then we import the *PyFBA* module to get started."
   ]
  },
  {
   "cell_type": "code",
   "execution_count": 1,
   "id": "0858698b",
   "metadata": {},
   "outputs": [],
   "source": [
    "import sys\n",
    "import os\n",
    "import copy\n",
    "import PyFBA\n",
    "import pickle"
   ]
  },
  {
   "cell_type": "markdown",
   "id": "652b5ed3",
   "metadata": {},
   "source": [
    "## Sharing the data\n",
    "\n",
    "If you set this variable to true, we will export some of the data, as either `txt` files or `pickle` files, and then you can import them into other notebooks to explore the data"
   ]
  },
  {
   "cell_type": "code",
   "execution_count": 2,
   "id": "039e778b",
   "metadata": {},
   "outputs": [],
   "source": [
    "share_data = True"
   ]
  },
  {
   "cell_type": "markdown",
   "id": "a6cbaf44",
   "metadata": {},
   "source": [
    "## Running an SBML model\n",
    "\n",
    "If you have run your genome through RAST, you can download the [SBML](http://www.sbml.org/) model and use that directly.\n",
    "\n",
    "We have provided an [SBML model of *Citrobacter sedlakii*](https://raw.githubusercontent.com/linsalrob/PyFBA/master/example_data/Citrobacter/Citrobacter_sedlakii.sbml) that you can download and use. You can right-ctrl click on this link and save the SBML file in the same location you are running this iPython notebook.\n",
    "\n",
    "We use this SBML model to demonstrate the key points of the FBA approach: defining the reactions, including the boundary, or drainflux, reactions; the compounds, including the drain compounds; the media; and the reaction bounds. \n",
    "\n",
    "We'll take it step by step!\n",
    "\n",
    "We start by parsing the model:"
   ]
  },
  {
   "cell_type": "code",
   "execution_count": 3,
   "id": "231031c1",
   "metadata": {},
   "outputs": [
    {
     "name": "stderr",
     "output_type": "stream",
     "text": [
      "We are logging to /home/redwards/GitHubsLinux/PyFBA/iPythonNotebooks/logs/PyFBA.2021-06-15T17:09:15.202259.log\n",
      "Found EX_cpd00067 cpd00067_e0 and got cpd00067 e for cpd00067: H (location: e)\n",
      "Found EX_cpd00067 cpd00067_b and got cpd00067 b for cpd00067: H (location: b)\n"
     ]
    }
   ],
   "source": [
    "sbml = PyFBA.parse.parse_sbml_file(\"../example_data/Citrobacter/Citrobacter_sedlakii.sbml\")"
   ]
  },
  {
   "cell_type": "markdown",
   "id": "2fc20dbb",
   "metadata": {},
   "source": [
    "### Find all the reactions and identify those that are boundary reactions\n",
    "\n",
    "We need a set of reactions to run in the model. In this case, we are going to run all the reactions in our SBML file. However, you can change this set if you want to knock out reactions, add reactions, or generally modify the model. We store those in the `reactions_to_run` set.\n",
    "\n",
    "The boundary reactions refer to compounds that are secreted but then need to be removed from the `reactions_to_run` set. We usually include a consumption of those compounds that is open ended, as if they are draining away. We store those reactions in the `uptake_secretion_reactions` dictionary.\n"
   ]
  },
  {
   "cell_type": "code",
   "execution_count": 7,
   "id": "b58cf1b1",
   "metadata": {},
   "outputs": [
    {
     "name": "stdout",
     "output_type": "stream",
     "text": [
      "Our biomass equation is Citrobacter_sedlakii_119_auto_biomass\n"
     ]
    }
   ],
   "source": [
    "# Get a dict of reactions.\n",
    "# The key is the reaction ID, and the value is a metabolism.reaction.Reaction object\n",
    "reactions = sbml.reactions\n",
    "reactions_to_run = set()\n",
    "uptake_secretion_reactions = {}\n",
    "biomass_equation = None\n",
    "for r in reactions:\n",
    "    if 'biomass_equation' == r:\n",
    "        biomass_equation = reactions[r]\n",
    "        print(f\"Our biomass equation is {biomass_equation.readable_name}\")\n",
    "        continue\n",
    "    is_boundary = False\n",
    "    for c in reactions[r].all_compounds():\n",
    "        if c.uptake_secretion:\n",
    "            is_boundary = True\n",
    "            break\n",
    "    if is_boundary:\n",
    "        reactions[r].is_uptake_secretion = True\n",
    "        uptake_secretion_reactions[r] = reactions[r]\n",
    "    else:\n",
    "        reactions_to_run.add(r)"
   ]
  },
  {
   "cell_type": "markdown",
   "id": "c0e4eff6",
   "metadata": {},
   "source": [
    "At this point, we can take a look at how many reactions are in the model, not counting the biomass reaction:"
   ]
  },
  {
   "cell_type": "code",
   "execution_count": 8,
   "id": "63c0678f",
   "metadata": {},
   "outputs": [
    {
     "name": "stdout",
     "output_type": "stream",
     "text": [
      "The biomass equation is biomass_equation: Citrobacter_sedlakii_119_auto_biomass\n",
      "There are 1574 reactions in the model\n",
      "There are 174 uptake/secretion reactions in the model\n",
      "There are 1399 reactions to be run in the model\n"
     ]
    }
   ],
   "source": [
    "print(f\"The biomass equation is {biomass_equation}\")\n",
    "print(f\"There are {len(reactions)} reactions in the model\")\n",
    "print(f\"There are {len(uptake_secretion_reactions)} uptake/secretion reactions in the model\")\n",
    "print(f\"There are {len(reactions_to_run)} reactions to be run in the model\")"
   ]
  },
  {
   "cell_type": "code",
   "execution_count": 9,
   "id": "cf825ed4",
   "metadata": {},
   "outputs": [],
   "source": [
    "if share_data:\n",
    "    with open('sbml_reactions.txt', 'w') as out:\n",
    "        for r in reactions:\n",
    "            out.write(f\"{r}\\n\")"
   ]
  },
  {
   "cell_type": "markdown",
   "id": "40158ae1",
   "metadata": {},
   "source": [
    "### Find all the compounds in the model, and filter out those that are secreted\n",
    "\n",
    "We need to filter out uptake and secretion compounds from our list of all compounds before we can make a stoichiometric matrix."
   ]
  },
  {
   "cell_type": "code",
   "execution_count": 10,
   "id": "51b74b7f",
   "metadata": {},
   "outputs": [],
   "source": [
    "# Get a dict of compounds. \n",
    "# The key is the string representation of the compound and\n",
    "# the value is a metabolite.compound.Compound object\n",
    "# Get a dict of compounds. \n",
    "# The key is the string representation of the compound and\n",
    "# the value is a metabolite.compound.Compound object\n",
    "all_compounds = sbml.compounds\n",
    "# Filter for compounds that are boundary compounds\n",
    "filtered_compounds = set()\n",
    "for c in all_compounds:\n",
    "    if not c.uptake_secretion:\n",
    "        filtered_compounds.add(c)"
   ]
  },
  {
   "cell_type": "markdown",
   "id": "52cb0214",
   "metadata": {},
   "source": [
    "Again, we can see how many compounds there are in the model."
   ]
  },
  {
   "cell_type": "code",
   "execution_count": 11,
   "id": "e303c94a",
   "metadata": {},
   "outputs": [
    {
     "name": "stdout",
     "output_type": "stream",
     "text": [
      "There are 1475 total compounds in the model\n",
      "There are 1301 compounds that are not involved in uptake and secretion\n"
     ]
    }
   ],
   "source": [
    "print(f\"There are {len(all_compounds)} total compounds in the model\")\n",
    "print(f\"There are {len(filtered_compounds)} compounds that are not involved in uptake and secretion\")"
   ]
  },
  {
   "cell_type": "markdown",
   "id": "15542c16",
   "metadata": {},
   "source": [
    "And now we have the size of our stoichiometric matrix! Notice that the stoichiometric matrix is composed of the reactions that we are going to run and the compounds that are in those reactions (but not the uptake/secretion reactions and compounds)."
   ]
  },
  {
   "cell_type": "code",
   "execution_count": 12,
   "id": "4928888b",
   "metadata": {},
   "outputs": [
    {
     "name": "stdout",
     "output_type": "stream",
     "text": [
      "The stoichiometric matrix will be 1,399 reactions by 1,301 compounds\n"
     ]
    }
   ],
   "source": [
    "print(f\"The stoichiometric matrix will be {len(reactions_to_run):,} reactions by {len(filtered_compounds):,} compounds\")"
   ]
  },
  {
   "cell_type": "markdown",
   "id": "99a47ade",
   "metadata": {},
   "source": [
    "### Read the media file, and correct the media names\n",
    "\n",
    "In our [media](https://github.com/linsalrob/PyFBA/tree/master/media) directory, we have a lot of different media formulations, most of which we use with the Genotype-Phenotype project. For this example, we are going to use Lysogeny Broth (LB). There are many different formulations of LB, but we have included the recipe created by the folks at Argonne so that it is comparable with their analysis. You can download [ArgonneLB.txt](https://raw.githubusercontent.com/linsalrob/PyFBA/master/media/ArgonneLB.txt) and put it in the same directory as this iPython notebook to run it.\n",
    "\n",
    "Once we have read the file we need to correct the names in the compounds. Sometimes when compound names are exported to the SBML file they are modified slightly. This just corrects those names."
   ]
  },
  {
   "cell_type": "code",
   "execution_count": 36,
   "id": "53af205b",
   "metadata": {},
   "outputs": [
    {
     "name": "stdout",
     "output_type": "stream",
     "text": [
      "The media has 18 compounds\n"
     ]
    },
    {
     "name": "stderr",
     "output_type": "stream",
     "text": [
      "Checking media compounds: Our compounds do not include  Fe3+\n",
      "Please note: The warnings about media not being found in compounds are not fatal.\n",
      "It just means that we did not find that compound anywhere in the reactions, and so it is unlikely to be\n",
      "needed or used. We typically see a few of these in rich media.\n"
     ]
    }
   ],
   "source": [
    "# Read the media file\n",
    "#media = PyFBA.parse.read_media_file(\"/home/redwards/.local/lib/python3.9/site-packages/PyFBA-2.1-py3.9.egg/PyFBA/Biochemistry/media/ArgonneLB.txt\")\n",
    "mediafile = \"MOPS_NoC_L-Methionine\"\n",
    "# mediafile = 'ArgonneLB'\n",
    "media = PyFBA.parse.pyfba_media(mediafile)\n",
    "# Correct the names\n",
    "media = sbml.correct_media(media)\n",
    "print(f\"The media has {len(media)} compounds\")"
   ]
  },
  {
   "cell_type": "markdown",
   "id": "7fac1d62",
   "metadata": {},
   "source": [
    "### Set the reaction bounds for uptake/secretion compounds\n",
    "\n",
    "The uptake and secretion compounds typically have reaction bounds that allow them to be consumed (i.e. diffuse away from the cell) but not produced. However, our media components can also increase in concentration (i.e. diffuse to the cell) and thus the bounds are set higher. Whenever you change the growth media, you also need to adjust the reaction bounds to ensure that the media can be consumed!\n"
   ]
  },
  {
   "cell_type": "code",
   "execution_count": 37,
   "id": "2d7becdc",
   "metadata": {},
   "outputs": [
    {
     "name": "stdout",
     "output_type": "stream",
     "text": [
      "EX_cpd00067  (1.000000) cpd00067: H (location: e) =  (1.000000) cpd00067: H (location: b)  (-1000.0, 1000.0)\n",
      "EX_cpd00254  (1.000000) cpd00254: Mg (location: e) =  (1.000000) cpd00254: Mg (location: b)  (-1000.0, 1000.0)\n",
      "EX_cpd00149  (1.000000) cpd00149: Co2 (location: e) =  (1.000000) cpd00149: Co2 (location: b)  (-1000.0, 1000.0)\n",
      "EX_cpd00060  (1.000000) cpd00060: L_Methionine (location: e) =  (1.000000) cpd00060: L_Methionine (location: b)  (-1000.0, 1000.0)\n",
      "EX_cpd00971  (1.000000) cpd00971: Na (location: e) =  (1.000000) cpd00971: Na (location: b)  (-1000.0, 1000.0)\n",
      "EX_cpd11575  (1.000000) cpd11575: MOPS (location: e) =  (1.000000) cpd11575: MOPS (location: b)  (-1000.0, 1000.0)\n",
      "EX_cpd00009  (1.000000) cpd00009: Phosphate (location: e) =  (1.000000) cpd00009: Phosphate (location: b)  (-1000.0, 1000.0)\n",
      "EX_cpd00048  (1.000000) cpd00048: Sulfate (location: e) =  (1.000000) cpd00048: Sulfate (location: b)  (-1000.0, 1000.0)\n",
      "EX_cpd00030  (1.000000) cpd00030: Mn2 (location: e) =  (1.000000) cpd00030: Mn2 (location: b)  (-1000.0, 1000.0)\n",
      "EX_cpd00205  (1.000000) cpd00205: K (location: e) =  (1.000000) cpd00205: K (location: b)  (-1000.0, 1000.0)\n",
      "EX_cpd00001  (1.000000) cpd00001: H2O (location: e) =  (1.000000) cpd00001: H2O (location: b)  (-1000.0, 1000.0)\n",
      "EX_cpd00013  (1.000000) cpd00013: NH3 (location: e) =  (1.000000) cpd00013: NH3 (location: b)  (-1000.0, 1000.0)\n",
      "EX_cpd00099  (1.000000) cpd00099: Cl_ (location: e) =  (1.000000) cpd00099: Cl_ (location: b)  (-1000.0, 1000.0)\n",
      "EX_cpd00034  (1.000000) cpd00034: Zn2 (location: e) =  (1.000000) cpd00034: Zn2 (location: b)  (-1000.0, 1000.0)\n",
      "EX_cpd00063  (1.000000) cpd00063: Ca2 (location: e) =  (1.000000) cpd00063: Ca2 (location: b)  (-1000.0, 1000.0)\n",
      "EX_cpd00058  (1.000000) cpd00058: Cu2 (location: e) =  (1.000000) cpd00058: Cu2 (location: b)  (-1000.0, 1000.0)\n",
      "EX_cpd00007  (1.000000) cpd00007: O2 (location: e) =  (1.000000) cpd00007: O2 (location: b)  (-1000.0, 1000.0)\n"
     ]
    }
   ],
   "source": [
    "# Adjust the lower bounds of uptake secretion reactions\n",
    "# for things that are not in the media\n",
    "for u in uptake_secretion_reactions:\n",
    "    reactions[u].lower_bound = -1000.0\n",
    "    uptake_secretion_reactions[u].lower_bound = -1000.0\n",
    "    reactions[u].upper_bound = 1000.0\n",
    "    uptake_secretion_reactions[u].upper_bound = 1000.0\n",
    "    is_media_component = False\n",
    "    override = False\n",
    "    for c in uptake_secretion_reactions[u].all_compounds():\n",
    "        if c in media:\n",
    "            is_media_component = True\n",
    "    if not is_media_component:\n",
    "        reactions[u].lower_bound = 0.0\n",
    "        uptake_secretion_reactions[u].lower_bound = 0.0\n",
    "    if is_media_component:\n",
    "        # these are the reactions that allow the media components to flux\n",
    "        print(f\"{u} {sbml.reactions[u].equation}  ({sbml.reactions[u].lower_bound}, {sbml.reactions[u].upper_bound})\")"
   ]
  },
  {
   "cell_type": "markdown",
   "id": "6a097b4a",
   "metadata": {},
   "source": [
    "### Run the FBA\n",
    "\n",
    "Now that we have constructed our model, we can run the FBA!"
   ]
  },
  {
   "cell_type": "code",
   "execution_count": 38,
   "id": "00a2e0c5",
   "metadata": {},
   "outputs": [
    {
     "name": "stderr",
     "output_type": "stream",
     "text": [
      "csm did not find media compound Fe3+ in the compounds database\n",
      "We are loading 1302 rows and 1574 columns\n"
     ]
    },
    {
     "name": "stdout",
     "output_type": "stream",
     "text": [
      "The FBA completed with a flux value of 5.616756520460967e-13 --> growth: False\n"
     ]
    },
    {
     "name": "stderr",
     "output_type": "stream",
     "text": [
      "In parsing the bounds we found 0 media uptake and secretion reactions and 0 other u/s reactions\n",
      "Length of the media: 18\n",
      "Number of reactions to run: 1399\n",
      "Number of compounds in SM: 1302\n",
      "Number of reactions in SM: 1574\n",
      "Number of uptake/secretion reactions 174\n",
      "SMat dimensions: 1302 x 1574\n"
     ]
    }
   ],
   "source": [
    "ms = PyFBA.model_seed.ModelData(compounds = filtered_compounds, reactions = reactions)\n",
    "status, value, growth = PyFBA.fba.run_fba(ms,\n",
    "                                          reactions_to_run, media, biomass_equation,\n",
    "                                          uptake_secretion_reactions, verbose=True)\n",
    "print(\"The FBA completed with a flux value of {} --> growth: {}\".format(value, growth))\n"
   ]
  },
  {
   "cell_type": "markdown",
   "id": "bde60462",
   "metadata": {},
   "source": [
    "# Export the components of the model\n",
    "\n",
    "This demonstrates how to export and import the components of this model, so you can do other things with it!"
   ]
  },
  {
   "cell_type": "code",
   "execution_count": 16,
   "id": "40eab6c9",
   "metadata": {},
   "outputs": [],
   "source": [
    "if share_data:\n",
    "    pickle.dump(filtered_compounds, open('compounds.pickle', 'wb'))\n",
    "    pickle.dump(reactions, open('reactions.pickle', 'wb'))\n",
    "    pickle.dump(reactions_to_run, open('reactions_to_run.pickle', 'wb'))\n",
    "    pickle.dump(media, open('media.pickle', 'wb'))\n",
    "    pickle.dump(biomass_equation, open('sbml_biomass.pickle', 'wb'))\n",
    "    pickle.dump(uptake_secretion_reactions, open('uptake_secretion_reactions.pickle', 'wb'))"
   ]
  },
  {
   "cell_type": "code",
   "execution_count": 17,
   "id": "07148c48",
   "metadata": {},
   "outputs": [
    {
     "name": "stderr",
     "output_type": "stream",
     "text": [
      "csm did not find media compound chromate in the compounds database\n",
      "csm did not find media compound Fe3+ in the compounds database\n",
      "csm did not find media compound L-Cystine in the compounds database\n",
      "csm did not find media compound Vitamin B12 in the compounds database\n",
      "csm did not find media compound Ni2+ in the compounds database\n",
      "csm did not find media compound Molybdate in the compounds database\n",
      "csm did not find media compound Thiamine phosphate in the compounds database\n",
      "We are loading 1320 rows and 1574 columns\n"
     ]
    },
    {
     "name": "stdout",
     "output_type": "stream",
     "text": [
      "The FBA completed with a flux value of 281.73877711169433 --> growth: True\n"
     ]
    },
    {
     "name": "stderr",
     "output_type": "stream",
     "text": [
      "In parsing the bounds we found 0 media uptake and secretion reactions and 0 other u/s reactions\n",
      "Length of the media: 65\n",
      "Number of reactions to run: 1399\n",
      "Number of compounds in SM: 1320\n",
      "Number of reactions in SM: 1574\n",
      "Number of uptake/secretion reactions 174\n",
      "SMat dimensions: 1320 x 1574\n"
     ]
    }
   ],
   "source": [
    "if share_data:\n",
    "    sbml_filtered_compounds = pickle.load(open('compounds.pickle', 'rb'))\n",
    "    sbml_reactions = pickle.load(open('reactions.pickle', 'rb'))\n",
    "    sbml_reactions_to_run = pickle.load(open('reactions_to_run.pickle', 'rb'))\n",
    "    sbml_media = pickle.load(open('media.pickle', 'rb'))\n",
    "    sbml_biomass_equation = pickle.load(open('sbml_biomass.pickle', 'rb'))\n",
    "    sbml_uptake_secretion_reactions = pickle.load(open('uptake_secretion_reactions.pickle', 'rb'))\n",
    "    \n",
    "    ms = PyFBA.model_seed.ModelData(compounds = sbml_filtered_compounds, reactions = sbml_reactions)\n",
    "    status, value, growth = PyFBA.fba.run_fba(ms, sbml_reactions_to_run, sbml_media, sbml_biomass_equation,\n",
    "                                          sbml_uptake_secretion_reactions, verbose=True)\n",
    "    print(\"The FBA completed with a flux value of {} --> growth: {}\".format(value, growth))"
   ]
  },
  {
   "cell_type": "code",
   "execution_count": 18,
   "id": "53924465",
   "metadata": {},
   "outputs": [
    {
     "name": "stdout",
     "output_type": "stream",
     "text": [
      "{'= (-1000.0, 1000.0)': 849, '> (0.0, 1000.0)': 597, '= (0.0, 1000.0)': 128}\n"
     ]
    }
   ],
   "source": [
    "torun = 0\n",
    "count = {}\n",
    "for r in sbml.reactions:\n",
    "    if r.startswith('upsr'):\n",
    "        if sbml.reactions[r].lower_bound != 0 or sbml.reactions[r].upper_bound != 1000:\n",
    "            print(f\"{r} {sbml.reactions[r].equation}  ({sbml.reactions[r].lower_bound}, {sbml.reactions[r].upper_bound})\")\n",
    "        continue\n",
    "    if sbml.reactions[r].lower_bound is not None and sbml.reactions[r].upper_bound is not None:\n",
    "        t = f\"{sbml.reactions[r].direction} ({sbml.reactions[r].lower_bound}, {sbml.reactions[r].upper_bound})\"\n",
    "        count[t] = count.get(t, 0) + 1\n",
    "print(count)"
   ]
  },
  {
   "cell_type": "code",
   "execution_count": 19,
   "id": "1f965929",
   "metadata": {},
   "outputs": [
    {
     "name": "stdout",
     "output_type": "stream",
     "text": [
      "EX_cpd00067  (1.000000) cpd00067: H (location: e) =  (1.000000) cpd00067: H (location: b)  (-1000.0, 1000.0)\n",
      "EX_cpd00041  (1.000000) cpd00041: L_Aspartate (location: e) =  (1.000000) cpd00041: L_Aspartate (location: b)  (-1000.0, 1000.0)\n",
      "EX_cpd00156  (1.000000) cpd00156: L_Valine (location: e) =  (1.000000) cpd00156: L_Valine (location: b)  (-1000.0, 1000.0)\n",
      "EX_cpd00322  (1.000000) cpd00322: L_Isoleucine (location: e) =  (1.000000) cpd00322: L_Isoleucine (location: b)  (-1000.0, 1000.0)\n",
      "EX_cpd00107  (1.000000) cpd00107: L_Leucine (location: e) =  (1.000000) cpd00107: L_Leucine (location: b)  (-1000.0, 1000.0)\n",
      "EX_cpd00254  (1.000000) cpd00254: Mg (location: e) =  (1.000000) cpd00254: Mg (location: b)  (-1000.0, 1000.0)\n",
      "EX_cpd00149  (1.000000) cpd00149: Co2 (location: e) =  (1.000000) cpd00149: Co2 (location: b)  (-1000.0, 1000.0)\n",
      "EX_cpd00060  (1.000000) cpd00060: L_Methionine (location: e) =  (1.000000) cpd00060: L_Methionine (location: b)  (-1000.0, 1000.0)\n",
      "EX_cpd00971  (1.000000) cpd00971: Na (location: e) =  (1.000000) cpd00971: Na (location: b)  (-1000.0, 1000.0)\n",
      "EX_cpd00023  (1.000000) cpd00023: L_Glutamate (location: e) =  (1.000000) cpd00023: L_Glutamate (location: b)  (-1000.0, 1000.0)\n",
      "EX_cpd00246  (1.000000) cpd00246: Inosine (location: e) =  (1.000000) cpd00246: Inosine (location: b)  (-1000.0, 1000.0)\n",
      "EX_cpd00249  (1.000000) cpd00249: Uridine (location: e) =  (1.000000) cpd00249: Uridine (location: b)  (-1000.0, 1000.0)\n",
      "EX_cpd00184  (1.000000) cpd00184: Thymidine (location: e) =  (1.000000) cpd00184: Thymidine (location: b)  (-1000.0, 1000.0)\n",
      "EX_cpd00182  (1.000000) cpd00182: Adenosine (location: e) =  (1.000000) cpd00182: Adenosine (location: b)  (-1000.0, 1000.0)\n",
      "EX_cpd00654  (1.000000) cpd00654: Deoxycytidine (location: e) =  (1.000000) cpd00654: Deoxycytidine (location: b)  (-1000.0, 1000.0)\n",
      "EX_cpd00009  (1.000000) cpd00009: Phosphate (location: e) =  (1.000000) cpd00009: Phosphate (location: b)  (-1000.0, 1000.0)\n",
      "EX_cpd01048  (1.000000) cpd01048: Arsenate (location: e) =  (1.000000) cpd01048: Arsenate (location: b)  (-1000.0, 1000.0)\n",
      "EX_cpd00048  (1.000000) cpd00048: Sulfate (location: e) =  (1.000000) cpd00048: Sulfate (location: b)  (-1000.0, 1000.0)\n",
      "EX_cpd00030  (1.000000) cpd00030: Mn2 (location: e) =  (1.000000) cpd00030: Mn2 (location: b)  (-1000.0, 1000.0)\n",
      "EX_cpd00129  (1.000000) cpd00129: L_Proline (location: e) =  (1.000000) cpd00129: L_Proline (location: b)  (-1000.0, 1000.0)\n",
      "EX_cpd00033  (1.000000) cpd00033: Glycine (location: e) =  (1.000000) cpd00033: Glycine (location: b)  (-1000.0, 1000.0)\n",
      "EX_cpd00054  (1.000000) cpd00054: L_Serine (location: e) =  (1.000000) cpd00054: L_Serine (location: b)  (-1000.0, 1000.0)\n",
      "EX_cpd00039  (1.000000) cpd00039: L_Lysine (location: e) =  (1.000000) cpd00039: L_Lysine (location: b)  (-1000.0, 1000.0)\n",
      "EX_cpd00119  (1.000000) cpd00119: L_Histidine (location: e) =  (1.000000) cpd00119: L_Histidine (location: b)  (-1000.0, 1000.0)\n",
      "EX_cpd00205  (1.000000) cpd00205: K (location: e) =  (1.000000) cpd00205: K (location: b)  (-1000.0, 1000.0)\n",
      "EX_cpd00027  (1.000000) cpd00027: D_Glucose (location: e) =  (1.000000) cpd00027: D_Glucose (location: b)  (-1000.0, 1000.0)\n",
      "EX_cpd00035  (1.000000) cpd00035: L_Alanine (location: e) =  (1.000000) cpd00035: L_Alanine (location: b)  (-1000.0, 1000.0)\n",
      "EX_cpd00438  (1.000000) cpd00438: Deoxyadenosine (location: e) =  (1.000000) cpd00438: Deoxyadenosine (location: b)  (-1000.0, 1000.0)\n",
      "EX_cpd00001  (1.000000) cpd00001: H2O (location: e) =  (1.000000) cpd00001: H2O (location: b)  (-1000.0, 1000.0)\n",
      "EX_cpd00013  (1.000000) cpd00013: NH3 (location: e) =  (1.000000) cpd00013: NH3 (location: b)  (-1000.0, 1000.0)\n",
      "EX_cpd00226  (1.000000) cpd00226: HYXN (location: e) =  (1.000000) cpd00226: HYXN (location: b)  (-1000.0, 1000.0)\n",
      "EX_cpd00644  (1.000000) cpd00644: PAN (location: e) =  (1.000000) cpd00644: PAN (location: b)  (-1000.0, 1000.0)\n",
      "EX_cpd10515  (1.000000) cpd10515: Fe2 (location: e) =  (1.000000) cpd10515: Fe2 (location: b)  (-1000.0, 1000.0)\n",
      "EX_cpd00099  (1.000000) cpd00099: Cl_ (location: e) =  (1.000000) cpd00099: Cl_ (location: b)  (-1000.0, 1000.0)\n",
      "EX_cpd00034  (1.000000) cpd00034: Zn2 (location: e) =  (1.000000) cpd00034: Zn2 (location: b)  (-1000.0, 1000.0)\n",
      "EX_cpd00161  (1.000000) cpd00161: L_Threonine (location: e) =  (1.000000) cpd00161: L_Threonine (location: b)  (-1000.0, 1000.0)\n",
      "EX_cpd01012  (1.000000) cpd01012: Cd2 (location: e) =  (1.000000) cpd01012: Cd2 (location: b)  (-1000.0, 1000.0)\n",
      "EX_cpd00531  (1.000000) cpd00531: Hg2 (location: e) =  (1.000000) cpd00531: Hg2 (location: b)  (-1000.0, 1000.0)\n",
      "EX_cpd00063  (1.000000) cpd00063: Ca2 (location: e) =  (1.000000) cpd00063: Ca2 (location: b)  (-1000.0, 1000.0)\n",
      "EX_cpd00051  (1.000000) cpd00051: L_Arginine (location: e) =  (1.000000) cpd00051: L_Arginine (location: b)  (-1000.0, 1000.0)\n",
      "EX_cpd00065  (1.000000) cpd00065: L_Tryptophan (location: e) =  (1.000000) cpd00065: L_Tryptophan (location: b)  (-1000.0, 1000.0)\n",
      "EX_cpd00092  (1.000000) cpd00092: Uracil (location: e) =  (1.000000) cpd00092: Uracil (location: b)  (-1000.0, 1000.0)\n",
      "EX_cpd00058  (1.000000) cpd00058: Cu2 (location: e) =  (1.000000) cpd00058: Cu2 (location: b)  (-1000.0, 1000.0)\n",
      "EX_cpd00069  (1.000000) cpd00069: L_Tyrosine (location: e) =  (1.000000) cpd00069: L_Tyrosine (location: b)  (-1000.0, 1000.0)\n",
      "EX_cpd00007  (1.000000) cpd00007: O2 (location: e) =  (1.000000) cpd00007: O2 (location: b)  (-1000.0, 1000.0)\n",
      "EX_cpd00220  (1.000000) cpd00220: Riboflavin (location: e) =  (1.000000) cpd00220: Riboflavin (location: b)  (-1000.0, 1000.0)\n"
     ]
    }
   ],
   "source": [
    "for r in sbml.reactions:\n",
    "    if r.startswith('EX'):\n",
    "        if sbml.reactions[r].lower_bound != 0 or sbml.reactions[r].upper_bound != 1000:\n",
    "            print(f\"{r} {sbml.reactions[r].equation}  ({sbml.reactions[r].lower_bound}, {sbml.reactions[r].upper_bound})\")\n",
    "        continue"
   ]
  },
  {
   "cell_type": "code",
   "execution_count": 20,
   "id": "02754703",
   "metadata": {},
   "outputs": [
    {
     "name": "stdout",
     "output_type": "stream",
     "text": [
      "rxn05572  (1) cpd00067: H (location: e) +  (1) cpd00609: D_Glucarate (location: e) =  (1) cpd00067: H (location: c) +  (1) cpd00609: D_Glucarate (location: c) (-1000.0, 1000.0)\n",
      "rxn05572  (1) cpd00067: H (location: e) +  (1) cpd00609: D_Glucarate (location: e) =  (1) cpd00067: H (location: c) +  (1) cpd00609: D_Glucarate (location: c) (-1000.0, 1000.0)\n",
      "rxn05565  (1) cpd00067: H (location: e) +  (1) cpd00652: D_Mucic_acid (location: e) =  (1) cpd00067: H (location: c) +  (1) cpd00652: D_Mucic_acid (location: c) (-1000.0, 1000.0)\n",
      "rxn05565  (1) cpd00067: H (location: e) +  (1) cpd00652: D_Mucic_acid (location: e) =  (1) cpd00067: H (location: c) +  (1) cpd00652: D_Mucic_acid (location: c) (-1000.0, 1000.0)\n",
      "rxn10155  (3) cpd00067: H (location: e) +  (1) cpd00041: L_Aspartate (location: e) =  (3) cpd00067: H (location: c) +  (1) cpd00041: L_Aspartate (location: c) (-1000.0, 1000.0)\n",
      "rxn10155  (3) cpd00067: H (location: e) +  (1) cpd00041: L_Aspartate (location: e) =  (3) cpd00067: H (location: c) +  (1) cpd00041: L_Aspartate (location: c) (-1000.0, 1000.0)\n",
      "rxn10157  (3) cpd00067: H (location: e) +  (1) cpd00036: Succinate (location: e) =  (3) cpd00067: H (location: c) +  (1) cpd00036: Succinate (location: c) (-1000.0, 1000.0)\n",
      "rxn10157  (3) cpd00067: H (location: e) +  (1) cpd00036: Succinate (location: e) =  (3) cpd00067: H (location: c) +  (1) cpd00036: Succinate (location: c) (-1000.0, 1000.0)\n",
      "rxn05536  (1) cpd00002: ATP (location: c) +  (1) cpd00001: H2O (location: c) +  (1) cpd11590: met_L_ala_L (location: e) >  (1) cpd00067: H (location: c) +  (1) cpd00009: Phosphate (location: c) +  (1) cpd00008: ADP (location: c) +  (1) cpd11590: met_L_ala_L (location: c) (0.0, 1000.0)\n",
      "rxn05544  (1) cpd00002: ATP (location: c) +  (1) cpd00001: H2O (location: c) +  (1) cpd11583: Ala_Leu (location: e) >  (1) cpd00067: H (location: c) +  (1) cpd00009: Phosphate (location: c) +  (1) cpd00008: ADP (location: c) +  (1) cpd11583: Ala_Leu (location: c) (0.0, 1000.0)\n",
      "rxn12848  (1) cpd00002: ATP (location: c) +  (1) cpd15603: Gly_Cys (location: e) +  (1) cpd00001: H2O (location: c) >  (1) cpd15603: Gly_Cys (location: c) +  (1) cpd00009: Phosphate (location: c) +  (1) cpd00008: ADP (location: c) (0.0, 1000.0)\n",
      "rxn12851  (1) cpd00002: ATP (location: c) +  (1) cpd00001: H2O (location: c) +  (1) cpd15606: Gly_Tyr (location: e) >  (1) cpd00009: Phosphate (location: c) +  (1) cpd00008: ADP (location: c) +  (1) cpd15606: Gly_Tyr (location: c) (0.0, 1000.0)\n",
      "rxn05539  (1) cpd00002: ATP (location: c) +  (1) cpd00001: H2O (location: c) +  (1) cpd01017: Cys_Gly (location: e) >  (1) cpd00067: H (location: c) +  (1) cpd00009: Phosphate (location: c) +  (1) cpd00008: ADP (location: c) +  (1) cpd01017: Cys_Gly (location: c) (0.0, 1000.0)\n",
      "rxn05541  (1) cpd00002: ATP (location: c) +  (1) cpd00001: H2O (location: c) +  (1) cpd11586: ala_L_glu_L (location: e) >  (1) cpd00067: H (location: c) +  (1) cpd00009: Phosphate (location: c) +  (1) cpd00008: ADP (location: c) +  (1) cpd11586: ala_L_glu_L (location: c) (0.0, 1000.0)\n",
      "rxn05537  (1) cpd11589: gly_asp_L (location: e) +  (1) cpd00002: ATP (location: c) +  (1) cpd00001: H2O (location: c) >  (1) cpd00067: H (location: c) +  (1) cpd11589: gly_asp_L (location: c) +  (1) cpd00009: Phosphate (location: c) +  (1) cpd00008: ADP (location: c) (0.0, 1000.0)\n",
      "rxn05543  (1) cpd00002: ATP (location: c) +  (1) cpd00001: H2O (location: c) +  (1) cpd11584: Ala_His (location: e) >  (1) cpd00067: H (location: c) +  (1) cpd00009: Phosphate (location: c) +  (1) cpd11584: Ala_His (location: c) +  (1) cpd00008: ADP (location: c) (0.0, 1000.0)\n",
      "rxn12849  (1) cpd00002: ATP (location: c) +  (1) cpd15604: Gly_Leu (location: e) +  (1) cpd00001: H2O (location: c) >  (1) cpd15604: Gly_Leu (location: c) +  (1) cpd00009: Phosphate (location: c) +  (1) cpd00008: ADP (location: c) (0.0, 1000.0)\n",
      "rxn05533  (1) cpd00002: ATP (location: c) +  (1) cpd00001: H2O (location: c) +  (1) cpd11593: ala_L_asp_L (location: e) >  (1) cpd00067: H (location: c) +  (1) cpd00009: Phosphate (location: c) +  (1) cpd00008: ADP (location: c) +  (1) cpd11593: ala_L_asp_L (location: c) (0.0, 1000.0)\n",
      "rxn05540  (1) cpd00002: ATP (location: c) +  (1) cpd00001: H2O (location: c) +  (1) cpd11587: Ala_Gln (location: e) >  (1) cpd00067: H (location: c) +  (1) cpd00009: Phosphate (location: c) +  (1) cpd00008: ADP (location: c) +  (1) cpd11587: Ala_Gln (location: c) (0.0, 1000.0)\n",
      "rxn05534  (1) cpd00002: ATP (location: c) +  (1) cpd00001: H2O (location: c) +  (1) cpd11592: gly_glu_L (location: e) >  (1) cpd00067: H (location: c) +  (1) cpd00009: Phosphate (location: c) +  (1) cpd11592: gly_glu_L (location: c) +  (1) cpd00008: ADP (location: c) (0.0, 1000.0)\n",
      "rxn05547  (1) cpd00002: ATP (location: c) +  (1) cpd00001: H2O (location: c) +  (1) cpd11580: Gly_Gln (location: e) >  (1) cpd00067: H (location: c) +  (1) cpd00009: Phosphate (location: c) +  (1) cpd00008: ADP (location: c) +  (1) cpd11580: Gly_Gln (location: c) (0.0, 1000.0)\n",
      "rxn05546  (1) cpd11581: gly_asn_L (location: e) +  (1) cpd00002: ATP (location: c) +  (1) cpd00001: H2O (location: c) >  (1) cpd00067: H (location: c) +  (1) cpd11581: gly_asn_L (location: c) +  (1) cpd00009: Phosphate (location: c) +  (1) cpd00008: ADP (location: c) (0.0, 1000.0)\n",
      "rxn05542  (1) cpd00002: ATP (location: c) +  (1) cpd00001: H2O (location: c) +  (1) cpd11585: L_alanylglycine (location: e) >  (1) cpd00067: H (location: c) +  (1) cpd00009: Phosphate (location: c) +  (1) cpd11585: L_alanylglycine (location: c) +  (1) cpd00008: ADP (location: c) (0.0, 1000.0)\n",
      "rxn05535  (1) cpd00002: ATP (location: c) +  (1) cpd11591: Gly_Met (location: e) +  (1) cpd00001: H2O (location: c) >  (1) cpd00067: H (location: c) +  (1) cpd11591: Gly_Met (location: c) +  (1) cpd00009: Phosphate (location: c) +  (1) cpd00008: ADP (location: c) (0.0, 1000.0)\n",
      "rxn12850  (1) cpd15605: Gly_Phe (location: e) +  (1) cpd00002: ATP (location: c) +  (1) cpd00001: H2O (location: c) >  (1) cpd15605: Gly_Phe (location: c) +  (1) cpd00009: Phosphate (location: c) +  (1) cpd00008: ADP (location: c) (0.0, 1000.0)\n",
      "rxn05545  (1) cpd00002: ATP (location: c) +  (1) cpd00001: H2O (location: c) +  (1) cpd11582: ala_L_Thr_L (location: e) >  (1) cpd00067: H (location: c) +  (1) cpd00009: Phosphate (location: c) +  (1) cpd11582: ala_L_Thr_L (location: c) +  (1) cpd00008: ADP (location: c) (0.0, 1000.0)\n",
      "rxn05538  (1) cpd00002: ATP (location: c) +  (1) cpd11588: gly_pro_L (location: e) +  (1) cpd00001: H2O (location: c) >  (1) cpd00067: H (location: c) +  (1) cpd11588: gly_pro_L (location: c) +  (1) cpd00009: Phosphate (location: c) +  (1) cpd00008: ADP (location: c) (0.0, 1000.0)\n",
      "rxn05168  (1) cpd00002: ATP (location: c) +  (1) cpd00001: H2O (location: c) +  (1) cpd00156: L_Valine (location: e) >  (1) cpd00067: H (location: c) +  (1) cpd00009: Phosphate (location: c) +  (1) cpd00008: ADP (location: c) +  (1) cpd00156: L_Valine (location: c) (0.0, 1000.0)\n",
      "rxn05179  (1) cpd00002: ATP (location: c) +  (1) cpd00001: H2O (location: c) +  (1) cpd00322: L_Isoleucine (location: e) >  (1) cpd00067: H (location: c) +  (1) cpd00009: Phosphate (location: c) +  (1) cpd00008: ADP (location: c) +  (1) cpd00322: L_Isoleucine (location: c) (0.0, 1000.0)\n",
      "rxn05161  (1) cpd00002: ATP (location: c) +  (1) cpd00001: H2O (location: c) +  (1) cpd00107: L_Leucine (location: e) >  (1) cpd00067: H (location: c) +  (1) cpd00009: Phosphate (location: c) +  (1) cpd00008: ADP (location: c) +  (1) cpd00107: L_Leucine (location: c) (0.0, 1000.0)\n",
      "rxn05549  (1) cpd00002: ATP (location: c) +  (1) cpd00001: H2O (location: c) +  (1) cpd01242: Thyminose (location: e) >  (1) cpd00067: H (location: c) +  (1) cpd00009: Phosphate (location: c) +  (1) cpd01242: Thyminose (location: c) +  (1) cpd00008: ADP (location: c) (0.0, 1000.0)\n",
      "rxn05160  (1) cpd00105: D_Ribose (location: e) +  (1) cpd00002: ATP (location: c) +  (1) cpd00001: H2O (location: c) >  (1) cpd00067: H (location: c) +  (1) cpd00105: D_Ribose (location: c) +  (1) cpd00009: Phosphate (location: c) +  (1) cpd00008: ADP (location: c) (0.0, 1000.0)\n",
      "rxn10125  (2) cpd00067: H (location: e) +  (1) cpd00006: NADP (location: c) +  (1) cpd00004: NADH (location: c) =  (2) cpd00067: H (location: c) +  (1) cpd00003: NAD (location: c) +  (1) cpd00005: NADPH (location: c) (-1000.0, 1000.0)\n",
      "rxn05614  (1) cpd00002: ATP (location: c) +  (1) cpd00001: H2O (location: c) +  (1) cpd11576: L_methionine_R_oxide (location: e) >  (1) cpd00067: H (location: c) +  (1) cpd00009: Phosphate (location: c) +  (1) cpd11576: L_methionine_R_oxide (location: c) +  (1) cpd00008: ADP (location: c) (0.0, 1000.0)\n",
      "rxn05219  (1) cpd00060: L_Methionine (location: e) +  (1) cpd00002: ATP (location: c) +  (1) cpd00001: H2O (location: c) >  (1) cpd00067: H (location: c) +  (1) cpd00060: L_Methionine (location: c) +  (1) cpd00009: Phosphate (location: c) +  (1) cpd00008: ADP (location: c) (0.0, 1000.0)\n",
      "rxn05613  (1) cpd00002: ATP (location: c) +  (1) cpd00001: H2O (location: c) +  (1) cpd01914: L_Methionine_S_oxide (location: e) >  (1) cpd00067: H (location: c) +  (1) cpd00009: Phosphate (location: c) +  (1) cpd01914: L_Methionine_S_oxide (location: c) +  (1) cpd00008: ADP (location: c) (0.0, 1000.0)\n",
      "rxn05183  (1) cpd00002: ATP (location: c) +  (1) cpd00001: H2O (location: c) +  (1) cpd00637: D_Methionine (location: e) >  (1) cpd00067: H (location: c) +  (1) cpd00009: Phosphate (location: c) +  (1) cpd00008: ADP (location: c) +  (1) cpd00637: D_Methionine (location: c) (0.0, 1000.0)\n",
      "rxn09692  (1) cpd00067: H (location: e) +  (1) cpd00098: Choline (location: e) =  (1) cpd00067: H (location: c) +  (1) cpd00098: Choline (location: c) (-1000.0, 1000.0)\n",
      "rxn09692  (1) cpd00067: H (location: e) +  (1) cpd00098: Choline (location: e) =  (1) cpd00067: H (location: c) +  (1) cpd00098: Choline (location: c) (-1000.0, 1000.0)\n",
      "rxn05298  (1) cpd00971: Na (location: e) +  (1) cpd00023: L_Glutamate (location: e) =  (1) cpd00971: Na (location: c) +  (1) cpd00023: L_Glutamate (location: c) (-1000.0, 1000.0)\n",
      "rxn05298  (1) cpd00971: Na (location: e) +  (1) cpd00023: L_Glutamate (location: e) =  (1) cpd00971: Na (location: c) +  (1) cpd00023: L_Glutamate (location: c) (-1000.0, 1000.0)\n",
      "rxn05646  (1) cpd00067: H (location: e) +  (1) cpd00396: L_Rhamnose (location: e) =  (1) cpd00067: H (location: c) +  (1) cpd00396: L_Rhamnose (location: c) (-1000.0, 1000.0)\n",
      "rxn05646  (1) cpd00067: H (location: e) +  (1) cpd00396: L_Rhamnose (location: e) =  (1) cpd00067: H (location: c) +  (1) cpd00396: L_Rhamnose (location: c) (-1000.0, 1000.0)\n",
      "rxn05187  (1) cpd00002: ATP (location: c) +  (1) cpd00001: H2O (location: c) +  (1) cpd03424: Vitamin_B12 (location: e) >  (1) cpd00067: H (location: c) +  (1) cpd00009: Phosphate (location: c) +  (1) cpd03424: Vitamin_B12 (location: c) +  (1) cpd00008: ADP (location: c) (0.0, 1000.0)\n",
      "rxn05515  (1) cpd00002: ATP (location: c) +  (1) cpd00001: H2O (location: c) +  (1) cpd00423: Vitamin_B12r (location: e) >  (1) cpd00067: H (location: c) +  (1) cpd00009: Phosphate (location: c) +  (1) cpd00423: Vitamin_B12r (location: c) +  (1) cpd00008: ADP (location: c) (0.0, 1000.0)\n",
      "rxn05316  (1) cpd00246: Inosine (location: e) +  (1) cpd00067: H (location: e) =  (1) cpd00246: Inosine (location: c) +  (1) cpd00067: H (location: c) (-1000.0, 1000.0)\n",
      "rxn05316  (1) cpd00246: Inosine (location: e) +  (1) cpd00067: H (location: e) =  (1) cpd00246: Inosine (location: c) +  (1) cpd00067: H (location: c) (-1000.0, 1000.0)\n",
      "rxn09687  (1) cpd00067: H (location: e) +  (1) cpd03279: Deoxyinosine (location: e) =  (1) cpd00067: H (location: c) +  (1) cpd03279: Deoxyinosine (location: c) (-1000.0, 1000.0)\n",
      "rxn09687  (1) cpd00067: H (location: e) +  (1) cpd03279: Deoxyinosine (location: e) =  (1) cpd00067: H (location: c) +  (1) cpd03279: Deoxyinosine (location: c) (-1000.0, 1000.0)\n",
      "rxn05198  (1) cpd00367: Cytidine (location: e) +  (1) cpd00067: H (location: e) =  (1) cpd00367: Cytidine (location: c) +  (1) cpd00067: H (location: c) (-1000.0, 1000.0)\n",
      "rxn05198  (1) cpd00367: Cytidine (location: e) +  (1) cpd00067: H (location: e) =  (1) cpd00367: Cytidine (location: c) +  (1) cpd00067: H (location: c) (-1000.0, 1000.0)\n",
      "rxn09688  (1) cpd00067: H (location: e) +  (1) cpd00277: Deoxyguanosine (location: e) =  (1) cpd00067: H (location: c) +  (1) cpd00277: Deoxyguanosine (location: c) (-1000.0, 1000.0)\n",
      "rxn09688  (1) cpd00067: H (location: e) +  (1) cpd00277: Deoxyguanosine (location: e) =  (1) cpd00067: H (location: c) +  (1) cpd00277: Deoxyguanosine (location: c) (-1000.0, 1000.0)\n",
      "rxn05199  (1) cpd00249: Uridine (location: e) +  (1) cpd00067: H (location: e) =  (1) cpd00249: Uridine (location: c) +  (1) cpd00067: H (location: c) (-1000.0, 1000.0)\n",
      "rxn05199  (1) cpd00249: Uridine (location: e) +  (1) cpd00067: H (location: e) =  (1) cpd00249: Uridine (location: c) +  (1) cpd00067: H (location: c) (-1000.0, 1000.0)\n",
      "rxn05200  (1) cpd00067: H (location: e) +  (1) cpd00184: Thymidine (location: e) =  (1) cpd00067: H (location: c) +  (1) cpd00184: Thymidine (location: c) (-1000.0, 1000.0)\n",
      "rxn05200  (1) cpd00067: H (location: e) +  (1) cpd00184: Thymidine (location: e) =  (1) cpd00067: H (location: c) +  (1) cpd00184: Thymidine (location: c) (-1000.0, 1000.0)\n",
      "rxn09685  (1) cpd00412: Deoxyuridine (location: e) +  (1) cpd00067: H (location: e) =  (1) cpd00412: Deoxyuridine (location: c) +  (1) cpd00067: H (location: c) (-1000.0, 1000.0)\n",
      "rxn09685  (1) cpd00412: Deoxyuridine (location: e) +  (1) cpd00067: H (location: e) =  (1) cpd00412: Deoxyuridine (location: c) +  (1) cpd00067: H (location: c) (-1000.0, 1000.0)\n",
      "rxn05318  (1) cpd00067: H (location: e) +  (1) cpd00182: Adenosine (location: e) =  (1) cpd00067: H (location: c) +  (1) cpd00182: Adenosine (location: c) (-1000.0, 1000.0)\n",
      "rxn05318  (1) cpd00067: H (location: e) +  (1) cpd00182: Adenosine (location: e) =  (1) cpd00067: H (location: c) +  (1) cpd00182: Adenosine (location: c) (-1000.0, 1000.0)\n",
      "rxn05205  (1) cpd00067: H (location: e) +  (1) cpd00654: Deoxycytidine (location: e) =  (1) cpd00067: H (location: c) +  (1) cpd00654: Deoxycytidine (location: c) (-1000.0, 1000.0)\n",
      "rxn05205  (1) cpd00067: H (location: e) +  (1) cpd00654: Deoxycytidine (location: e) =  (1) cpd00067: H (location: c) +  (1) cpd00654: Deoxycytidine (location: c) (-1000.0, 1000.0)\n",
      "rxn05621  (1) cpd00002: ATP (location: c) +  (1) cpd00001: H2O (location: c) +  (1) cpd08023: methanesulfonate (location: e) >  (1) cpd00067: H (location: c) +  (1) cpd00009: Phosphate (location: c) +  (1) cpd00008: ADP (location: c) +  (1) cpd08023: methanesulfonate (location: c) (0.0, 1000.0)\n",
      "rxn05656  (1) cpd00002: ATP (location: c) +  (1) cpd09878: Sulfoacetate (location: e) +  (1) cpd00001: H2O (location: c) >  (1) cpd00067: H (location: c) +  (1) cpd09878: Sulfoacetate (location: c) +  (1) cpd00009: Phosphate (location: c) +  (1) cpd00008: ADP (location: c) (0.0, 1000.0)\n",
      "rxn05585  (1) cpd00002: ATP (location: c) +  (1) cpd00001: H2O (location: c) +  (1) cpd11578: hexanesulfonate (location: e) >  (1) cpd00067: H (location: c) +  (1) cpd00009: Phosphate (location: c) +  (1) cpd11578: hexanesulfonate (location: c) +  (1) cpd00008: ADP (location: c) (0.0, 1000.0)\n",
      "rxn05172  (1) cpd00210: Taurine (location: e) +  (1) cpd00002: ATP (location: c) +  (1) cpd00001: H2O (location: c) >  (1) cpd00067: H (location: c) +  (1) cpd00210: Taurine (location: c) +  (1) cpd00009: Phosphate (location: c) +  (1) cpd00008: ADP (location: c) (0.0, 1000.0)\n",
      "rxn05594  (1) cpd00002: ATP (location: c) +  (1) cpd03048: Isethionate (location: e) +  (1) cpd00001: H2O (location: c) >  (1) cpd00067: H (location: c) +  (1) cpd03048: Isethionate (location: c) +  (1) cpd00009: Phosphate (location: c) +  (1) cpd00008: ADP (location: c) (0.0, 1000.0)\n",
      "rxn05552  (1) cpd00002: ATP (location: c) +  (1) cpd00001: H2O (location: c) +  (1) cpd11579: ethanesulfonate (location: e) >  (1) cpd00067: H (location: c) +  (1) cpd00009: Phosphate (location: c) +  (1) cpd00008: ADP (location: c) +  (1) cpd11579: ethanesulfonate (location: c) (0.0, 1000.0)\n",
      "rxn05599  (1) cpd00002: ATP (location: c) +  (1) cpd00001: H2O (location: c) +  (1) cpd00395: L_Cysteate (location: e) >  (1) cpd00067: H (location: c) +  (1) cpd00009: Phosphate (location: c) +  (1) cpd00008: ADP (location: c) +  (1) cpd00395: L_Cysteate (location: c) (0.0, 1000.0)\n",
      "rxn05512  (1) cpd00002: ATP (location: c) +  (1) cpd00001: H2O (location: c) +  (1) cpd11596: butanesulfonate (location: e) >  (1) cpd00067: H (location: c) +  (1) cpd00009: Phosphate (location: c) +  (1) cpd00008: ADP (location: c) +  (1) cpd11596: butanesulfonate (location: c) (0.0, 1000.0)\n",
      "rxn05620  (1) cpd00002: ATP (location: c) +  (1) cpd00001: H2O (location: c) +  (1) cpd11575: MOPS (location: e) >  (1) cpd00067: H (location: c) +  (1) cpd00009: Phosphate (location: c) +  (1) cpd00008: ADP (location: c) +  (1) cpd11575: MOPS (location: c) (0.0, 1000.0)\n",
      "rxn05518  (1) cpd00061: Phosphoenolpyruvate (location: c) +  (1) cpd00158: CELB (location: e) =  (1) cpd00020: Pyruvate (location: c) +  (1) cpd02760: cellobiose_6_phoshate (location: c) (-1000.0, 1000.0)\n",
      "rxn05145  (1) cpd00002: ATP (location: c) +  (1) cpd00001: H2O (location: c) +  (1) cpd00009: Phosphate (location: e) =  (1) cpd00067: H (location: c) +  (2) cpd00009: Phosphate (location: c) +  (1) cpd00008: ADP (location: c) (-1000.0, 1000.0)\n",
      "rxn05153  (1) cpd00002: ATP (location: c) +  (1) cpd00048: Sulfate (location: e) +  (1) cpd00001: H2O (location: c) >  (1) cpd00067: H (location: c) +  (1) cpd00048: Sulfate (location: c) +  (1) cpd00009: Phosphate (location: c) +  (1) cpd00008: ADP (location: c) (0.0, 1000.0)\n",
      "rxn05561  (1) cpd00067: H (location: e) +  (1) cpd00106: Fumarate (location: e) =  (1) cpd00067: H (location: c) +  (1) cpd00106: Fumarate (location: c) (-1000.0, 1000.0)\n",
      "rxn05561  (1) cpd00067: H (location: e) +  (1) cpd00106: Fumarate (location: e) =  (1) cpd00067: H (location: c) +  (1) cpd00106: Fumarate (location: c) (-1000.0, 1000.0)\n",
      "rxn05654  (1) cpd00067: H (location: e) +  (1) cpd00036: Succinate (location: e) =  (1) cpd00067: H (location: c) +  (1) cpd00036: Succinate (location: c) (-1000.0, 1000.0)\n",
      "rxn05654  (1) cpd00067: H (location: e) +  (1) cpd00036: Succinate (location: e) =  (1) cpd00067: H (location: c) +  (1) cpd00036: Succinate (location: c) (-1000.0, 1000.0)\n",
      "rxn05175  (1) cpd00002: ATP (location: c) +  (1) cpd00001: H2O (location: c) +  (1) cpd00264: Spermidine (location: e) >  (1) cpd00067: H (location: c) +  (1) cpd00009: Phosphate (location: c) +  (1) cpd00264: Spermidine (location: c) +  (1) cpd00008: ADP (location: c) (0.0, 1000.0)\n",
      "rxn05163  (1) cpd00118: Putrescine (location: e) +  (1) cpd00002: ATP (location: c) +  (1) cpd00001: H2O (location: c) >  (1) cpd00067: H (location: c) +  (1) cpd00118: Putrescine (location: c) +  (1) cpd00009: Phosphate (location: c) +  (1) cpd00008: ADP (location: c) (0.0, 1000.0)\n",
      "rxn05567  (1) cpd01171: Dulcose (location: e) +  (1) cpd00061: Phosphoenolpyruvate (location: c) =  (1) cpd00020: Pyruvate (location: c) +  (1) cpd03752: Galactitol_1_phosphate (location: c) (-1000.0, 1000.0)\n",
      "rxn05683  (1) cpd00211: Butyrate (location: e) +  (1) cpd00067: H (location: e) =  (1) cpd00211: Butyrate (location: c) +  (1) cpd00067: H (location: c) (-1000.0, 1000.0)\n",
      "rxn05683  (1) cpd00211: Butyrate (location: e) +  (1) cpd00067: H (location: e) =  (1) cpd00211: Butyrate (location: c) +  (1) cpd00067: H (location: c) (-1000.0, 1000.0)\n",
      "rxn05484  (1) cpd00067: H (location: e) +  (1) cpd00142: Acetoacetate (location: e) =  (1) cpd00067: H (location: c) +  (1) cpd00142: Acetoacetate (location: c) (-1000.0, 1000.0)\n",
      "rxn05484  (1) cpd00067: H (location: e) +  (1) cpd00142: Acetoacetate (location: e) =  (1) cpd00067: H (location: c) +  (1) cpd00142: Acetoacetate (location: c) (-1000.0, 1000.0)\n",
      "rxn05149  (1) cpd00002: ATP (location: c) +  (1) cpd00001: H2O (location: c) +  (1) cpd00030: Mn2 (location: e) >  (1) cpd00067: H (location: c) +  (1) cpd00009: Phosphate (location: c) +  (1) cpd00008: ADP (location: c) +  (1) cpd00030: Mn2 (location: c) (0.0, 1000.0)\n",
      "rxn10945  (1) cpd00129: L_Proline (location: e) =  (1) cpd00129: L_Proline (location: c) (-1000.0, 1000.0)\n",
      "rxn05638  (1) cpd00067: H (location: e) +  (1) cpd00129: L_Proline (location: e) =  (1) cpd00067: H (location: c) +  (1) cpd00129: L_Proline (location: c) (-1000.0, 1000.0)\n",
      "rxn05638  (1) cpd00067: H (location: e) +  (1) cpd00129: L_Proline (location: e) =  (1) cpd00067: H (location: c) +  (1) cpd00129: L_Proline (location: c) (-1000.0, 1000.0)\n",
      "rxn05500  (1) cpd00067: H (location: e) +  (1) cpd00224: L_Arabinose (location: e) =  (1) cpd00067: H (location: c) +  (1) cpd00224: L_Arabinose (location: c) (-1000.0, 1000.0)\n",
      "rxn05500  (1) cpd00067: H (location: e) +  (1) cpd00224: L_Arabinose (location: e) =  (1) cpd00067: H (location: c) +  (1) cpd00224: L_Arabinose (location: c) (-1000.0, 1000.0)\n",
      "rxn05671  (1) cpd00154: Xylose (location: e) +  (1) cpd00067: H (location: e) =  (1) cpd00154: Xylose (location: c) +  (1) cpd00067: H (location: c) (-1000.0, 1000.0)\n",
      "rxn05671  (1) cpd00154: Xylose (location: e) +  (1) cpd00067: H (location: e) =  (1) cpd00154: Xylose (location: c) +  (1) cpd00067: H (location: c) (-1000.0, 1000.0)\n",
      "rxn05566  (1) cpd00067: H (location: e) +  (1) cpd00108: Galactose (location: e) =  (1) cpd00067: H (location: c) +  (1) cpd00108: Galactose (location: c) (-1000.0, 1000.0)\n",
      "rxn05566  (1) cpd00067: H (location: e) +  (1) cpd00108: Galactose (location: e) =  (1) cpd00067: H (location: c) +  (1) cpd00108: Galactose (location: c) (-1000.0, 1000.0)\n",
      "rxn05649  (1) cpd00067: H (location: e) +  (1) cpd00550: D_Serine (location: e) =  (1) cpd00067: H (location: c) +  (1) cpd00550: D_Serine (location: c) (-1000.0, 1000.0)\n",
      "rxn05649  (1) cpd00067: H (location: e) +  (1) cpd00550: D_Serine (location: e) =  (1) cpd00067: H (location: c) +  (1) cpd00550: D_Serine (location: c) (-1000.0, 1000.0)\n",
      "rxn05582  (1) cpd00067: H (location: e) +  (1) cpd00033: Glycine (location: e) =  (1) cpd00067: H (location: c) +  (1) cpd00033: Glycine (location: c) (-1000.0, 1000.0)\n",
      "rxn05582  (1) cpd00067: H (location: e) +  (1) cpd00033: Glycine (location: e) =  (1) cpd00067: H (location: c) +  (1) cpd00033: Glycine (location: c) (-1000.0, 1000.0)\n",
      "rxn05307  (1) cpd00067: H (location: e) +  (1) cpd00054: L_Serine (location: e) =  (1) cpd00067: H (location: c) +  (1) cpd00054: L_Serine (location: c) (-1000.0, 1000.0)\n",
      "rxn05307  (1) cpd00067: H (location: e) +  (1) cpd00054: L_Serine (location: e) =  (1) cpd00067: H (location: c) +  (1) cpd00054: L_Serine (location: c) (-1000.0, 1000.0)\n",
      "rxn05494  (1) cpd00067: H (location: e) +  (1) cpd00117: D_Alanine (location: e) =  (1) cpd00067: H (location: c) +  (1) cpd00117: D_Alanine (location: c) (-1000.0, 1000.0)\n",
      "rxn05494  (1) cpd00067: H (location: e) +  (1) cpd00117: D_Alanine (location: e) =  (1) cpd00067: H (location: c) +  (1) cpd00117: D_Alanine (location: c) (-1000.0, 1000.0)\n",
      "rxn05158  (1) cpd00002: ATP (location: c) +  (1) cpd00080: Glycerol_3_phosphate (location: e) +  (1) cpd00001: H2O (location: c) >  (1) cpd00067: H (location: c) +  (1) cpd00080: Glycerol_3_phosphate (location: c) +  (1) cpd00009: Phosphate (location: c) +  (1) cpd00008: ADP (location: c) (0.0, 1000.0)\n",
      "rxn09674  (1) cpd00067: H (location: e) +  (1) cpd00039: L_Lysine (location: e) =  (1) cpd00067: H (location: c) +  (1) cpd00039: L_Lysine (location: c) (-1000.0, 1000.0)\n",
      "rxn09674  (1) cpd00067: H (location: e) +  (1) cpd00039: L_Lysine (location: e) =  (1) cpd00067: H (location: c) +  (1) cpd00039: L_Lysine (location: c) (-1000.0, 1000.0)\n",
      "rxn05164  (1) cpd00002: ATP (location: c) +  (1) cpd00001: H2O (location: c) +  (1) cpd00119: L_Histidine (location: e) >  (1) cpd00067: H (location: c) +  (1) cpd00009: Phosphate (location: c) +  (1) cpd00119: L_Histidine (location: c) +  (1) cpd00008: ADP (location: c) (0.0, 1000.0)\n",
      "rxn05596  (1) cpd00067: H (location: e) +  (1) cpd00205: K (location: c) =  (1) cpd00067: H (location: c) +  (1) cpd00205: K (location: e) (-1000.0, 1000.0)\n",
      "rxn05563  (2) cpd00009: Phosphate (location: c) +  (1) cpd00079: D_glucose_6_phosphate (location: e) =  (2) cpd00009: Phosphate (location: e) +  (1) cpd00079: D_glucose_6_phosphate (location: c) (-1000.0, 1000.0)\n",
      "rxn10188  (1) cpd01912: L_Fucose_1_phosphate (location: e) +  (2) cpd00009: Phosphate (location: c) =  (1) cpd01912: L_Fucose_1_phosphate (location: c) +  (2) cpd00009: Phosphate (location: e) (-1000.0, 1000.0)\n",
      "rxn10187  (1) cpd00235: D_mannose_6_phosphate (location: e) +  (2) cpd00009: Phosphate (location: c) =  (1) cpd00235: D_mannose_6_phosphate (location: c) +  (2) cpd00009: Phosphate (location: e) (-1000.0, 1000.0)\n",
      "rxn12405  (1) cpd00797: R_3_Hydroxybutanoate (location: e) =  (1) cpd00797: R_3_Hydroxybutanoate (location: c) (-1000.0, 1000.0)\n",
      "rxn05202  (1) cpd00067: H (location: e) +  (1) cpd00309: XAN (location: e) =  (1) cpd00067: H (location: c) +  (1) cpd00309: XAN (location: c) (-1000.0, 1000.0)\n",
      "rxn05202  (1) cpd00067: H (location: e) +  (1) cpd00309: XAN (location: e) =  (1) cpd00067: H (location: c) +  (1) cpd00309: XAN (location: c) (-1000.0, 1000.0)\n",
      "rxn05226  (1) cpd00027: D_Glucose (location: e) +  (1) cpd00061: Phosphoenolpyruvate (location: c) =  (1) cpd00020: Pyruvate (location: c) +  (1) cpd00079: D_glucose_6_phosphate (location: c) (-1000.0, 1000.0)\n",
      "rxn05560  (1) cpd00061: Phosphoenolpyruvate (location: c) +  (1) cpd00082: D_Fructose (location: e) =  (1) cpd00802: D_fructose_1_phosphate (location: c) +  (1) cpd00020: Pyruvate (location: c) (-1000.0, 1000.0)\n",
      "rxn05207  (1) cpd00130: L_Malate (location: e) +  (1) cpd00971: Na (location: e) =  (1) cpd00130: L_Malate (location: c) +  (1) cpd00971: Na (location: c) (-1000.0, 1000.0)\n",
      "rxn05207  (1) cpd00130: L_Malate (location: e) +  (1) cpd00971: Na (location: e) =  (1) cpd00130: L_Malate (location: c) +  (1) cpd00971: Na (location: c) (-1000.0, 1000.0)\n",
      "rxn05605  (1) cpd00130: L_Malate (location: e) +  (1) cpd00067: H (location: e) =  (1) cpd00130: L_Malate (location: c) +  (1) cpd00067: H (location: c) (-1000.0, 1000.0)\n",
      "rxn05605  (1) cpd00130: L_Malate (location: e) +  (1) cpd00067: H (location: e) =  (1) cpd00130: L_Malate (location: c) +  (1) cpd00067: H (location: c) (-1000.0, 1000.0)\n",
      "rxn05493  (1) cpd00067: H (location: e) +  (1) cpd00024: 2_Oxoglutarate (location: e) =  (1) cpd00067: H (location: c) +  (1) cpd00024: 2_Oxoglutarate (location: c) (-1000.0, 1000.0)\n",
      "rxn05493  (1) cpd00067: H (location: e) +  (1) cpd00024: 2_Oxoglutarate (location: e) =  (1) cpd00067: H (location: c) +  (1) cpd00024: 2_Oxoglutarate (location: c) (-1000.0, 1000.0)\n",
      "rxn05578  (1) cpd00067: H (location: e) +  (1) cpd00080: Glycerol_3_phosphate (location: e) =  (1) cpd00067: H (location: c) +  (1) cpd00080: Glycerol_3_phosphate (location: c) (-1000.0, 1000.0)\n",
      "rxn05578  (1) cpd00067: H (location: e) +  (1) cpd00080: Glycerol_3_phosphate (location: e) =  (1) cpd00067: H (location: c) +  (1) cpd00080: Glycerol_3_phosphate (location: c) (-1000.0, 1000.0)\n",
      "rxn05647  (1) cpd01030: Salicin (location: e) +  (1) cpd00061: Phosphoenolpyruvate (location: c) =  (1) cpd00020: Pyruvate (location: c) +  (1) cpd03698: Salicin_6P (location: c) (-1000.0, 1000.0)\n",
      "rxn05501  (1) cpd03696: Ursin (location: e) +  (1) cpd00061: Phosphoenolpyruvate (location: c) =  (1) cpd00020: Pyruvate (location: c) +  (1) cpd03697: Arbutin_6P (location: c) (-1000.0, 1000.0)\n",
      "rxn05176  (1) cpd00002: ATP (location: c) +  (1) cpd00001: H2O (location: c) +  (1) cpd00268: H2S2O3 (location: e) >  (1) cpd00067: H (location: c) +  (1) cpd00009: Phosphate (location: c) +  (1) cpd00268: H2S2O3 (location: c) +  (1) cpd00008: ADP (location: c) (0.0, 1000.0)\n",
      "rxn05496  (1) cpd00067: H (location: e) +  (1) cpd00035: L_Alanine (location: e) =  (1) cpd00067: H (location: c) +  (1) cpd00035: L_Alanine (location: c) (-1000.0, 1000.0)\n",
      "rxn05496  (1) cpd00067: H (location: e) +  (1) cpd00035: L_Alanine (location: e) =  (1) cpd00067: H (location: c) +  (1) cpd00035: L_Alanine (location: c) (-1000.0, 1000.0)\n",
      "rxn05317  (1) cpd00438: Deoxyadenosine (location: e) +  (1) cpd00067: H (location: e) =  (1) cpd00438: Deoxyadenosine (location: c) +  (1) cpd00067: H (location: c) (-1000.0, 1000.0)\n",
      "rxn05317  (1) cpd00438: Deoxyadenosine (location: e) +  (1) cpd00067: H (location: e) =  (1) cpd00438: Deoxyadenosine (location: c) +  (1) cpd00067: H (location: c) (-1000.0, 1000.0)\n",
      "rxn10160  (1) cpd00653: D_Galactonate (location: e) +  (1) cpd00067: H (location: e) =  (1) cpd00653: D_Galactonate (location: c) +  (1) cpd00067: H (location: c) (-1000.0, 1000.0)\n",
      "rxn10160  (1) cpd00653: D_Galactonate (location: e) +  (1) cpd00067: H (location: e) =  (1) cpd00653: D_Galactonate (location: c) +  (1) cpd00067: H (location: c) (-1000.0, 1000.0)\n",
      "rxn10181  (1) cpd00355: Nicotinamide_ribonucleotide (location: e) =  (1) cpd00355: Nicotinamide_ribonucleotide (location: c) (-1000.0, 1000.0)\n",
      "rxn05680  (1) cpd00067: H (location: e) +  (1) cpd01217: Xanthosine (location: e) =  (1) cpd00067: H (location: c) +  (1) cpd01217: Xanthosine (location: c) (-1000.0, 1000.0)\n",
      "rxn05680  (1) cpd00067: H (location: e) +  (1) cpd01217: Xanthosine (location: e) =  (1) cpd00067: H (location: c) +  (1) cpd01217: Xanthosine (location: c) (-1000.0, 1000.0)\n",
      "rxn05221  (1) cpd00971: Na (location: e) +  (1) cpd00129: L_Proline (location: e) =  (1) cpd00971: Na (location: c) +  (1) cpd00129: L_Proline (location: c) (-1000.0, 1000.0)\n",
      "rxn05221  (1) cpd00971: Na (location: e) +  (1) cpd00129: L_Proline (location: e) =  (1) cpd00971: Na (location: c) +  (1) cpd00129: L_Proline (location: c) (-1000.0, 1000.0)\n",
      "rxn10182  (1) cpd00118: Putrescine (location: e) +  (1) cpd00064: Ornithine (location: c) =  (1) cpd00118: Putrescine (location: c) +  (1) cpd00064: Ornithine (location: e) (-1000.0, 1000.0)\n",
      "rxn05687  (1) cpd00118: Putrescine (location: e) +  (1) cpd00067: H (location: e) >  (1) cpd00118: Putrescine (location: c) +  (1) cpd00067: H (location: c) (0.0, 1000.0)\n",
      "rxn05687  (1) cpd00118: Putrescine (location: e) +  (1) cpd00067: H (location: e) >  (1) cpd00118: Putrescine (location: c) +  (1) cpd00067: H (location: c) (0.0, 1000.0)\n",
      "rxn05551  (1) cpd00162: Aminoethanol (location: e) +  (1) cpd00067: H (location: e) =  (1) cpd00162: Aminoethanol (location: c) +  (1) cpd00067: H (location: c) (-1000.0, 1000.0)\n",
      "rxn05551  (1) cpd00162: Aminoethanol (location: e) +  (1) cpd00067: H (location: e) =  (1) cpd00162: Aminoethanol (location: c) +  (1) cpd00067: H (location: c) (-1000.0, 1000.0)\n",
      "rxn10116  (1) cpd00027: D_Glucose (location: e) +  (1) cpd00001: H2O (location: e) +  (1) cpd15560: Ubiquinone_8 (location: c) >  (1) cpd00067: H (location: e) +  (1) cpd15561: Ubiquinol_8 (location: c) +  (1) cpd00222: GLCN (location: e) (0.0, 1000.0)\n",
      "rxn10116  (1) cpd00027: D_Glucose (location: e) +  (1) cpd00001: H2O (location: e) +  (1) cpd15560: Ubiquinone_8 (location: c) >  (1) cpd00067: H (location: e) +  (1) cpd15561: Ubiquinol_8 (location: c) +  (1) cpd00222: GLCN (location: e) (0.0, 1000.0)\n",
      "rxn10174  (1) cpd00002: ATP (location: c) +  (1) cpd00001: H2O (location: c) +  (1) cpd01329: Maltohexaose (location: e) >  (1) cpd00067: H (location: c) +  (1) cpd00009: Phosphate (location: c) +  (1) cpd01329: Maltohexaose (location: c) +  (1) cpd00008: ADP (location: c) (0.0, 1000.0)\n",
      "rxn05608  (1) cpd00002: ATP (location: c) +  (1) cpd00001: H2O (location: c) +  (1) cpd01262: Amylotriose (location: e) >  (1) cpd00067: H (location: c) +  (1) cpd00009: Phosphate (location: c) +  (1) cpd00008: ADP (location: c) +  (1) cpd01262: Amylotriose (location: c) (0.0, 1000.0)\n",
      "rxn05170  (1) cpd00002: ATP (location: c) +  (1) cpd00179: Maltose (location: e) +  (1) cpd00001: H2O (location: c) >  (1) cpd00067: H (location: c) +  (1) cpd00179: Maltose (location: c) +  (1) cpd00009: Phosphate (location: c) +  (1) cpd00008: ADP (location: c) (0.0, 1000.0)\n",
      "rxn05607  (1) cpd00179: Maltose (location: e) +  (1) cpd00061: Phosphoenolpyruvate (location: c) =  (1) cpd00020: Pyruvate (location: c) +  (1) cpd01919: maltose_6_phosphate (location: c) (-1000.0, 1000.0)\n",
      "rxn05165  (1) cpd00002: ATP (location: c) +  (1) cpd00001: H2O (location: c) +  (1) cpd00129: L_Proline (location: e) >  (1) cpd00067: H (location: c) +  (1) cpd00009: Phosphate (location: c) +  (1) cpd00129: L_Proline (location: c) +  (1) cpd00008: ADP (location: c) (0.0, 1000.0)\n",
      "rxn05181  (1) cpd00002: ATP (location: c) +  (1) cpd00540: BET (location: e) +  (1) cpd00001: H2O (location: c) >  (1) cpd00067: H (location: c) +  (1) cpd00540: BET (location: c) +  (1) cpd00009: Phosphate (location: c) +  (1) cpd00008: ADP (location: c) (0.0, 1000.0)\n",
      "rxn05617  (1) cpd00314: D_Mannitol (location: e) +  (1) cpd00061: Phosphoenolpyruvate (location: c) =  (1) cpd00020: Pyruvate (location: c) +  (1) cpd00491: D_mannitol_1_phosphate (location: c) (-1000.0, 1000.0)\n",
      "rxn05156  (1) cpd00002: ATP (location: c) +  (1) cpd00001: H2O (location: c) +  (1) cpd00064: Ornithine (location: e) >  (1) cpd00067: H (location: c) +  (1) cpd00009: Phosphate (location: c) +  (1) cpd00064: Ornithine (location: c) +  (1) cpd00008: ADP (location: c) (0.0, 1000.0)\n",
      "rxn05151  (1) cpd00002: ATP (location: c) +  (1) cpd00001: H2O (location: c) +  (1) cpd00039: L_Lysine (location: e) >  (1) cpd00067: H (location: c) +  (1) cpd00009: Phosphate (location: c) +  (1) cpd00039: L_Lysine (location: c) +  (1) cpd00008: ADP (location: c) (0.0, 1000.0)\n",
      "rxn10184  (1) cpd00061: Phosphoenolpyruvate (location: c) +  (1) cpd00588: Sorbitol (location: e) =  (1) cpd00020: Pyruvate (location: c) +  (1) cpd00804: Sorbitol_6_phosphate (location: c) (-1000.0, 1000.0)\n",
      "rxn05571  (1) cpd00067: H (location: e) +  (1) cpd00222: GLCN (location: e) =  (1) cpd00067: H (location: c) +  (1) cpd00222: GLCN (location: c) (-1000.0, 1000.0)\n",
      "rxn05571  (1) cpd00067: H (location: e) +  (1) cpd00222: GLCN (location: e) =  (1) cpd00067: H (location: c) +  (1) cpd00222: GLCN (location: c) (-1000.0, 1000.0)\n",
      "rxn05313  (3) cpd00971: Na (location: e) +  (1) cpd00009: Phosphate (location: e) =  (3) cpd00971: Na (location: c) +  (1) cpd00009: Phosphate (location: c) (-1000.0, 1000.0)\n",
      "rxn05313  (3) cpd00971: Na (location: e) +  (1) cpd00009: Phosphate (location: e) =  (3) cpd00971: Na (location: c) +  (1) cpd00009: Phosphate (location: c) (-1000.0, 1000.0)\n",
      "rxn05147  (1) cpd00027: D_Glucose (location: e) +  (1) cpd00002: ATP (location: c) +  (1) cpd00001: H2O (location: c) >  (1) cpd00027: D_Glucose (location: c) +  (1) cpd00067: H (location: c) +  (1) cpd00009: Phosphate (location: c) +  (1) cpd00008: ADP (location: c) (0.0, 1000.0)\n",
      "rxn05173  (1) cpd00002: ATP (location: c) +  (1) cpd00001: H2O (location: c) +  (1) cpd00224: L_Arabinose (location: e) >  (1) cpd00067: H (location: c) +  (1) cpd00009: Phosphate (location: c) +  (1) cpd00224: L_Arabinose (location: c) +  (1) cpd00008: ADP (location: c) (0.0, 1000.0)\n",
      "rxn05466  (1) cpd00013: NH3 (location: e) =  (1) cpd00013: NH3 (location: c) (-1000.0, 1000.0)\n",
      "rxn10161  (1) cpd01080: ocdca (location: e) +  (1) cpd00067: H (location: e) =  (1) cpd01080: ocdca (location: c) +  (1) cpd00067: H (location: c) (-1000.0, 1000.0)\n",
      "rxn10161  (1) cpd01080: ocdca (location: e) +  (1) cpd00067: H (location: e) =  (1) cpd01080: ocdca (location: c) +  (1) cpd00067: H (location: c) (-1000.0, 1000.0)\n",
      "rxn10162  (1) cpd00067: H (location: e) +  (1) cpd00214: Palmitate (location: e) =  (1) cpd00067: H (location: c) +  (1) cpd00214: Palmitate (location: c) (-1000.0, 1000.0)\n",
      "rxn10162  (1) cpd00067: H (location: e) +  (1) cpd00214: Palmitate (location: e) =  (1) cpd00067: H (location: c) +  (1) cpd00214: Palmitate (location: c) (-1000.0, 1000.0)\n",
      "rxn10163  (1) cpd00067: H (location: e) +  (1) cpd03847: Myristic_acid (location: e) =  (1) cpd00067: H (location: c) +  (1) cpd03847: Myristic_acid (location: c) (-1000.0, 1000.0)\n",
      "rxn10163  (1) cpd00067: H (location: e) +  (1) cpd03847: Myristic_acid (location: e) =  (1) cpd00067: H (location: c) +  (1) cpd03847: Myristic_acid (location: c) (-1000.0, 1000.0)\n",
      "rxn05155  (1) cpd00002: ATP (location: c) +  (1) cpd00001: H2O (location: c) +  (1) cpd00053: L_Glutamine (location: e) >  (1) cpd00067: H (location: c) +  (1) cpd00009: Phosphate (location: c) +  (1) cpd00008: ADP (location: c) +  (1) cpd00053: L_Glutamine (location: c) (0.0, 1000.0)\n",
      "rxn05201  (1) cpd00226: HYXN (location: e) +  (1) cpd00067: H (location: e) =  (1) cpd00226: HYXN (location: c) +  (1) cpd00067: H (location: c) (-1000.0, 1000.0)\n",
      "rxn05201  (1) cpd00226: HYXN (location: e) +  (1) cpd00067: H (location: e) =  (1) cpd00226: HYXN (location: c) +  (1) cpd00067: H (location: c) (-1000.0, 1000.0)\n",
      "rxn10042  (4) cpd00067: H (location: e) +  (1) cpd00009: Phosphate (location: c) +  (1) cpd00008: ADP (location: c) =  (1) cpd00002: ATP (location: c) +  (3) cpd00067: H (location: c) +  (1) cpd00001: H2O (location: c) (-1000.0, 1000.0)\n",
      "rxn10168  (1) cpd00002: ATP (location: c) +  (1) cpd00001: H2O (location: c) +  (1) cpd00205: K (location: e) >  (1) cpd00067: H (location: c) +  (1) cpd00009: Phosphate (location: c) +  (1) cpd00008: ADP (location: c) +  (1) cpd00205: K (location: c) (0.0, 1000.0)\n",
      "rxn10180  (1) cpd00971: Na (location: e) +  (1) cpd00644: PAN (location: e) =  (1) cpd00971: Na (location: c) +  (1) cpd00644: PAN (location: c) (-1000.0, 1000.0)\n",
      "rxn10180  (1) cpd00971: Na (location: e) +  (1) cpd00644: PAN (location: e) =  (1) cpd00971: Na (location: c) +  (1) cpd00644: PAN (location: c) (-1000.0, 1000.0)\n",
      "rxn05555  (1) cpd00002: ATP (location: c) +  (1) cpd00001: H2O (location: c) +  (1) cpd10515: Fe2 (location: e) >  (1) cpd00067: H (location: c) +  (1) cpd00009: Phosphate (location: c) +  (1) cpd10515: Fe2 (location: c) +  (1) cpd00008: ADP (location: c) (0.0, 1000.0)\n",
      "rxn10133  (1) cpd00067: H (location: e) +  (1) cpd03343: Phenylpropanoate (location: e) =  (1) cpd00067: H (location: c) +  (1) cpd03343: Phenylpropanoate (location: c) (-1000.0, 1000.0)\n",
      "rxn10133  (1) cpd00067: H (location: e) +  (1) cpd03343: Phenylpropanoate (location: e) =  (1) cpd00067: H (location: c) +  (1) cpd03343: Phenylpropanoate (location: c) (-1000.0, 1000.0)\n",
      "rxn10473  (1) cpd00099: Cl_ (location: e) =  (1) cpd00099: Cl_ (location: c) (-1000.0, 1000.0)\n",
      "rxn05618  (1) cpd00067: H (location: e) +  (1) cpd00030: Mn2 (location: e) >  (1) cpd00067: H (location: c) +  (1) cpd00030: Mn2 (location: c) (0.0, 1000.0)\n",
      "rxn05618  (1) cpd00067: H (location: e) +  (1) cpd00030: Mn2 (location: e) >  (1) cpd00067: H (location: c) +  (1) cpd00030: Mn2 (location: c) (0.0, 1000.0)\n",
      "rxn05559  (1) cpd00067: H (location: e) +  (1) cpd00047: Formate (location: e) =  (1) cpd00067: H (location: c) +  (1) cpd00047: Formate (location: c) (-1000.0, 1000.0)\n",
      "rxn05559  (1) cpd00067: H (location: e) +  (1) cpd00047: Formate (location: e) =  (1) cpd00067: H (location: c) +  (1) cpd00047: Formate (location: c) (-1000.0, 1000.0)\n",
      "rxn05569  (1) cpd00276: GLUM (location: e) +  (1) cpd00061: Phosphoenolpyruvate (location: c) =  (1) cpd00020: Pyruvate (location: c) +  (1) cpd00288: D_Glucosamine_phosphate (location: c) (-1000.0, 1000.0)\n",
      "rxn05574  (1) cpd00067: H (location: e) +  (1) cpd00164: Glucuronate (location: e) =  (1) cpd00067: H (location: c) +  (1) cpd00164: Glucuronate (location: c) (-1000.0, 1000.0)\n",
      "rxn05574  (1) cpd00067: H (location: e) +  (1) cpd00164: Glucuronate (location: e) =  (1) cpd00067: H (location: c) +  (1) cpd00164: Glucuronate (location: c) (-1000.0, 1000.0)\n",
      "rxn05673  (1) cpd00280: D_Galacturonate (location: e) +  (1) cpd00067: H (location: e) =  (1) cpd00280: D_Galacturonate (location: c) +  (1) cpd00067: H (location: c) (-1000.0, 1000.0)\n",
      "rxn05673  (1) cpd00280: D_Galacturonate (location: e) +  (1) cpd00067: H (location: e) =  (1) cpd00280: D_Galacturonate (location: c) +  (1) cpd00067: H (location: c) (-1000.0, 1000.0)\n",
      "rxn10150  (1) cpd00137: Citrate (location: e) +  (1) cpd00036: Succinate (location: c) =  (1) cpd00137: Citrate (location: c) +  (1) cpd00036: Succinate (location: e) (-1000.0, 1000.0)\n",
      "rxn05150  (1) cpd00002: ATP (location: c) +  (1) cpd00001: H2O (location: c) +  (1) cpd00034: Zn2 (location: e) >  (1) cpd00067: H (location: c) +  (1) cpd00009: Phosphate (location: c) +  (1) cpd00008: ADP (location: c) +  (1) cpd00034: Zn2 (location: c) (0.0, 1000.0)\n",
      "rxn05612  (1) cpd00067: H (location: e) +  (1) cpd03198: Melibiose (location: e) =  (1) cpd00067: H (location: c) +  (1) cpd03198: Melibiose (location: c) (-1000.0, 1000.0)\n",
      "rxn05612  (1) cpd00067: H (location: e) +  (1) cpd03198: Melibiose (location: e) =  (1) cpd00067: H (location: c) +  (1) cpd03198: Melibiose (location: c) (-1000.0, 1000.0)\n",
      "rxn05206  (1) cpd00205: K (location: e) =  (1) cpd00205: K (location: c) (-1000.0, 1000.0)\n",
      "rxn05300  (1) cpd00161: L_Threonine (location: e) +  (1) cpd00067: H (location: e) =  (1) cpd00161: L_Threonine (location: c) +  (1) cpd00067: H (location: c) (-1000.0, 1000.0)\n",
      "rxn05300  (1) cpd00161: L_Threonine (location: e) +  (1) cpd00067: H (location: e) =  (1) cpd00161: L_Threonine (location: c) +  (1) cpd00067: H (location: c) (-1000.0, 1000.0)\n",
      "rxn05514  (1) cpd00067: H (location: e) +  (1) cpd00063: Ca2 (location: c) =  (1) cpd00067: H (location: c) +  (1) cpd00063: Ca2 (location: e) (-1000.0, 1000.0)\n",
      "rxn05527  (1) cpd00307: Cytosine (location: e) +  (1) cpd00067: H (location: e) =  (1) cpd00307: Cytosine (location: c) +  (1) cpd00067: H (location: c) (-1000.0, 1000.0)\n",
      "rxn05527  (1) cpd00307: Cytosine (location: e) +  (1) cpd00067: H (location: e) =  (1) cpd00307: Cytosine (location: c) +  (1) cpd00067: H (location: c) (-1000.0, 1000.0)\n",
      "rxn05681  (1) cpd00176: 2_keto_3_deoxygluconate (location: e) +  (1) cpd00067: H (location: e) =  (1) cpd00176: 2_keto_3_deoxygluconate (location: c) +  (1) cpd00067: H (location: c) (-1000.0, 1000.0)\n",
      "rxn05681  (1) cpd00176: 2_keto_3_deoxygluconate (location: e) +  (1) cpd00067: H (location: e) =  (1) cpd00176: 2_keto_3_deoxygluconate (location: c) +  (1) cpd00067: H (location: c) (-1000.0, 1000.0)\n",
      "rxn05292  (1) cpd10516: fe3 (location: e) >  (1) cpd10516: fe3 (location: c) (0.0, 1000.0)\n",
      "rxn05154  (1) cpd00002: ATP (location: c) +  (1) cpd00001: H2O (location: c) +  (1) cpd00051: L_Arginine (location: e) >  (1) cpd00067: H (location: c) +  (1) cpd00009: Phosphate (location: c) +  (1) cpd00008: ADP (location: c) +  (1) cpd00051: L_Arginine (location: c) (0.0, 1000.0)\n",
      "rxn05188  (1) cpd00002: ATP (location: c) +  (1) cpd00001: H2O (location: c) +  (1) cpd03724: Ferrichrome (location: e) >  (1) cpd00067: H (location: c) +  (1) cpd00009: Phosphate (location: c) +  (1) cpd00008: ADP (location: c) +  (1) cpd03724: Ferrichrome (location: c) (0.0, 1000.0)\n",
      "rxn05651  (1) cpd00067: H (location: e) +  (1) cpd00048: Sulfate (location: e) =  (1) cpd00067: H (location: c) +  (1) cpd00048: Sulfate (location: c) (-1000.0, 1000.0)\n",
      "rxn05651  (1) cpd00067: H (location: e) +  (1) cpd00048: Sulfate (location: e) =  (1) cpd00067: H (location: c) +  (1) cpd00048: Sulfate (location: c) (-1000.0, 1000.0)\n",
      "rxn05602  (1) cpd00067: H (location: e) +  (1) cpd00159: L_Lactate (location: e) =  (1) cpd00067: H (location: c) +  (1) cpd00159: L_Lactate (location: c) (-1000.0, 1000.0)\n",
      "rxn05602  (1) cpd00067: H (location: e) +  (1) cpd00159: L_Lactate (location: e) =  (1) cpd00067: H (location: c) +  (1) cpd00159: L_Lactate (location: c) (-1000.0, 1000.0)\n",
      "rxn05485  (1) cpd00061: Phosphoenolpyruvate (location: c) +  (1) cpd00122: N_Acetyl_D_glucosamine (location: e) =  (1) cpd00020: Pyruvate (location: c) +  (1) cpd00293: N_Acetyl_D_glucosamine_6_phosphate (location: c) (-1000.0, 1000.0)\n",
      "rxn05162  (1) cpd00002: ATP (location: c) +  (1) cpd00001: H2O (location: c) +  (1) cpd00108: Galactose (location: e) >  (1) cpd00067: H (location: c) +  (1) cpd00009: Phosphate (location: c) +  (1) cpd00108: Galactose (location: c) +  (1) cpd00008: ADP (location: c) (0.0, 1000.0)\n",
      "rxn10147  (1) cpd00002: ATP (location: c) +  (1) cpd00001: H2O (location: c) +  (1) cpd00635: Cbl (location: e) >  (1) cpd00067: H (location: c) +  (1) cpd00009: Phosphate (location: c) +  (1) cpd00635: Cbl (location: c) +  (1) cpd00008: ADP (location: c) (0.0, 1000.0)\n",
      "rxn05663  (1) cpd00065: L_Tryptophan (location: e) +  (1) cpd00067: H (location: e) =  (1) cpd00065: L_Tryptophan (location: c) +  (1) cpd00067: H (location: c) (-1000.0, 1000.0)\n",
      "rxn05663  (1) cpd00065: L_Tryptophan (location: e) +  (1) cpd00067: H (location: e) =  (1) cpd00065: L_Tryptophan (location: c) +  (1) cpd00067: H (location: c) (-1000.0, 1000.0)\n",
      "rxn05627  (1) cpd00067: H (location: e) +  (1) cpd00209: Nitrate (location: e) =  (1) cpd00067: H (location: c) +  (1) cpd00209: Nitrate (location: c) (-1000.0, 1000.0)\n",
      "rxn05627  (1) cpd00067: H (location: e) +  (1) cpd00209: Nitrate (location: e) =  (1) cpd00067: H (location: c) +  (1) cpd00209: Nitrate (location: c) (-1000.0, 1000.0)\n",
      "rxn05625  (1) cpd00075: Nitrite (location: e) +  (1) cpd00067: H (location: e) =  (1) cpd00075: Nitrite (location: c) +  (1) cpd00067: H (location: c) (-1000.0, 1000.0)\n",
      "rxn05625  (1) cpd00075: Nitrite (location: e) +  (1) cpd00067: H (location: e) =  (1) cpd00075: Nitrite (location: c) +  (1) cpd00067: H (location: c) (-1000.0, 1000.0)\n",
      "rxn05209  (1) cpd00067: H (location: c) +  (1) cpd00971: Na (location: e) =  (1) cpd00067: H (location: e) +  (1) cpd00971: Na (location: c) (-1000.0, 1000.0)\n",
      "rxn05197  (1) cpd00092: Uracil (location: e) +  (1) cpd00067: H (location: e) =  (1) cpd00092: Uracil (location: c) +  (1) cpd00067: H (location: c) (-1000.0, 1000.0)\n",
      "rxn05197  (1) cpd00092: Uracil (location: e) +  (1) cpd00067: H (location: e) =  (1) cpd00092: Uracil (location: c) +  (1) cpd00067: H (location: c) (-1000.0, 1000.0)\n",
      "rxn10169  (1) cpd00067: H (location: e) +  (1) cpd00208: LACT (location: e) =  (1) cpd00067: H (location: c) +  (1) cpd00208: LACT (location: c) (-1000.0, 1000.0)\n",
      "rxn10169  (1) cpd00067: H (location: e) +  (1) cpd00208: LACT (location: e) =  (1) cpd00067: H (location: c) +  (1) cpd00208: LACT (location: c) (-1000.0, 1000.0)\n",
      "rxn10131  (1) cpd00064: Ornithine (location: c) +  (1) cpd00051: L_Arginine (location: e) =  (1) cpd00064: Ornithine (location: e) +  (1) cpd00051: L_Arginine (location: c) (-1000.0, 1000.0)\n",
      "rxn10481  (1) cpd00058: Cu2 (location: e) +  (1) cpd00002: ATP (location: c) +  (1) cpd00001: H2O (location: c) >  (1) cpd00058: Cu2 (location: c) +  (1) cpd00067: H (location: c) +  (1) cpd00009: Phosphate (location: c) +  (1) cpd00008: ADP (location: c) (0.0, 1000.0)\n",
      "rxn02005  (1) cpd00061: Phosphoenolpyruvate (location: c) +  (1) cpd00794: TRHL (location: e) =  (1) cpd00523: Trehalose_6_phosphate (location: c) +  (1) cpd00020: Pyruvate (location: c) (-1000.0, 1000.0)\n",
      "rxn05610  (1) cpd00138: D_Mannose (location: e) +  (1) cpd00061: Phosphoenolpyruvate (location: c) =  (1) cpd00235: D_mannose_6_phosphate (location: c) +  (1) cpd00020: Pyruvate (location: c) (-1000.0, 1000.0)\n",
      "rxn05655  (1) cpd00076: Sucrose (location: e) +  (1) cpd00061: Phosphoenolpyruvate (location: c) =  (1) cpd01693: 6_Phosphosucrose (location: c) +  (1) cpd00020: Pyruvate (location: c) (-1000.0, 1000.0)\n",
      "rxn05177  (1) cpd00002: ATP (location: c) +  (1) cpd00001: H2O (location: c) +  (1) cpd00305: Thiamin (location: e) >  (1) cpd00067: H (location: c) +  (1) cpd00009: Phosphate (location: c) +  (1) cpd00008: ADP (location: c) +  (1) cpd00305: Thiamin (location: c) (0.0, 1000.0)\n",
      "rxn05564  (1) cpd00067: H (location: e) +  (1) cpd00281: GABA (location: e) =  (1) cpd00067: H (location: c) +  (1) cpd00281: GABA (location: c) (-1000.0, 1000.0)\n",
      "rxn05564  (1) cpd00067: H (location: e) +  (1) cpd00281: GABA (location: e) =  (1) cpd00067: H (location: c) +  (1) cpd00281: GABA (location: c) (-1000.0, 1000.0)\n",
      "rxn05301  (1) cpd00067: H (location: e) +  (1) cpd00069: L_Tyrosine (location: e) =  (1) cpd00067: H (location: c) +  (1) cpd00069: L_Tyrosine (location: c) (-1000.0, 1000.0)\n",
      "rxn05301  (1) cpd00067: H (location: e) +  (1) cpd00069: L_Tyrosine (location: e) =  (1) cpd00067: H (location: c) +  (1) cpd00069: L_Tyrosine (location: c) (-1000.0, 1000.0)\n",
      "rxn05217  (1) cpd00067: H (location: e) +  (1) cpd00041: L_Aspartate (location: e) =  (1) cpd00067: H (location: c) +  (1) cpd00041: L_Aspartate (location: c) (-1000.0, 1000.0)\n",
      "rxn05217  (1) cpd00067: H (location: e) +  (1) cpd00041: L_Aspartate (location: e) =  (1) cpd00067: H (location: c) +  (1) cpd00041: L_Aspartate (location: c) (-1000.0, 1000.0)\n",
      "rxn05297  (1) cpd00067: H (location: e) +  (1) cpd00023: L_Glutamate (location: e) =  (1) cpd00067: H (location: c) +  (1) cpd00023: L_Glutamate (location: c) (-1000.0, 1000.0)\n",
      "rxn05297  (1) cpd00067: H (location: e) +  (1) cpd00023: L_Glutamate (location: e) =  (1) cpd00067: H (location: c) +  (1) cpd00023: L_Glutamate (location: c) (-1000.0, 1000.0)\n",
      "rxn05467  (1) cpd00011: CO2 (location: e) =  (1) cpd00011: CO2 (location: c) (-1000.0, 1000.0)\n",
      "rxn05468  (1) cpd00007: O2 (location: e) =  (1) cpd00007: O2 (location: c) (-1000.0, 1000.0)\n",
      "rxn05667  (1) cpd00073: Urea (location: e) =  (1) cpd00073: Urea (location: c) (-1000.0, 1000.0)\n",
      "rxn10571  (1) cpd00002: ATP (location: c) +  (1) cpd00001: H2O (location: c) +  (1) cpd00254: Mg (location: e) >  (1) cpd00067: H (location: c) +  (1) cpd00009: Phosphate (location: c) +  (1) cpd00008: ADP (location: c) +  (1) cpd00254: Mg (location: c) (0.0, 1000.0)\n",
      "rxn05195  (1) cpd10516: fe3 (location: e) +  (1) cpd00002: ATP (location: c) +  (1) cpd00001: H2O (location: c) >  (1) cpd10516: fe3 (location: c) +  (1) cpd00067: H (location: c) +  (1) cpd00009: Phosphate (location: c) +  (1) cpd00008: ADP (location: c) (0.0, 1000.0)\n",
      "rxn05645  (1) cpd00067: H (location: e) +  (1) cpd00220: Riboflavin (location: e) >  (1) cpd00067: H (location: c) +  (1) cpd00220: Riboflavin (location: c) (0.0, 1000.0)\n",
      "rxn05645  (1) cpd00067: H (location: e) +  (1) cpd00220: Riboflavin (location: e) >  (1) cpd00067: H (location: c) +  (1) cpd00220: Riboflavin (location: c) (0.0, 1000.0)\n",
      "rxn10904  (1) cpd00029: Acetate (location: e) >  (1) cpd00029: Acetate (location: c) (0.0, 1000.0)\n",
      "rxn05499  (1) cpd00185: D_Arabinose (location: e) >  (1) cpd00185: D_Arabinose (location: c) (0.0, 1000.0)\n",
      "rxn05508  (1) cpd00132: L_Asparagine (location: e) +  (1) cpd00067: H (location: e) >  (1) cpd00132: L_Asparagine (location: c) +  (1) cpd00067: H (location: c) (0.0, 1000.0)\n",
      "rxn05508  (1) cpd00132: L_Asparagine (location: e) +  (1) cpd00067: H (location: e) >  (1) cpd00132: L_Asparagine (location: c) +  (1) cpd00067: H (location: c) (0.0, 1000.0)\n",
      "rxn05691  (1) cpd00067: H (location: e) +  (1) cpd00751: L_Fucose (location: e) >  (1) cpd00067: H (location: c) +  (1) cpd00751: L_Fucose (location: c) (0.0, 1000.0)\n",
      "rxn05691  (1) cpd00067: H (location: e) +  (1) cpd00751: L_Fucose (location: e) >  (1) cpd00067: H (location: c) +  (1) cpd00751: L_Fucose (location: c) (0.0, 1000.0)\n",
      "rxn11116  (1) cpd00067: H (location: e) +  (1) cpd01022: Lactate (location: e) >  (1) cpd00067: H (location: c) +  (1) cpd01022: Lactate (location: c) (0.0, 1000.0)\n",
      "rxn11116  (1) cpd00067: H (location: e) +  (1) cpd01022: Lactate (location: e) >  (1) cpd00067: H (location: c) +  (1) cpd01022: Lactate (location: c) (0.0, 1000.0)\n",
      "rxn05593  (1) cpd00121: L_Inositol (location: e) +  (1) cpd00067: H (location: e) >  (1) cpd00121: L_Inositol (location: c) +  (1) cpd00067: H (location: c) (0.0, 1000.0)\n",
      "rxn05593  (1) cpd00121: L_Inositol (location: e) +  (1) cpd00067: H (location: e) >  (1) cpd00121: L_Inositol (location: c) +  (1) cpd00067: H (location: c) (0.0, 1000.0)\n",
      "rxn05469  (1) cpd00067: H (location: e) +  (1) cpd00020: Pyruvate (location: e) >  (1) cpd00067: H (location: c) +  (1) cpd00020: Pyruvate (location: c) (0.0, 1000.0)\n",
      "rxn05469  (1) cpd00067: H (location: e) +  (1) cpd00020: Pyruvate (location: e) >  (1) cpd00067: H (location: c) +  (1) cpd00020: Pyruvate (location: c) (0.0, 1000.0)\n",
      "rxn05694  (1) cpd01293: 5_Oxoproline (location: e) +  (1) cpd00067: H (location: e) >  (1) cpd01293: 5_Oxoproline (location: c) +  (1) cpd00067: H (location: c) (0.0, 1000.0)\n",
      "rxn05694  (1) cpd01293: 5_Oxoproline (location: e) +  (1) cpd00067: H (location: e) >  (1) cpd01293: 5_Oxoproline (location: c) +  (1) cpd00067: H (location: c) (0.0, 1000.0)\n",
      "rxn05491  (1) cpd00067: H (location: e) +  (1) cpd00128: Adenine (location: e) >  (1) cpd00067: H (location: c) +  (1) cpd00128: Adenine (location: c) (0.0, 1000.0)\n",
      "rxn05491  (1) cpd00067: H (location: e) +  (1) cpd00128: Adenine (location: e) >  (1) cpd00067: H (location: c) +  (1) cpd00128: Adenine (location: c) (0.0, 1000.0)\n",
      "rxn05682  (1) cpd01092: Allantoin (location: e) +  (1) cpd00067: H (location: e) >  (1) cpd01092: Allantoin (location: c) +  (1) cpd00067: H (location: c) (0.0, 1000.0)\n",
      "rxn05682  (1) cpd01092: Allantoin (location: e) +  (1) cpd00067: H (location: e) >  (1) cpd01092: Allantoin (location: c) +  (1) cpd00067: H (location: c) (0.0, 1000.0)\n",
      "rxn09656  (1) cpd00151: Thymine (location: e) +  (1) cpd00067: H (location: c) >  (1) cpd00151: Thymine (location: c) +  (1) cpd00067: H (location: e) (0.0, 1000.0)\n",
      "EX_cpd00067  (1.000000) cpd00067: H (location: e) =  (1.000000) cpd00067: H (location: b) (-1000.0, 1000.0)\n",
      "EX_cpd00609  (1.000000) cpd00609: D_Glucarate (location: e) =  (1.000000) cpd00609: D_Glucarate (location: b) (0.0, 1000.0)\n",
      "EX_cpd00652  (1.000000) cpd00652: D_Mucic_acid (location: e) =  (1.000000) cpd00652: D_Mucic_acid (location: b) (0.0, 1000.0)\n",
      "EX_cpd00041  (1.000000) cpd00041: L_Aspartate (location: e) =  (1.000000) cpd00041: L_Aspartate (location: b) (-1000.0, 1000.0)\n",
      "EX_cpd00036  (1.000000) cpd00036: Succinate (location: e) =  (1.000000) cpd00036: Succinate (location: b) (0.0, 1000.0)\n",
      "EX_cpd11590  (1.000000) cpd11590: met_L_ala_L (location: e) =  (1.000000) cpd11590: met_L_ala_L (location: b) (0.0, 1000.0)\n",
      "EX_cpd11583  (1.000000) cpd11583: Ala_Leu (location: e) =  (1.000000) cpd11583: Ala_Leu (location: b) (0.0, 1000.0)\n",
      "EX_cpd15603  (1.000000) cpd15603: Gly_Cys (location: e) =  (1.000000) cpd15603: Gly_Cys (location: b) (0.0, 1000.0)\n",
      "EX_cpd15606  (1.000000) cpd15606: Gly_Tyr (location: e) =  (1.000000) cpd15606: Gly_Tyr (location: b) (0.0, 1000.0)\n",
      "EX_cpd01017  (1.000000) cpd01017: Cys_Gly (location: e) =  (1.000000) cpd01017: Cys_Gly (location: b) (0.0, 1000.0)\n",
      "EX_cpd11586  (1.000000) cpd11586: ala_L_glu_L (location: e) =  (1.000000) cpd11586: ala_L_glu_L (location: b) (0.0, 1000.0)\n",
      "EX_cpd11589  (1.000000) cpd11589: gly_asp_L (location: e) =  (1.000000) cpd11589: gly_asp_L (location: b) (0.0, 1000.0)\n",
      "EX_cpd11584  (1.000000) cpd11584: Ala_His (location: e) =  (1.000000) cpd11584: Ala_His (location: b) (0.0, 1000.0)\n",
      "EX_cpd15604  (1.000000) cpd15604: Gly_Leu (location: e) =  (1.000000) cpd15604: Gly_Leu (location: b) (0.0, 1000.0)\n",
      "EX_cpd11593  (1.000000) cpd11593: ala_L_asp_L (location: e) =  (1.000000) cpd11593: ala_L_asp_L (location: b) (0.0, 1000.0)\n",
      "EX_cpd11587  (1.000000) cpd11587: Ala_Gln (location: e) =  (1.000000) cpd11587: Ala_Gln (location: b) (0.0, 1000.0)\n",
      "EX_cpd11592  (1.000000) cpd11592: gly_glu_L (location: e) =  (1.000000) cpd11592: gly_glu_L (location: b) (0.0, 1000.0)\n",
      "EX_cpd11580  (1.000000) cpd11580: Gly_Gln (location: e) =  (1.000000) cpd11580: Gly_Gln (location: b) (0.0, 1000.0)\n",
      "EX_cpd11581  (1.000000) cpd11581: gly_asn_L (location: e) =  (1.000000) cpd11581: gly_asn_L (location: b) (0.0, 1000.0)\n",
      "EX_cpd11585  (1.000000) cpd11585: L_alanylglycine (location: e) =  (1.000000) cpd11585: L_alanylglycine (location: b) (0.0, 1000.0)\n",
      "EX_cpd11591  (1.000000) cpd11591: Gly_Met (location: e) =  (1.000000) cpd11591: Gly_Met (location: b) (0.0, 1000.0)\n",
      "EX_cpd15605  (1.000000) cpd15605: Gly_Phe (location: e) =  (1.000000) cpd15605: Gly_Phe (location: b) (0.0, 1000.0)\n",
      "EX_cpd11582  (1.000000) cpd11582: ala_L_Thr_L (location: e) =  (1.000000) cpd11582: ala_L_Thr_L (location: b) (0.0, 1000.0)\n",
      "EX_cpd11588  (1.000000) cpd11588: gly_pro_L (location: e) =  (1.000000) cpd11588: gly_pro_L (location: b) (0.0, 1000.0)\n",
      "EX_cpd00156  (1.000000) cpd00156: L_Valine (location: e) =  (1.000000) cpd00156: L_Valine (location: b) (-1000.0, 1000.0)\n",
      "EX_cpd00322  (1.000000) cpd00322: L_Isoleucine (location: e) =  (1.000000) cpd00322: L_Isoleucine (location: b) (-1000.0, 1000.0)\n",
      "EX_cpd00107  (1.000000) cpd00107: L_Leucine (location: e) =  (1.000000) cpd00107: L_Leucine (location: b) (-1000.0, 1000.0)\n",
      "EX_cpd01242  (1.000000) cpd01242: Thyminose (location: e) =  (1.000000) cpd01242: Thyminose (location: b) (0.0, 1000.0)\n",
      "EX_cpd00105  (1.000000) cpd00105: D_Ribose (location: e) =  (1.000000) cpd00105: D_Ribose (location: b) (0.0, 1000.0)\n",
      "EX_cpd00254  (1.000000) cpd00254: Mg (location: e) =  (1.000000) cpd00254: Mg (location: b) (-1000.0, 1000.0)\n",
      "EX_cpd00149  (1.000000) cpd00149: Co2 (location: e) =  (1.000000) cpd00149: Co2 (location: b) (-1000.0, 1000.0)\n",
      "EX_cpd11576  (1.000000) cpd11576: L_methionine_R_oxide (location: e) =  (1.000000) cpd11576: L_methionine_R_oxide (location: b) (0.0, 1000.0)\n",
      "EX_cpd00060  (1.000000) cpd00060: L_Methionine (location: e) =  (1.000000) cpd00060: L_Methionine (location: b) (-1000.0, 1000.0)\n",
      "EX_cpd01914  (1.000000) cpd01914: L_Methionine_S_oxide (location: e) =  (1.000000) cpd01914: L_Methionine_S_oxide (location: b) (0.0, 1000.0)\n",
      "EX_cpd00637  (1.000000) cpd00637: D_Methionine (location: e) =  (1.000000) cpd00637: D_Methionine (location: b) (0.0, 1000.0)\n",
      "EX_cpd00098  (1.000000) cpd00098: Choline (location: e) =  (1.000000) cpd00098: Choline (location: b) (0.0, 1000.0)\n",
      "EX_cpd00971  (1.000000) cpd00971: Na (location: e) =  (1.000000) cpd00971: Na (location: b) (-1000.0, 1000.0)\n",
      "EX_cpd00023  (1.000000) cpd00023: L_Glutamate (location: e) =  (1.000000) cpd00023: L_Glutamate (location: b) (-1000.0, 1000.0)\n",
      "EX_cpd00396  (1.000000) cpd00396: L_Rhamnose (location: e) =  (1.000000) cpd00396: L_Rhamnose (location: b) (0.0, 1000.0)\n",
      "EX_cpd03424  (1.000000) cpd03424: Vitamin_B12 (location: e) =  (1.000000) cpd03424: Vitamin_B12 (location: b) (0.0, 1000.0)\n",
      "EX_cpd00423  (1.000000) cpd00423: Vitamin_B12r (location: e) =  (1.000000) cpd00423: Vitamin_B12r (location: b) (0.0, 1000.0)\n",
      "EX_cpd00246  (1.000000) cpd00246: Inosine (location: e) =  (1.000000) cpd00246: Inosine (location: b) (-1000.0, 1000.0)\n",
      "EX_cpd03279  (1.000000) cpd03279: Deoxyinosine (location: e) =  (1.000000) cpd03279: Deoxyinosine (location: b) (0.0, 1000.0)\n",
      "EX_cpd00367  (1.000000) cpd00367: Cytidine (location: e) =  (1.000000) cpd00367: Cytidine (location: b) (0.0, 1000.0)\n",
      "EX_cpd00277  (1.000000) cpd00277: Deoxyguanosine (location: e) =  (1.000000) cpd00277: Deoxyguanosine (location: b) (0.0, 1000.0)\n",
      "EX_cpd00249  (1.000000) cpd00249: Uridine (location: e) =  (1.000000) cpd00249: Uridine (location: b) (-1000.0, 1000.0)\n",
      "EX_cpd00184  (1.000000) cpd00184: Thymidine (location: e) =  (1.000000) cpd00184: Thymidine (location: b) (-1000.0, 1000.0)\n",
      "EX_cpd00412  (1.000000) cpd00412: Deoxyuridine (location: e) =  (1.000000) cpd00412: Deoxyuridine (location: b) (0.0, 1000.0)\n",
      "EX_cpd00182  (1.000000) cpd00182: Adenosine (location: e) =  (1.000000) cpd00182: Adenosine (location: b) (-1000.0, 1000.0)\n",
      "EX_cpd00654  (1.000000) cpd00654: Deoxycytidine (location: e) =  (1.000000) cpd00654: Deoxycytidine (location: b) (-1000.0, 1000.0)\n",
      "EX_cpd08023  (1.000000) cpd08023: methanesulfonate (location: e) =  (1.000000) cpd08023: methanesulfonate (location: b) (0.0, 1000.0)\n",
      "EX_cpd09878  (1.000000) cpd09878: Sulfoacetate (location: e) =  (1.000000) cpd09878: Sulfoacetate (location: b) (0.0, 1000.0)\n",
      "EX_cpd11578  (1.000000) cpd11578: hexanesulfonate (location: e) =  (1.000000) cpd11578: hexanesulfonate (location: b) (0.0, 1000.0)\n",
      "EX_cpd00210  (1.000000) cpd00210: Taurine (location: e) =  (1.000000) cpd00210: Taurine (location: b) (0.0, 1000.0)\n",
      "EX_cpd03048  (1.000000) cpd03048: Isethionate (location: e) =  (1.000000) cpd03048: Isethionate (location: b) (0.0, 1000.0)\n",
      "EX_cpd11579  (1.000000) cpd11579: ethanesulfonate (location: e) =  (1.000000) cpd11579: ethanesulfonate (location: b) (0.0, 1000.0)\n",
      "EX_cpd00395  (1.000000) cpd00395: L_Cysteate (location: e) =  (1.000000) cpd00395: L_Cysteate (location: b) (0.0, 1000.0)\n",
      "EX_cpd11596  (1.000000) cpd11596: butanesulfonate (location: e) =  (1.000000) cpd11596: butanesulfonate (location: b) (0.0, 1000.0)\n",
      "EX_cpd11575  (1.000000) cpd11575: MOPS (location: e) =  (1.000000) cpd11575: MOPS (location: b) (0.0, 1000.0)\n",
      "EX_cpd00158  (1.000000) cpd00158: CELB (location: e) =  (1.000000) cpd00158: CELB (location: b) (0.0, 1000.0)\n",
      "EX_cpd00009  (1.000000) cpd00009: Phosphate (location: e) =  (1.000000) cpd00009: Phosphate (location: b) (-1000.0, 1000.0)\n",
      "EX_cpd04098  (1.000000) cpd04098: Arsenite (location: e) =  (1.000000) cpd04098: Arsenite (location: b) (0.0, 1000.0)\n",
      "EX_cpd01048  (1.000000) cpd01048: Arsenate (location: e) =  (1.000000) cpd01048: Arsenate (location: b) (-1000.0, 1000.0)\n",
      "EX_cpd00048  (1.000000) cpd00048: Sulfate (location: e) =  (1.000000) cpd00048: Sulfate (location: b) (-1000.0, 1000.0)\n",
      "EX_cpd00106  (1.000000) cpd00106: Fumarate (location: e) =  (1.000000) cpd00106: Fumarate (location: b) (0.0, 1000.0)\n",
      "EX_cpd00264  (1.000000) cpd00264: Spermidine (location: e) =  (1.000000) cpd00264: Spermidine (location: b) (0.0, 1000.0)\n",
      "EX_cpd00118  (1.000000) cpd00118: Putrescine (location: e) =  (1.000000) cpd00118: Putrescine (location: b) (0.0, 1000.0)\n",
      "EX_cpd01171  (1.000000) cpd01171: Dulcose (location: e) =  (1.000000) cpd01171: Dulcose (location: b) (0.0, 1000.0)\n",
      "EX_cpd00211  (1.000000) cpd00211: Butyrate (location: e) =  (1.000000) cpd00211: Butyrate (location: b) (0.0, 1000.0)\n",
      "EX_cpd00142  (1.000000) cpd00142: Acetoacetate (location: e) =  (1.000000) cpd00142: Acetoacetate (location: b) (0.0, 1000.0)\n",
      "EX_cpd00030  (1.000000) cpd00030: Mn2 (location: e) =  (1.000000) cpd00030: Mn2 (location: b) (-1000.0, 1000.0)\n",
      "EX_cpd00129  (1.000000) cpd00129: L_Proline (location: e) =  (1.000000) cpd00129: L_Proline (location: b) (-1000.0, 1000.0)\n",
      "EX_cpd00224  (1.000000) cpd00224: L_Arabinose (location: e) =  (1.000000) cpd00224: L_Arabinose (location: b) (0.0, 1000.0)\n",
      "EX_cpd00154  (1.000000) cpd00154: Xylose (location: e) =  (1.000000) cpd00154: Xylose (location: b) (0.0, 1000.0)\n",
      "EX_cpd00108  (1.000000) cpd00108: Galactose (location: e) =  (1.000000) cpd00108: Galactose (location: b) (0.0, 1000.0)\n",
      "EX_cpd00550  (1.000000) cpd00550: D_Serine (location: e) =  (1.000000) cpd00550: D_Serine (location: b) (0.0, 1000.0)\n",
      "EX_cpd00033  (1.000000) cpd00033: Glycine (location: e) =  (1.000000) cpd00033: Glycine (location: b) (-1000.0, 1000.0)\n",
      "EX_cpd00054  (1.000000) cpd00054: L_Serine (location: e) =  (1.000000) cpd00054: L_Serine (location: b) (-1000.0, 1000.0)\n",
      "EX_cpd00117  (1.000000) cpd00117: D_Alanine (location: e) =  (1.000000) cpd00117: D_Alanine (location: b) (0.0, 1000.0)\n",
      "EX_cpd00080  (1.000000) cpd00080: Glycerol_3_phosphate (location: e) =  (1.000000) cpd00080: Glycerol_3_phosphate (location: b) (0.0, 1000.0)\n",
      "EX_cpd00039  (1.000000) cpd00039: L_Lysine (location: e) =  (1.000000) cpd00039: L_Lysine (location: b) (-1000.0, 1000.0)\n",
      "EX_cpd00119  (1.000000) cpd00119: L_Histidine (location: e) =  (1.000000) cpd00119: L_Histidine (location: b) (-1000.0, 1000.0)\n",
      "EX_cpd00205  (1.000000) cpd00205: K (location: e) =  (1.000000) cpd00205: K (location: b) (-1000.0, 1000.0)\n",
      "EX_cpd00079  (1.000000) cpd00079: D_glucose_6_phosphate (location: e) =  (1.000000) cpd00079: D_glucose_6_phosphate (location: b) (0.0, 1000.0)\n",
      "EX_cpd01912  (1.000000) cpd01912: L_Fucose_1_phosphate (location: e) =  (1.000000) cpd01912: L_Fucose_1_phosphate (location: b) (0.0, 1000.0)\n",
      "EX_cpd00235  (1.000000) cpd00235: D_mannose_6_phosphate (location: e) =  (1.000000) cpd00235: D_mannose_6_phosphate (location: b) (0.0, 1000.0)\n",
      "EX_cpd00797  (1.000000) cpd00797: R_3_Hydroxybutanoate (location: e) =  (1.000000) cpd00797: R_3_Hydroxybutanoate (location: b) (0.0, 1000.0)\n",
      "EX_cpd00309  (1.000000) cpd00309: XAN (location: e) =  (1.000000) cpd00309: XAN (location: b) (0.0, 1000.0)\n",
      "EX_cpd00027  (1.000000) cpd00027: D_Glucose (location: e) =  (1.000000) cpd00027: D_Glucose (location: b) (-1000.0, 1000.0)\n",
      "EX_cpd00082  (1.000000) cpd00082: D_Fructose (location: e) =  (1.000000) cpd00082: D_Fructose (location: b) (0.0, 1000.0)\n",
      "EX_cpd00130  (1.000000) cpd00130: L_Malate (location: e) =  (1.000000) cpd00130: L_Malate (location: b) (0.0, 1000.0)\n",
      "EX_cpd00024  (1.000000) cpd00024: 2_Oxoglutarate (location: e) =  (1.000000) cpd00024: 2_Oxoglutarate (location: b) (0.0, 1000.0)\n",
      "EX_cpd01030  (1.000000) cpd01030: Salicin (location: e) =  (1.000000) cpd01030: Salicin (location: b) (0.0, 1000.0)\n",
      "EX_cpd03696  (1.000000) cpd03696: Ursin (location: e) =  (1.000000) cpd03696: Ursin (location: b) (0.0, 1000.0)\n",
      "EX_cpd00268  (1.000000) cpd00268: H2S2O3 (location: e) =  (1.000000) cpd00268: H2S2O3 (location: b) (0.0, 1000.0)\n",
      "EX_cpd00035  (1.000000) cpd00035: L_Alanine (location: e) =  (1.000000) cpd00035: L_Alanine (location: b) (-1000.0, 1000.0)\n",
      "EX_cpd00438  (1.000000) cpd00438: Deoxyadenosine (location: e) =  (1.000000) cpd00438: Deoxyadenosine (location: b) (-1000.0, 1000.0)\n",
      "EX_cpd00653  (1.000000) cpd00653: D_Galactonate (location: e) =  (1.000000) cpd00653: D_Galactonate (location: b) (0.0, 1000.0)\n",
      "EX_cpd00355  (1.000000) cpd00355: Nicotinamide_ribonucleotide (location: e) =  (1.000000) cpd00355: Nicotinamide_ribonucleotide (location: b) (0.0, 1000.0)\n",
      "EX_cpd01217  (1.000000) cpd01217: Xanthosine (location: e) =  (1.000000) cpd01217: Xanthosine (location: b) (0.0, 1000.0)\n",
      "EX_cpd00064  (1.000000) cpd00064: Ornithine (location: e) =  (1.000000) cpd00064: Ornithine (location: b) (0.0, 1000.0)\n",
      "EX_cpd00162  (1.000000) cpd00162: Aminoethanol (location: e) =  (1.000000) cpd00162: Aminoethanol (location: b) (0.0, 1000.0)\n",
      "EX_cpd00001  (1.000000) cpd00001: H2O (location: e) =  (1.000000) cpd00001: H2O (location: b) (-1000.0, 1000.0)\n",
      "EX_cpd00222  (1.000000) cpd00222: GLCN (location: e) =  (1.000000) cpd00222: GLCN (location: b) (0.0, 1000.0)\n",
      "EX_cpd01329  (1.000000) cpd01329: Maltohexaose (location: e) =  (1.000000) cpd01329: Maltohexaose (location: b) (0.0, 1000.0)\n",
      "EX_cpd01262  (1.000000) cpd01262: Amylotriose (location: e) =  (1.000000) cpd01262: Amylotriose (location: b) (0.0, 1000.0)\n",
      "EX_cpd00179  (1.000000) cpd00179: Maltose (location: e) =  (1.000000) cpd00179: Maltose (location: b) (0.0, 1000.0)\n",
      "EX_cpd00540  (1.000000) cpd00540: BET (location: e) =  (1.000000) cpd00540: BET (location: b) (0.0, 1000.0)\n",
      "EX_cpd00314  (1.000000) cpd00314: D_Mannitol (location: e) =  (1.000000) cpd00314: D_Mannitol (location: b) (0.0, 1000.0)\n",
      "EX_cpd00100  (1.000000) cpd00100: Glycerol (location: e) =  (1.000000) cpd00100: Glycerol (location: b) (0.0, 1000.0)\n",
      "EX_cpd00012  (1.000000) cpd00012: PPi (location: e) =  (1.000000) cpd00012: PPi (location: b) (0.0, 1000.0)\n",
      "EX_cpd00588  (1.000000) cpd00588: Sorbitol (location: e) =  (1.000000) cpd00588: Sorbitol (location: b) (0.0, 1000.0)\n",
      "EX_cpd00013  (1.000000) cpd00013: NH3 (location: e) =  (1.000000) cpd00013: NH3 (location: b) (-1000.0, 1000.0)\n",
      "EX_cpd01080  (1.000000) cpd01080: ocdca (location: e) =  (1.000000) cpd01080: ocdca (location: b) (0.0, 1000.0)\n",
      "EX_cpd00214  (1.000000) cpd00214: Palmitate (location: e) =  (1.000000) cpd00214: Palmitate (location: b) (0.0, 1000.0)\n",
      "EX_cpd03847  (1.000000) cpd03847: Myristic_acid (location: e) =  (1.000000) cpd03847: Myristic_acid (location: b) (0.0, 1000.0)\n",
      "EX_cpd00053  (1.000000) cpd00053: L_Glutamine (location: e) =  (1.000000) cpd00053: L_Glutamine (location: b) (0.0, 1000.0)\n",
      "EX_cpd00226  (1.000000) cpd00226: HYXN (location: e) =  (1.000000) cpd00226: HYXN (location: b) (-1000.0, 1000.0)\n",
      "EX_cpd00644  (1.000000) cpd00644: PAN (location: e) =  (1.000000) cpd00644: PAN (location: b) (-1000.0, 1000.0)\n",
      "EX_cpd10515  (1.000000) cpd10515: Fe2 (location: e) =  (1.000000) cpd10515: Fe2 (location: b) (-1000.0, 1000.0)\n",
      "EX_cpd03343  (1.000000) cpd03343: Phenylpropanoate (location: e) =  (1.000000) cpd03343: Phenylpropanoate (location: b) (0.0, 1000.0)\n",
      "EX_cpd00099  (1.000000) cpd00099: Cl_ (location: e) =  (1.000000) cpd00099: Cl_ (location: b) (-1000.0, 1000.0)\n",
      "EX_cpd00047  (1.000000) cpd00047: Formate (location: e) =  (1.000000) cpd00047: Formate (location: b) (0.0, 1000.0)\n",
      "EX_cpd00276  (1.000000) cpd00276: GLUM (location: e) =  (1.000000) cpd00276: GLUM (location: b) (0.0, 1000.0)\n",
      "EX_cpd00164  (1.000000) cpd00164: Glucuronate (location: e) =  (1.000000) cpd00164: Glucuronate (location: b) (0.0, 1000.0)\n",
      "EX_cpd00280  (1.000000) cpd00280: D_Galacturonate (location: e) =  (1.000000) cpd00280: D_Galacturonate (location: b) (0.0, 1000.0)\n",
      "EX_cpd00137  (1.000000) cpd00137: Citrate (location: e) =  (1.000000) cpd00137: Citrate (location: b) (0.0, 1000.0)\n",
      "EX_cpd00034  (1.000000) cpd00034: Zn2 (location: e) =  (1.000000) cpd00034: Zn2 (location: b) (-1000.0, 1000.0)\n",
      "EX_cpd03198  (1.000000) cpd03198: Melibiose (location: e) =  (1.000000) cpd03198: Melibiose (location: b) (0.0, 1000.0)\n",
      "EX_cpd00161  (1.000000) cpd00161: L_Threonine (location: e) =  (1.000000) cpd00161: L_Threonine (location: b) (-1000.0, 1000.0)\n",
      "EX_cpd01012  (1.000000) cpd01012: Cd2 (location: e) =  (1.000000) cpd01012: Cd2 (location: b) (-1000.0, 1000.0)\n",
      "EX_cpd00531  (1.000000) cpd00531: Hg2 (location: e) =  (1.000000) cpd00531: Hg2 (location: b) (-1000.0, 1000.0)\n",
      "EX_cpd04097  (1.000000) cpd04097: Pb (location: e) =  (1.000000) cpd04097: Pb (location: b) (0.0, 1000.0)\n",
      "EX_cpd00063  (1.000000) cpd00063: Ca2 (location: e) =  (1.000000) cpd00063: Ca2 (location: b) (-1000.0, 1000.0)\n",
      "EX_cpd00307  (1.000000) cpd00307: Cytosine (location: e) =  (1.000000) cpd00307: Cytosine (location: b) (0.0, 1000.0)\n",
      "EX_cpd00176  (1.000000) cpd00176: 2_keto_3_deoxygluconate (location: e) =  (1.000000) cpd00176: 2_keto_3_deoxygluconate (location: b) (0.0, 1000.0)\n",
      "EX_cpd10516  (1.000000) cpd10516: fe3 (location: e) =  (1.000000) cpd10516: fe3 (location: b) (0.0, 1000.0)\n",
      "EX_cpd00051  (1.000000) cpd00051: L_Arginine (location: e) =  (1.000000) cpd00051: L_Arginine (location: b) (-1000.0, 1000.0)\n",
      "EX_cpd03724  (1.000000) cpd03724: Ferrichrome (location: e) =  (1.000000) cpd03724: Ferrichrome (location: b) (0.0, 1000.0)\n",
      "EX_cpd00159  (1.000000) cpd00159: L_Lactate (location: e) =  (1.000000) cpd00159: L_Lactate (location: b) (0.0, 1000.0)\n",
      "EX_cpd00122  (1.000000) cpd00122: N_Acetyl_D_glucosamine (location: e) =  (1.000000) cpd00122: N_Acetyl_D_glucosamine (location: b) (0.0, 1000.0)\n",
      "EX_cpd00635  (1.000000) cpd00635: Cbl (location: e) =  (1.000000) cpd00635: Cbl (location: b) (0.0, 1000.0)\n",
      "EX_cpd00065  (1.000000) cpd00065: L_Tryptophan (location: e) =  (1.000000) cpd00065: L_Tryptophan (location: b) (-1000.0, 1000.0)\n",
      "EX_cpd00209  (1.000000) cpd00209: Nitrate (location: e) =  (1.000000) cpd00209: Nitrate (location: b) (0.0, 1000.0)\n",
      "EX_cpd00075  (1.000000) cpd00075: Nitrite (location: e) =  (1.000000) cpd00075: Nitrite (location: b) (0.0, 1000.0)\n",
      "EX_cpd00092  (1.000000) cpd00092: Uracil (location: e) =  (1.000000) cpd00092: Uracil (location: b) (-1000.0, 1000.0)\n",
      "EX_cpd00208  (1.000000) cpd00208: LACT (location: e) =  (1.000000) cpd00208: LACT (location: b) (0.0, 1000.0)\n",
      "EX_cpd00058  (1.000000) cpd00058: Cu2 (location: e) =  (1.000000) cpd00058: Cu2 (location: b) (-1000.0, 1000.0)\n",
      "EX_cpd00794  (1.000000) cpd00794: TRHL (location: e) =  (1.000000) cpd00794: TRHL (location: b) (0.0, 1000.0)\n",
      "EX_cpd00138  (1.000000) cpd00138: D_Mannose (location: e) =  (1.000000) cpd00138: D_Mannose (location: b) (0.0, 1000.0)\n",
      "EX_cpd00076  (1.000000) cpd00076: Sucrose (location: e) =  (1.000000) cpd00076: Sucrose (location: b) (0.0, 1000.0)\n",
      "EX_cpd00305  (1.000000) cpd00305: Thiamin (location: e) =  (1.000000) cpd00305: Thiamin (location: b) (0.0, 1000.0)\n",
      "EX_cpd00281  (1.000000) cpd00281: GABA (location: e) =  (1.000000) cpd00281: GABA (location: b) (0.0, 1000.0)\n",
      "EX_cpd00069  (1.000000) cpd00069: L_Tyrosine (location: e) =  (1.000000) cpd00069: L_Tyrosine (location: b) (-1000.0, 1000.0)\n",
      "EX_cpd00011  (1.000000) cpd00011: CO2 (location: e) =  (1.000000) cpd00011: CO2 (location: b) (0.0, 1000.0)\n",
      "EX_cpd00007  (1.000000) cpd00007: O2 (location: e) =  (1.000000) cpd00007: O2 (location: b) (-1000.0, 1000.0)\n",
      "EX_cpd00073  (1.000000) cpd00073: Urea (location: e) =  (1.000000) cpd00073: Urea (location: b) (0.0, 1000.0)\n",
      "EX_cpd00220  (1.000000) cpd00220: Riboflavin (location: e) =  (1.000000) cpd00220: Riboflavin (location: b) (-1000.0, 1000.0)\n",
      "EX_cpd00581  (1.000000) cpd00581: Urocanate (location: e) =  (1.000000) cpd00581: Urocanate (location: b) (0.0, 1000.0)\n",
      "EX_cpd00029  (1.000000) cpd00029: Acetate (location: e) =  (1.000000) cpd00029: Acetate (location: b) (0.0, 1000.0)\n",
      "EX_cpd00185  (1.000000) cpd00185: D_Arabinose (location: e) =  (1.000000) cpd00185: D_Arabinose (location: b) (0.0, 1000.0)\n",
      "EX_cpd00132  (1.000000) cpd00132: L_Asparagine (location: e) =  (1.000000) cpd00132: L_Asparagine (location: b) (0.0, 1000.0)\n",
      "EX_cpd00751  (1.000000) cpd00751: L_Fucose (location: e) =  (1.000000) cpd00751: L_Fucose (location: b) (0.0, 1000.0)\n",
      "EX_cpd01022  (1.000000) cpd01022: Lactate (location: e) =  (1.000000) cpd01022: Lactate (location: b) (0.0, 1000.0)\n",
      "EX_cpd00121  (1.000000) cpd00121: L_Inositol (location: e) =  (1.000000) cpd00121: L_Inositol (location: b) (0.0, 1000.0)\n",
      "EX_cpd00020  (1.000000) cpd00020: Pyruvate (location: e) =  (1.000000) cpd00020: Pyruvate (location: b) (0.0, 1000.0)\n",
      "EX_cpd01293  (1.000000) cpd01293: 5_Oxoproline (location: e) =  (1.000000) cpd01293: 5_Oxoproline (location: b) (0.0, 1000.0)\n",
      "EX_cpd00128  (1.000000) cpd00128: Adenine (location: e) =  (1.000000) cpd00128: Adenine (location: b) (0.0, 1000.0)\n",
      "EX_cpd01092  (1.000000) cpd01092: Allantoin (location: e) =  (1.000000) cpd01092: Allantoin (location: b) (0.0, 1000.0)\n",
      "EX_cpd00151  (1.000000) cpd00151: Thymine (location: e) =  (1.000000) cpd00151: Thymine (location: b) (0.0, 1000.0)\n"
     ]
    }
   ],
   "source": [
    "for r in sbml.reactions:\n",
    "    for c in sbml.reactions[r].left_compounds:\n",
    "        if c.location == 'e':\n",
    "            print(f\"{r} {sbml.reactions[r].equation} ({sbml.reactions[r].lower_bound}, {sbml.reactions[r].upper_bound})\")"
   ]
  },
  {
   "cell_type": "code",
   "execution_count": 27,
   "id": "f9c5018a",
   "metadata": {},
   "outputs": [],
   "source": [
    "for r in sbml.reactions:\n",
    "    if r.startswith('upsr'):\n",
    "        print(f\"{r} {sbml.reactions[r].equation}  ({sbml.reactions[r].lower_bound}, {sbml.reactions[r].upper_bound})\")"
   ]
  },
  {
   "cell_type": "code",
   "execution_count": 29,
   "id": "e112b678",
   "metadata": {},
   "outputs": [
    {
     "name": "stdout",
     "output_type": "stream",
     "text": [
      "biomass_equation  (0.00778132482043096) cpd00063: Ca2 (location: c) +  (0.352889948968272) cpd00156: L_Valine (location: c) +  (0.00778132482043096) cpd00030: Mn2 (location: c) +  (0.00778132482043096) cpd00205: K (location: c) +  (0.428732289454499) cpd00035: L_Alanine (location: c) +  (0.128039715997337) cpd00060: L_Methionine (location: c) +  (0.15480760087483) cpd00066: L_Phenylalanine (location: c) +  (0.00778132482043096) cpd00017: S_Adenosyl_L_methionine (location: c) +  (0.00778132482043096) cpd00010: CoA (location: c) +  (0.0609084652443221) cpd15665: Peptidoglycan_polymer_n_subunits (location: c) +  (0.0841036156544863) cpd00052: CTP (location: c) +  (0.00778132482043096) cpd10516: fe3 (location: c) +  (0.01468498342018) cpd00357: TTP (location: c) +  (0.00778132482043096) cpd00099: Cl_ (location: c) +  (0.01468498342018) cpd00356: dCTP (location: c) +  (0.00778132482043096) cpd10515: Fe2 (location: c) +  (0.00778132482043096) cpd00254: Mg (location: c) +  (0.242249358141304) cpd00322: L_Isoleucine (location: c) +  (0.00778132482043096) cpd00058: Cu2 (location: c) +  (0.00778132482043096) cpd00149: Co2 (location: c) +  (0.201205267995816) cpd00041: L_Aspartate (location: c) +  (1) cpd17043: RNA_transcription (location: c) +  (0.219496655995436) cpd00023: L_Glutamate (location: c) +  (0.219496655995436) cpd00053: L_Glutamine (location: c) +  (0.376088782528765) cpd00107: L_Leucine (location: c) +  (0.00778132482043096) cpd00220: Riboflavin (location: c) +  (0.179790960093822) cpd00054: L_Serine (location: c) +  (0.0472899299502361) cpd00065: L_Tryptophan (location: c) +  (0.0609084652443221) cpd02229: Bactoprenyl_diphosphate (location: c) +  (0.00778132482043096) cpd11493: ACP (location: c) +  (1) cpd17041: Protein_biosynthesis (location: c) +  (0.184698405654696) cpd00129: L_Proline (location: c) +  (0.135406821203723) cpd00038: GTP (location: c) +  (0.01468498342018) cpd00241: dGTP (location: c) +  (1) cpd17042: DNA_replication (location: c) +  (0.211466290532188) cpd00161: L_Threonine (location: c) +  (40.1101757365074) cpd00002: ATP (location: c) +  (0.00778132482043096) cpd00016: Pyridoxal_phosphate (location: c) +  (0.00778132482043096) cpd00048: Sulfate (location: c) +  (0.00778132482043096) cpd00003: NAD (location: c) +  (0.01468498342018) cpd00115: dATP (location: c) +  (0.115101904973216) cpd00069: L_Tyrosine (location: c) +  (0.00778132482043096) cpd00015: FAD (location: c) +  (0.201205267995816) cpd00132: L_Asparagine (location: c) +  (0.00778132482043096) cpd00006: NADP (location: c) +  (35.5386858537513) cpd00001: H2O (location: c) +  (0.0762884719008526) cpd00084: L_Cysteine (location: c) +  (0.0794113918032267) cpd00119: L_Histidine (location: c) +  (0.285970236774541) cpd00039: L_Lysine (location: c) +  (0.0908319049068452) cpd00062: UTP (location: c) +  (0.00778132482043096) cpd00034: Zn2 (location: c) +  (0.247156803702178) cpd00051: L_Arginine (location: c) +  (0.510820469745475) cpd00033: Glycine (location: c) >  (40) cpd00008: ADP (location: c) +  (39.9922186751796) cpd00009: Phosphate (location: c) +  (0.00778132482043096) cpd12370: apo_ACP (location: c) +  (1) cpd11416: Biomass (location: c) +  (40) cpd00067: H (location: c) +  (0.0609084652443221) cpd15666: Peptidoglycan_polymer_n_1_subunits (location: c) +  (0.405833094852252) cpd00012: PPi (location: c)  (0.0, 1000.0)\n"
     ]
    }
   ],
   "source": [
    "for r in sbml.reactions:\n",
    "    if not r.startswith('EX') and not r.startswith('rxn'):\n",
    "        print(f\"{r} {sbml.reactions[r].equation}  ({sbml.reactions[r].lower_bound}, {sbml.reactions[r].upper_bound})\")"
   ]
  },
  {
   "cell_type": "code",
   "execution_count": 30,
   "id": "4a1840f6",
   "metadata": {},
   "outputs": [],
   "source": [
    "for c in sbml.reactions['biomass_equation'].all_compounds():\n",
    "    if c.location != 'c':\n",
    "        print(c)"
   ]
  },
  {
   "cell_type": "code",
   "execution_count": null,
   "id": "de39da40",
   "metadata": {},
   "outputs": [],
   "source": []
  }
 ],
 "metadata": {
  "kernelspec": {
   "display_name": "PyFBA_venv",
   "language": "python",
   "name": "pyfba_venv"
  },
  "language_info": {
   "codemirror_mode": {
    "name": "ipython",
    "version": 3
   },
   "file_extension": ".py",
   "mimetype": "text/x-python",
   "name": "python",
   "nbconvert_exporter": "python",
   "pygments_lexer": "ipython3",
   "version": "3.9.1"
  }
 },
 "nbformat": 4,
 "nbformat_minor": 5
}
