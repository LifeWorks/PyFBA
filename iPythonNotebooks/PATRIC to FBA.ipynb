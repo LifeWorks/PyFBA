{
 "cells": [
  {
   "cell_type": "markdown",
   "metadata": {},
   "source": [
    "# How to create and run a gap-filled FBA from PATRIC\n",
    "\n",
    "The PATRIC (the Pathosystems Resource Integration Center) contains the best collection of well annotated genomes. They also happen to have been annotated by RAST, and so we should be able to use those integrations directly.\n",
    "\n",
    "Here we'll walk through taking a genome from PATRIC, building a model, and running it. PATRIC also has model reconstruction built in, but when I tried it (05/24/16) it was not working.\n",
    "\n",
    "As usual, we'll start by loading some modules that we'll need for our analysis."
   ]
  },
  {
   "cell_type": "code",
   "execution_count": 1,
   "metadata": {},
   "outputs": [
    {
     "name": "stdout",
     "output_type": "stream",
     "text": [
      "We are logging to /home/redwards/GitHubs/PyFBA/iPythonNotebooks/PyFBA.log\n",
      "Welcome to PyFBA version 1.1 started at 2021-05-26 16:19:32.220562\n"
     ]
    },
    {
     "name": "stderr",
     "output_type": "stream",
     "text": [
      "We are using /home/redwards/GitHubs/PyFBA/PyFBA/Biochemistry/ModelSEEDDatabase/ for our data\n"
     ]
    }
   ],
   "source": [
    "import sys\n",
    "import os\n",
    "import copy\n",
    "import PyFBA"
   ]
  },
  {
   "cell_type": "markdown",
   "metadata": {},
   "source": [
    "# Find a genome and download the annotations\n",
    "\n",
    "You need to find your genome in PATRIC and download the annotations.\n",
    "\n",
    "Once you have identified the genome you would like to build the model for, choose _Feature Table_ from the menu bar:\n",
    "<img src=\"img/patric_ft.png\">\n",
    "\n",
    "Next, choose _Download_ and save as a _text file (.txt)_. \n",
    "\n",
    "<img src=\"img/patric_dl.png\">\n",
    "\n",
    "That will save a file called _FeatureTable.txt_ to your Downloads location. That file has the following columns:\n",
    "\n",
    "\n",
    "| Genome | Genome ID | Accession | PATRIC ID | RefSeq Locus Tag | Alt Locus Tag | Feature ID | \n",
    "| Annotation | Feature Type | Start | End | Length | Strand | FIGfam ID |\n",
    "| PATRIC genus-specific families (PLfams) | PATRIC cross-genus families (PGfams) | Protein ID | AA Length | Gene Symbol | Product |\n",
    "\n",
    "\n",
    "\n",
    "The key columns are PATRIC ID (Column 3) and Product (Column 19) [Column numbers are 0 based!]\n",
    "\n",
    "\n",
    "\n",
    "Now that we know that, we need to convert these feature names into functional roles. The key here is to split on adjoiners, such as ' / ', ' # ', and ' @ '.\n",
    "\n",
    "\n"
   ]
  },
  {
   "cell_type": "code",
   "execution_count": 46,
   "metadata": {},
   "outputs": [
    {
     "name": "stdout",
     "output_type": "stream",
     "text": [
      "There are 3649 unique roles in this genome\n"
     ]
    }
   ],
   "source": [
    "assigned_functions = {}\n",
    "with open(os.path.join(os.environ['HOME'], 'Downloads/FeatureTable.txt'), 'r') as f:\n",
    "    for l in f:\n",
    "        p=l.strip().split(\"\\t\")\n",
    "        assigned_functions[p[3]]=PyFBA.parse.roles_of_function(p[19])\n",
    "roles = set([i[0] for i in [list(j) for j in assigned_functions.values()]])\n",
    "print(\"There are {} unique roles in this genome\".format(len(roles)))"
   ]
  },
  {
   "cell_type": "markdown",
   "metadata": {},
   "source": [
    "Next, we convert those roles to reactions. We start with a dict of roles and reactions, but we only need a list of unique reactions, so we convert the keys to a set."
   ]
  },
  {
   "cell_type": "code",
   "execution_count": 47,
   "metadata": {},
   "outputs": [
    {
     "name": "stdout",
     "output_type": "stream",
     "text": [
      "There are 1337 unique reactions associated with this genome\n"
     ]
    }
   ],
   "source": [
    "roles_to_reactions = PyFBA.filters.roles_to_reactions(roles)\n",
    "reactions_to_run = set()\n",
    "for role in roles_to_reactions:\n",
    "    reactions_to_run.update(roles_to_reactions[role])\n",
    "print(\"There are {}\".format(len(reactions_to_run)) +\n",
    "      \" unique reactions associated with this genome\".format(len(reactions_to_run)))"
   ]
  },
  {
   "cell_type": "code",
   "execution_count": 51,
   "metadata": {},
   "outputs": [
    {
     "name": "stdout",
     "output_type": "stream",
     "text": [
      "There are 1338 unique reactions associated with this genome\n"
     ]
    }
   ],
   "source": [
    "reactions_to_run.add('rxn13681')\n",
    "print(\"There are {}\".format(len(reactions_to_run)) +\n",
    "      \" unique reactions associated with this genome\".format(len(reactions_to_run)))"
   ]
  },
  {
   "cell_type": "markdown",
   "metadata": {},
   "source": [
    "### Read all the reactions and compounds in our database\n",
    "\n",
    "We read all the reactions, compounds, and enzymes in the [ModelSEEDDatabase](https://github.com/ModelSEED/ModelSEEDDatabase) into three data structures. Each one is a dictionary with a string representation of the object as the key and the PyFBA object as the value.\n",
    "\n",
    "We modify the reactions specifically for Gram negative models (there are also options for Gram positive models, Mycobacterial models, general microbial models, and plant models)."
   ]
  },
  {
   "cell_type": "code",
   "execution_count": 26,
   "metadata": {},
   "outputs": [],
   "source": [
    "compounds, reactions, enzymes = \\\n",
    "    PyFBA.parse.model_seed.compounds_reactions_enzymes('gramnegative')"
   ]
  },
  {
   "cell_type": "markdown",
   "metadata": {},
   "source": [
    "#### Update reactions to run, making sure that all reactions are in the list!\n",
    "\n",
    "There are some reactions that come from functional roles that do not appear in the reactions list. We're working on tracking these down, but for now we just check that all reaction IDs in *reactions_to_run* are in *reactions*, too."
   ]
  },
  {
   "cell_type": "code",
   "execution_count": 52,
   "metadata": {},
   "outputs": [],
   "source": [
    "tempset = set()\n",
    "for r in reactions_to_run:\n",
    "    if r in reactions:\n",
    "        tempset.add(r)\n",
    "    else:\n",
    "        sys.stderr.write(\"Reaction ID {} is not in our reactions list. Skipped\\n\".format(r))\n",
    "reactions_to_run = tempset"
   ]
  },
  {
   "cell_type": "markdown",
   "metadata": {},
   "source": [
    "### Test whether these reactions grow on ArgonneLB media\n",
    "\n",
    "We can test whether this set of reactions grows on ArgonneLB media. The media is the same one we used above, and you can download the [ArgonneLB.txt](https://raw.githubusercontent.com/linsalrob/PyFBA/master/media/ArgonneLB.txt) and text file and put it in the same directory as this iPython notebook to run it.\n",
    "\n",
    "(Note: we don't need to convert the media components, because the media and compounds come from the same source.)"
   ]
  },
  {
   "cell_type": "code",
   "execution_count": 6,
   "metadata": {},
   "outputs": [
    {
     "name": "stdout",
     "output_type": "stream",
     "text": [
      "Our media has 65 components\n"
     ]
    }
   ],
   "source": [
    "media = PyFBA.parse.read_media_file('ArgonneLB.txt')\n",
    "print(\"Our media has {} components\".format(len(media)))"
   ]
  },
  {
   "cell_type": "markdown",
   "metadata": {},
   "source": [
    "### Define a biomass equation\n",
    "\n",
    "The biomass equation is the part that says whether the model will grow! This is a [metabolism.reaction.Reaction](https://github.com/linsalrob/PyFBA/blob/master/PyFBA/metabolism/reaction.py) object."
   ]
  },
  {
   "cell_type": "code",
   "execution_count": 7,
   "metadata": {},
   "outputs": [],
   "source": [
    "biomass_equation = PyFBA.metabolism.biomass_equation('gramnegative')"
   ]
  },
  {
   "cell_type": "markdown",
   "metadata": {},
   "source": [
    "### Run the FBA\n",
    "\n",
    "With the reactions, compounds, reactions_to_run, media, and biomass model, we can test whether the model grows on this media."
   ]
  },
  {
   "cell_type": "code",
   "execution_count": 53,
   "metadata": {},
   "outputs": [
    {
     "name": "stdout",
     "output_type": "stream",
     "text": [
      "Initial run has a biomass flux value of 0.0 --> Growth: False\n"
     ]
    }
   ],
   "source": [
    "status, value, growth = PyFBA.fba.run_fba(compounds, reactions, reactions_to_run,\n",
    "                                          media, biomass_equation)\n",
    "print(\"Initial run has a biomass flux value of {} --> Growth: {}\".format(value, growth))"
   ]
  },
  {
   "cell_type": "markdown",
   "metadata": {},
   "source": [
    "##Gap-fill the model\n",
    "\n",
    "Since the model does not grow on ArgonneLB we need to gap-fill it to ensure growth. There are several ways that we can gap-fill, and we will work through them until we get growth.\n",
    "\n",
    "As you will see, we update the *reactions_to_run list* each time, and keep the media and everything else consistent. Then we just need to run the FBA like we have done above and see if we get growth.\n",
    "\n",
    "We also keep a copy of the original *reactions_to_run*, and a list with all the reactions that we are adding, so once we are done we can go back and bisect the reactions that are added."
   ]
  },
  {
   "cell_type": "code",
   "execution_count": 54,
   "metadata": {},
   "outputs": [],
   "source": [
    "added_reactions = []\n",
    "original_reactions_to_run = copy.copy(reactions_to_run)"
   ]
  },
  {
   "cell_type": "code",
   "execution_count": 49,
   "metadata": {},
   "outputs": [],
   "source": [
    "reactions_to_run = copy.copy(original_reactions_to_run)"
   ]
  },
  {
   "cell_type": "markdown",
   "metadata": {},
   "source": [
    "### Media import reactions\n",
    "\n",
    "We need to make sure that the cell can import everything that is in the media... otherwise it won't be able to grow. Be sure to only do this step if you are certain that the cell can grow on the media you are testing."
   ]
  },
  {
   "cell_type": "code",
   "execution_count": 55,
   "metadata": {},
   "outputs": [],
   "source": [
    "media_reactions = PyFBA.gapfill.suggest_from_media(compounds, reactions,\n",
    "                                                   reactions_to_run, media)\n",
    "added_reactions.append((\"media\", media_reactions))\n",
    "reactions_to_run.update(media_reactions)"
   ]
  },
  {
   "cell_type": "code",
   "execution_count": 56,
   "metadata": {},
   "outputs": [
    {
     "name": "stdout",
     "output_type": "stream",
     "text": [
      "Run has a biomass flux value of 0.0 --> Growth: False\n"
     ]
    }
   ],
   "source": [
    "status, value, growth = PyFBA.fba.run_fba(compounds, reactions, reactions_to_run,\n",
    "                                          media, biomass_equation)\n",
    "print(\"Run has a biomass flux value of {} --> Growth: {}\".format(value, growth))"
   ]
  },
  {
   "cell_type": "markdown",
   "metadata": {},
   "source": [
    "### Essential reactions\n",
    "\n",
    "There are ~100 reactions that are in every model we have tested, and we construe these to be essential for all models, so we typically add these next!"
   ]
  },
  {
   "cell_type": "code",
   "execution_count": 57,
   "metadata": {},
   "outputs": [],
   "source": [
    "essential_reactions = PyFBA.gapfill.suggest_essential_reactions()\n",
    "added_reactions.append((\"essential\", essential_reactions))\n",
    "reactions_to_run.update(essential_reactions)"
   ]
  },
  {
   "cell_type": "code",
   "execution_count": 58,
   "metadata": {},
   "outputs": [
    {
     "name": "stdout",
     "output_type": "stream",
     "text": [
      "Run has a biomass flux value of 0.0 --> Growth: False\n"
     ]
    }
   ],
   "source": [
    "status, value, growth = PyFBA.fba.run_fba(compounds, reactions, reactions_to_run,\n",
    "                                          media, biomass_equation)\n",
    "print(\"Run has a biomass flux value of {} --> Growth: {}\".format(value, growth))"
   ]
  },
  {
   "cell_type": "markdown",
   "metadata": {},
   "source": [
    "### Subsystems\n",
    "\n",
    "The reactions connect us to subsystems (see [Overbeek et al. 2014](http://www.ncbi.nlm.nih.gov/pmc/articles/PMC3965101/)), and this test ensures that all the subsystems are complete. We add reactions required to complete the subsystem."
   ]
  },
  {
   "cell_type": "code",
   "execution_count": 59,
   "metadata": {},
   "outputs": [],
   "source": [
    "subsystem_reactions = \\\n",
    "    PyFBA.gapfill.suggest_reactions_from_subsystems(reactions,\n",
    "                                                    reactions_to_run,\n",
    "                                                    threshold=0.5)\n",
    "added_reactions.append((\"subsystems\", subsystem_reactions))\n",
    "reactions_to_run.update(subsystem_reactions)"
   ]
  },
  {
   "cell_type": "code",
   "execution_count": 60,
   "metadata": {},
   "outputs": [
    {
     "name": "stdout",
     "output_type": "stream",
     "text": [
      "Run has a biomass flux value of 858.871559637 --> Growth: True\n"
     ]
    }
   ],
   "source": [
    "status, value, growth = PyFBA.fba.run_fba(compounds, reactions, reactions_to_run,\n",
    "                                          media, biomass_equation)\n",
    "print(\"Run has a biomass flux value of {} --> Growth: {}\".format(value, growth))"
   ]
  },
  {
   "cell_type": "code",
   "execution_count": 42,
   "metadata": {},
   "outputs": [
    {
     "name": "stdout",
     "output_type": "stream",
     "text": [
      "Pre orphan has 2075 reactions\n"
     ]
    }
   ],
   "source": [
    "pre_orphan=copy.copy(reactions_to_run)\n",
    "pre_o_added=copy.copy(added_reactions)\n",
    "print(\"Pre orphan has {} reactions\".format(len(pre_orphan)))"
   ]
  },
  {
   "cell_type": "code",
   "execution_count": 21,
   "metadata": {},
   "outputs": [],
   "source": [
    "reactions_to_run=copy.copy(pre_orphan)\n",
    "added_reactions = copy.copy(pre_o_added)"
   ]
  },
  {
   "cell_type": "markdown",
   "metadata": {},
   "source": [
    "###Orphan compounds\n",
    "\n",
    "Orphan compounds are those compounds which are only associated with one reaction. They are either produced, or trying to be consumed. We need to add reaction(s) that complete the network of those compounds.\n",
    "\n",
    "You can change the maximum number of reactions that a compound is in to be considered an orphan (try increasing it to 2 or 3)."
   ]
  },
  {
   "cell_type": "code",
   "execution_count": 43,
   "metadata": {},
   "outputs": [
    {
     "name": "stdout",
     "output_type": "stream",
     "text": [
      "Post orphan has 5001 reactions\n"
     ]
    }
   ],
   "source": [
    "orphan_reactions = PyFBA.gapfill.suggest_by_compound(compounds, reactions,\n",
    "                                                     reactions_to_run,\n",
    "                                                     max_reactions=1)\n",
    "added_reactions.append((\"orphans\", orphan_reactions))\n",
    "reactions_to_run.update(orphan_reactions)\n",
    "print(\"Post orphan has {} reactions\".format(len(reactions_to_run)))"
   ]
  },
  {
   "cell_type": "code",
   "execution_count": 44,
   "metadata": {},
   "outputs": [
    {
     "name": "stdout",
     "output_type": "stream",
     "text": [
      "Run has a biomass flux value of 1000.0 --> Growth: True\n"
     ]
    }
   ],
   "source": [
    "status, value, growth = PyFBA.fba.run_fba(compounds, reactions, reactions_to_run,\n",
    "                                          media, biomass_equation)\n",
    "print(\"Run has a biomass flux value of {} --> Growth: {}\".format(value, growth))"
   ]
  },
  {
   "cell_type": "markdown",
   "metadata": {},
   "source": [
    "## Trimming the model\n",
    "Now that the model has been shown to grow on ArgonneLB media after several gap-fill iterations, we should trim down the reactions to only the required reactions necessary to observe growth."
   ]
  },
  {
   "cell_type": "code",
   "execution_count": 45,
   "metadata": {},
   "outputs": [
    {
     "name": "stderr",
     "output_type": "stream",
     "text": [
      "Testing reactions from orphans\n",
      "At the beginning the base list has 2075  and the optional list has 2926 reactions\n",
      "Saved 1 reactions from orphans\n",
      "rxn05166\n",
      "Testing reactions from subsystems\n",
      "At the beginning the base list has 1535  and the optional list has 434 reactions\n"
     ]
    },
    {
     "ename": "KeyboardInterrupt",
     "evalue": "",
     "output_type": "error",
     "traceback": [
      "\u001b[0;31m---------------------------------------------------------------------------\u001b[0m\n\u001b[0;31mKeyboardInterrupt\u001b[0m                         Traceback (most recent call last)",
      "\u001b[0;32m<ipython-input-45-a0bee7cb6d8c>\u001b[0m in \u001b[0;36m<module>\u001b[0;34m()\u001b[0m\n\u001b[1;32m     18\u001b[0m     new_essential = PyFBA.gapfill.minimize_additional_reactions(ori, new, compounds,\n\u001b[1;32m     19\u001b[0m                                                                 \u001b[0mreactions\u001b[0m\u001b[0;34m,\u001b[0m \u001b[0mmedia\u001b[0m\u001b[0;34m,\u001b[0m\u001b[0;34m\u001b[0m\u001b[0m\n\u001b[0;32m---> 20\u001b[0;31m                                                                 biomass_equation)\n\u001b[0m\u001b[1;32m     21\u001b[0m     \u001b[0msys\u001b[0m\u001b[0;34m.\u001b[0m\u001b[0mstderr\u001b[0m\u001b[0;34m.\u001b[0m\u001b[0mwrite\u001b[0m\u001b[0;34m(\u001b[0m\u001b[0;34m\"Saved {} reactions from {}\\n\"\u001b[0m\u001b[0;34m.\u001b[0m\u001b[0mformat\u001b[0m\u001b[0;34m(\u001b[0m\u001b[0mlen\u001b[0m\u001b[0;34m(\u001b[0m\u001b[0mnew_essential\u001b[0m\u001b[0;34m)\u001b[0m\u001b[0;34m,\u001b[0m \u001b[0mhow\u001b[0m\u001b[0;34m)\u001b[0m\u001b[0;34m)\u001b[0m\u001b[0;34m\u001b[0m\u001b[0m\n\u001b[1;32m     22\u001b[0m     \u001b[0;32mfor\u001b[0m \u001b[0mr\u001b[0m \u001b[0;32min\u001b[0m \u001b[0mnew_essential\u001b[0m\u001b[0;34m:\u001b[0m\u001b[0;34m\u001b[0m\u001b[0m\n",
      "\u001b[0;32m/data/PyFBA/PyFBA/gapfill/reaction_minimization.pyc\u001b[0m in \u001b[0;36mminimize_additional_reactions\u001b[0;34m(base_reactions, optional_reactions, compounds, reactions, media, biomass_eqn, verbose)\u001b[0m\n\u001b[1;32m    199\u001b[0m                 \u001b[0muneven_test\u001b[0m \u001b[0;34m=\u001b[0m \u001b[0mTrue\u001b[0m\u001b[0;34m\u001b[0m\u001b[0m\n\u001b[1;32m    200\u001b[0m                 \u001b[0;32mif\u001b[0m \u001b[0mlen\u001b[0m\u001b[0;34m(\u001b[0m\u001b[0mcurrent_rx_list\u001b[0m\u001b[0;34m)\u001b[0m \u001b[0;34m<\u001b[0m \u001b[0;36m20\u001b[0m\u001b[0;34m:\u001b[0m\u001b[0;34m\u001b[0m\u001b[0m\n\u001b[0;32m--> 201\u001b[0;31m                     \u001b[0mleft\u001b[0m \u001b[0;34m=\u001b[0m \u001b[0miterate_reactions_to_run\u001b[0m\u001b[0;34m(\u001b[0m\u001b[0mbase_reactions\u001b[0m\u001b[0;34m,\u001b[0m \u001b[0moptional_reactions\u001b[0m\u001b[0;34m,\u001b[0m \u001b[0mcompounds\u001b[0m\u001b[0;34m,\u001b[0m \u001b[0mreactions\u001b[0m\u001b[0;34m,\u001b[0m \u001b[0mmedia\u001b[0m\u001b[0;34m,\u001b[0m \u001b[0mbiomass_eqn\u001b[0m\u001b[0;34m,\u001b[0m \u001b[0mverbose\u001b[0m\u001b[0;34m)\u001b[0m\u001b[0;34m\u001b[0m\u001b[0m\n\u001b[0m\u001b[1;32m    202\u001b[0m                     \u001b[0mright\u001b[0m \u001b[0;34m=\u001b[0m \u001b[0;34m[\u001b[0m\u001b[0;34m]\u001b[0m\u001b[0;34m\u001b[0m\u001b[0m\n\u001b[1;32m    203\u001b[0m                     \u001b[0mtest\u001b[0m \u001b[0;34m=\u001b[0m \u001b[0mFalse\u001b[0m\u001b[0;34m\u001b[0m\u001b[0m\n",
      "\u001b[0;32m/data/PyFBA/PyFBA/gapfill/reaction_minimization.pyc\u001b[0m in \u001b[0;36miterate_reactions_to_run\u001b[0;34m(base_reactions, optional_reactions, compounds, reactions, media, biomass_eqn, verbose)\u001b[0m\n\u001b[1;32m     94\u001b[0m         \u001b[0mremoved_reaction\u001b[0m \u001b[0;34m=\u001b[0m \u001b[0moptional_reactions\u001b[0m\u001b[0;34m.\u001b[0m\u001b[0mpop\u001b[0m\u001b[0;34m(\u001b[0m\u001b[0;34m)\u001b[0m\u001b[0;34m\u001b[0m\u001b[0m\n\u001b[1;32m     95\u001b[0m         \u001b[0mr2r\u001b[0m \u001b[0;34m=\u001b[0m \u001b[0mbase_reactions\u001b[0m\u001b[0;34m.\u001b[0m\u001b[0munion\u001b[0m\u001b[0;34m(\u001b[0m\u001b[0moptional_reactions\u001b[0m\u001b[0;34m)\u001b[0m\u001b[0;34m.\u001b[0m\u001b[0munion\u001b[0m\u001b[0;34m(\u001b[0m\u001b[0mrequired_optionals\u001b[0m\u001b[0;34m)\u001b[0m\u001b[0;34m\u001b[0m\u001b[0m\n\u001b[0;32m---> 96\u001b[0;31m         \u001b[0mstatus\u001b[0m\u001b[0;34m,\u001b[0m \u001b[0mvalue\u001b[0m\u001b[0;34m,\u001b[0m \u001b[0mgrowth\u001b[0m \u001b[0;34m=\u001b[0m \u001b[0mPyFBA\u001b[0m\u001b[0;34m.\u001b[0m\u001b[0mfba\u001b[0m\u001b[0;34m.\u001b[0m\u001b[0mrun_fba\u001b[0m\u001b[0;34m(\u001b[0m\u001b[0mcompounds\u001b[0m\u001b[0;34m,\u001b[0m \u001b[0mreactions\u001b[0m\u001b[0;34m,\u001b[0m \u001b[0mr2r\u001b[0m\u001b[0;34m,\u001b[0m \u001b[0mmedia\u001b[0m\u001b[0;34m,\u001b[0m \u001b[0mbiomass_eqn\u001b[0m\u001b[0;34m)\u001b[0m\u001b[0;34m\u001b[0m\u001b[0m\n\u001b[0m\u001b[1;32m     97\u001b[0m         \u001b[0;32mif\u001b[0m \u001b[0;32mnot\u001b[0m \u001b[0mgrowth\u001b[0m\u001b[0;34m:\u001b[0m\u001b[0;34m\u001b[0m\u001b[0m\n\u001b[1;32m     98\u001b[0m             \u001b[0mrequired_optionals\u001b[0m\u001b[0;34m.\u001b[0m\u001b[0madd\u001b[0m\u001b[0;34m(\u001b[0m\u001b[0mremoved_reaction\u001b[0m\u001b[0;34m)\u001b[0m\u001b[0;34m\u001b[0m\u001b[0m\n",
      "\u001b[0;32m/data/PyFBA/PyFBA/fba/run_fba.pyc\u001b[0m in \u001b[0;36mrun_fba\u001b[0;34m(compounds, reactions, reactions_to_run, media, biomass_equation, uptake_secretion, verbose)\u001b[0m\n\u001b[1;32m     31\u001b[0m \u001b[0;34m\u001b[0m\u001b[0m\n\u001b[1;32m     32\u001b[0m     cp, rc, reactions = PyFBA.fba.create_stoichiometric_matrix(reactions_to_run, reactions, compounds, media, biomass_equation,\n\u001b[0;32m---> 33\u001b[0;31m                                                      uptake_secretion, verbose=False)\n\u001b[0m\u001b[1;32m     34\u001b[0m \u001b[0;34m\u001b[0m\u001b[0m\n\u001b[1;32m     35\u001b[0m     \u001b[0mrbvals\u001b[0m \u001b[0;34m=\u001b[0m \u001b[0mPyFBA\u001b[0m\u001b[0;34m.\u001b[0m\u001b[0mfba\u001b[0m\u001b[0;34m.\u001b[0m\u001b[0mreaction_bounds\u001b[0m\u001b[0;34m(\u001b[0m\u001b[0mreactions\u001b[0m\u001b[0;34m,\u001b[0m \u001b[0mrc\u001b[0m\u001b[0;34m,\u001b[0m \u001b[0mmedia\u001b[0m\u001b[0;34m)\u001b[0m\u001b[0;34m\u001b[0m\u001b[0m\n",
      "\u001b[0;32m/data/PyFBA/PyFBA/fba/create_stoichiometric_matrix.pyc\u001b[0m in \u001b[0;36mcreate_stoichiometric_matrix\u001b[0;34m(reactions_to_run, reactions, compounds, media, biomass_equation, uptake_secretion, verbose)\u001b[0m\n\u001b[1;32m    119\u001b[0m \u001b[0;34m\u001b[0m\u001b[0m\n\u001b[1;32m    120\u001b[0m     \u001b[0;31m# load the data into the model\u001b[0m\u001b[0;34m\u001b[0m\u001b[0;34m\u001b[0m\u001b[0m\n\u001b[0;32m--> 121\u001b[0;31m     \u001b[0mPyFBA\u001b[0m\u001b[0;34m.\u001b[0m\u001b[0mlp\u001b[0m\u001b[0;34m.\u001b[0m\u001b[0mload\u001b[0m\u001b[0;34m(\u001b[0m\u001b[0mdata\u001b[0m\u001b[0;34m,\u001b[0m \u001b[0mcp\u001b[0m\u001b[0;34m,\u001b[0m \u001b[0mrc\u001b[0m\u001b[0;34m)\u001b[0m\u001b[0;34m\u001b[0m\u001b[0m\n\u001b[0m\u001b[1;32m    122\u001b[0m \u001b[0;34m\u001b[0m\u001b[0m\n\u001b[1;32m    123\u001b[0m     \u001b[0;31m# now set the objective function.It is the biomass_equation\u001b[0m\u001b[0;34m\u001b[0m\u001b[0;34m\u001b[0m\u001b[0m\n",
      "\u001b[0;31mKeyboardInterrupt\u001b[0m: "
     ]
    }
   ],
   "source": [
    "reqd_additional = set()\n",
    "\n",
    "# Begin loop through all gap-filled reactions\n",
    "while added_reactions:\n",
    "    ori = copy.copy(original_reactions_to_run)\n",
    "    ori.update(reqd_additional)\n",
    "    # Test next set of gap-filled reactions\n",
    "    # Each set is based on a method described above\n",
    "    how, new = added_reactions.pop()\n",
    "    sys.stderr.write(\"Testing reactions from {}\\n\".format(how))\n",
    "    \n",
    "    # Get all the other gap-filled reactions we need to add\n",
    "    for tple in added_reactions:\n",
    "        ori.update(tple[1])\n",
    "    \n",
    "    # Use minimization function to determine the minimal\n",
    "    # set of gap-filled reactions from the current method\n",
    "    new_essential = PyFBA.gapfill.minimize_additional_reactions(ori, new, compounds,\n",
    "                                                                reactions, media,\n",
    "                                                                biomass_equation)\n",
    "    sys.stderr.write(\"Saved {} reactions from {}\\n\".format(len(new_essential), how))\n",
    "    for r in new_essential:\n",
    "        sys.stderr.write(r + \"\\n\")\n",
    "    # Record the method used to determine\n",
    "    # how the reaction was gap-filled\n",
    "    for new_r in new_essential:\n",
    "        reactions[new_r].is_gapfilled = True\n",
    "        reactions[new_r].gapfill_method = how\n",
    "    reqd_additional.update(new_essential)\n",
    "\n",
    "# Combine old and new reactions\n",
    "all_reactions = original_reactions_to_run.union(reqd_additional)"
   ]
  },
  {
   "cell_type": "code",
   "execution_count": null,
   "metadata": {},
   "outputs": [],
   "source": [
    "status, value, growth = PyFBA.fba.run_fba(compounds, reactions, all_reactions,\n",
    "                                          media, biomass_equation)\n",
    "print(\"The biomass reaction has a flux of {} --> Growth: {}\".format(value, growth))"
   ]
  }
 ],
 "metadata": {
  "kernelspec": {
   "display_name": "venv",
   "language": "python",
   "name": "venv"
  },
  "language_info": {
   "codemirror_mode": {
    "name": "ipython",
    "version": 3
   },
   "file_extension": ".py",
   "mimetype": "text/x-python",
   "name": "python",
   "nbconvert_exporter": "python",
   "pygments_lexer": "ipython3",
   "version": "3.8.6"
  }
 },
 "nbformat": 4,
 "nbformat_minor": 1
}
